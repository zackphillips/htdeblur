{
 "cells": [
  {
   "cell_type": "markdown",
   "metadata": {},
   "source": [
    "# Reconstruction Sandbox\n",
    "This notebook is a test-bed for regularization and reconstruction methods"
   ]
  },
  {
   "cell_type": "code",
   "execution_count": 18,
   "metadata": {
    "ExecuteTime": {
     "end_time": "2019-03-07T07:02:08.095886Z",
     "start_time": "2019-03-07T07:02:08.051877Z"
    },
    "scrolled": true
   },
   "outputs": [
    {
     "name": "stdout",
     "output_type": "stream",
     "text": [
      "The autoreload extension is already loaded. To reload it, use:\n",
      "  %reload_ext autoreload\n"
     ]
    }
   ],
   "source": [
    "%matplotlib notebook\n",
    "%load_ext autoreload\n",
    "%autoreload 2\n",
    "\n",
    "# Load motiondeblur module and Dataset class\n",
    "import libwallerlab.projects.motiondeblur as md\n",
    "from libwallerlab.utilities.io import Dataset, isDataset\n",
    "from libwallerlab.utilities import registration\n",
    "\n",
    "# Platform imports\n",
    "import os, glob\n",
    "from os.path import expanduser\n",
    "\n",
    "# Debugging imports\n",
    "import llops as yp\n",
    "import matplotlib.pyplot as plt\n",
    "import numpy as np\n",
    "import llops.operators as ops\n",
    "\n",
    "yp.config.setDefaultBackend('numpy')\n",
    "yp.config.setDefaultDatatype('float32')"
   ]
  },
  {
   "cell_type": "markdown",
   "metadata": {},
   "source": [
    "## Load Data"
   ]
  },
  {
   "cell_type": "code",
   "execution_count": 65,
   "metadata": {
    "ExecuteTime": {
     "end_time": "2019-03-07T07:27:22.108184Z",
     "start_time": "2019-03-07T07:27:22.069470Z"
    },
    "scrolled": false
   },
   "outputs": [
    {
     "data": {
      "text/plain": [
       "35"
      ]
     },
     "execution_count": 65,
     "metadata": {},
     "output_type": "execute_result"
    }
   ],
   "source": [
    "# # Beads Data\n",
    "# dataset_path = './'\n",
    "# header = 'beads'\n",
    "# file_list_sns = sorted(glob.glob(os.path.join(dataset_path, '*beads2_raster_45ms_stopandstare_stop_and_stare_2019_02_04_16_43_09strip*.npz')))\n",
    "# len(file_list_sns)\n",
    "\n",
    "# Define user for path setting\n",
    "dataset_path = './'\n",
    "header = 'einstein'\n",
    "file_list_sns = sorted(glob.glob(os.path.join(output_path, '*SNS_strip*.npz')))\n",
    "len(file_list_sns)"
   ]
  },
  {
   "cell_type": "code",
   "execution_count": 66,
   "metadata": {
    "ExecuteTime": {
     "end_time": "2019-03-07T07:27:26.335050Z",
     "start_time": "2019-03-07T07:27:26.288189Z"
    }
   },
   "outputs": [
    {
     "data": {
      "text/plain": [
       "['/Users/zfphil/datasets/motiondeblur/output/163c_SNS_strip=0_regularize=[tv5.0e-04].npz',\n",
       " '/Users/zfphil/datasets/motiondeblur/output/163c_SNS_strip=10_regularize=[tv5.0e-04].npz',\n",
       " '/Users/zfphil/datasets/motiondeblur/output/163c_SNS_strip=11_regularize=[tv5.0e-04].npz',\n",
       " '/Users/zfphil/datasets/motiondeblur/output/163c_SNS_strip=12_regularize=[tv5.0e-04].npz',\n",
       " '/Users/zfphil/datasets/motiondeblur/output/163c_SNS_strip=13_regularize=[tv5.0e-04].npz',\n",
       " '/Users/zfphil/datasets/motiondeblur/output/163c_SNS_strip=14_regularize=[tv5.0e-04].npz',\n",
       " '/Users/zfphil/datasets/motiondeblur/output/163c_SNS_strip=15_regularize=[tv5.0e-04].npz',\n",
       " '/Users/zfphil/datasets/motiondeblur/output/163c_SNS_strip=16_regularize=[tv5.0e-04].npz',\n",
       " '/Users/zfphil/datasets/motiondeblur/output/163c_SNS_strip=17_regularize=[tv5.0e-04].npz',\n",
       " '/Users/zfphil/datasets/motiondeblur/output/163c_SNS_strip=18_regularize=[tv5.0e-04].npz',\n",
       " '/Users/zfphil/datasets/motiondeblur/output/163c_SNS_strip=19_regularize=[tv5.0e-04].npz',\n",
       " '/Users/zfphil/datasets/motiondeblur/output/163c_SNS_strip=1_regularize=[tv5.0e-04].npz',\n",
       " '/Users/zfphil/datasets/motiondeblur/output/163c_SNS_strip=20_regularize=[tv5.0e-04].npz',\n",
       " '/Users/zfphil/datasets/motiondeblur/output/163c_SNS_strip=21_regularize=[tv5.0e-04].npz',\n",
       " '/Users/zfphil/datasets/motiondeblur/output/163c_SNS_strip=22_regularize=[tv5.0e-04].npz',\n",
       " '/Users/zfphil/datasets/motiondeblur/output/163c_SNS_strip=23_regularize=[tv5.0e-04].npz',\n",
       " '/Users/zfphil/datasets/motiondeblur/output/163c_SNS_strip=24_regularize=[tv5.0e-04].npz',\n",
       " '/Users/zfphil/datasets/motiondeblur/output/163c_SNS_strip=25_regularize=[tv5.0e-04].npz',\n",
       " '/Users/zfphil/datasets/motiondeblur/output/163c_SNS_strip=26_regularize=[tv5.0e-04].npz',\n",
       " '/Users/zfphil/datasets/motiondeblur/output/163c_SNS_strip=27_regularize=[tv5.0e-04].npz',\n",
       " '/Users/zfphil/datasets/motiondeblur/output/163c_SNS_strip=28_regularize=[tv5.0e-04].npz',\n",
       " '/Users/zfphil/datasets/motiondeblur/output/163c_SNS_strip=29_regularize=[tv5.0e-04].npz',\n",
       " '/Users/zfphil/datasets/motiondeblur/output/163c_SNS_strip=2_regularize=[tv5.0e-04].npz',\n",
       " '/Users/zfphil/datasets/motiondeblur/output/163c_SNS_strip=30_regularize=[tv5.0e-04].npz',\n",
       " '/Users/zfphil/datasets/motiondeblur/output/163c_SNS_strip=31_regularize=[tv5.0e-04].npz',\n",
       " '/Users/zfphil/datasets/motiondeblur/output/163c_SNS_strip=32_regularize=[tv5.0e-04].npz',\n",
       " '/Users/zfphil/datasets/motiondeblur/output/163c_SNS_strip=33_regularize=[tv5.0e-04].npz',\n",
       " '/Users/zfphil/datasets/motiondeblur/output/163c_SNS_strip=34_regularize=[tv5.0e-04].npz',\n",
       " '/Users/zfphil/datasets/motiondeblur/output/163c_SNS_strip=3_regularize=[tv5.0e-04].npz',\n",
       " '/Users/zfphil/datasets/motiondeblur/output/163c_SNS_strip=4_regularize=[tv5.0e-04].npz',\n",
       " '/Users/zfphil/datasets/motiondeblur/output/163c_SNS_strip=5_regularize=[tv5.0e-04].npz',\n",
       " '/Users/zfphil/datasets/motiondeblur/output/163c_SNS_strip=6_regularize=[tv5.0e-04].npz',\n",
       " '/Users/zfphil/datasets/motiondeblur/output/163c_SNS_strip=7_regularize=[tv5.0e-04].npz',\n",
       " '/Users/zfphil/datasets/motiondeblur/output/163c_SNS_strip=8_regularize=[tv5.0e-04].npz',\n",
       " '/Users/zfphil/datasets/motiondeblur/output/163c_SNS_strip=9_regularize=[tv5.0e-04].npz']"
      ]
     },
     "execution_count": 66,
     "metadata": {},
     "output_type": "execute_result"
    }
   ],
   "source": [
    "file_list_sns"
   ]
  },
  {
   "cell_type": "markdown",
   "metadata": {},
   "source": [
    "## Load Strips"
   ]
  },
  {
   "cell_type": "code",
   "execution_count": 60,
   "metadata": {
    "ExecuteTime": {
     "end_time": "2019-03-07T07:23:08.488155Z",
     "start_time": "2019-03-07T07:22:56.938095Z"
    }
   },
   "outputs": [
    {
     "data": {
      "application/vnd.jupyter.widget-view+json": {
       "model_id": "7a995e3dfb874c8e84672ce6c9fdeec5",
       "version_major": 2,
       "version_minor": 0
      },
      "text/plain": [
       "VBox(children=(HTML(value=''), IntProgress(value=0, max=35)))"
      ]
     },
     "metadata": {},
     "output_type": "display_data"
    }
   ],
   "source": [
    "data_list = []\n",
    "for strip_index in yp.display.progressBar(range(len(file_list_sns)), name='Segments Leaded'):\n",
    "    object_sns = np.load(file_list_sns[strip_index])['object_recovered']\n",
    "    data_list.append(object_sns)"
   ]
  },
  {
   "cell_type": "markdown",
   "metadata": {},
   "source": [
    "## Loop over strips and generate data"
   ]
  },
  {
   "cell_type": "code",
   "execution_count": 61,
   "metadata": {
    "ExecuteTime": {
     "end_time": "2019-03-07T07:23:09.860528Z",
     "start_time": "2019-03-07T07:23:09.827390Z"
    }
   },
   "outputs": [],
   "source": [
    "# Define desired measurement shape\n",
    "measurement_shape = (128, 2048)"
   ]
  },
  {
   "cell_type": "code",
   "execution_count": 62,
   "metadata": {
    "ExecuteTime": {
     "end_time": "2019-03-07T07:23:17.776479Z",
     "start_time": "2019-03-07T07:23:11.215136Z"
    }
   },
   "outputs": [
    {
     "data": {
      "application/vnd.jupyter.widget-view+json": {
       "model_id": "46465b68bd444edd8c6ac454afe35ecf",
       "version_major": 2,
       "version_minor": 0
      },
      "text/plain": [
       "VBox(children=(HTML(value=''), IntProgress(value=0, max=35)))"
      ]
     },
     "metadata": {},
     "output_type": "display_data"
    }
   ],
   "source": [
    "x_list = []\n",
    "for strip_index in yp.display.progressBar(range(len(data_list))):\n",
    "\n",
    "    # Extract strips\n",
    "    x = data_list[strip_index]\n",
    "\n",
    "    # Normalize\n",
    "    x /= yp.scalar(yp.mean(x))\n",
    "\n",
    "    # Compute indicies to section array into\n",
    "    n = [y_sh // m_sh for (m_sh, y_sh) in zip(measurement_shape, yp.shape(x))]\n",
    "    x_indicies = np.arange(measurement_shape[1], yp.shape(x)[1], measurement_shape[1])\n",
    "    y_indicies = np.arange(measurement_shape[0], yp.shape(x)[0], measurement_shape[0])\n",
    "\n",
    "    # Split static (input) array in 2D blocks in x\n",
    "    _x = np.array_split(x, x_indicies, axis=1)[:-1]\n",
    "\n",
    "    # Split static (input) array in 2D blocks in y\n",
    "    for __x in _x:\n",
    "        x_list += np.array_split(__x, y_indicies, axis=0)[:-1]"
   ]
  },
  {
   "cell_type": "code",
   "execution_count": 63,
   "metadata": {
    "ExecuteTime": {
     "end_time": "2019-03-07T07:23:37.180767Z",
     "start_time": "2019-03-07T07:23:20.704650Z"
    }
   },
   "outputs": [
    {
     "data": {
      "application/vnd.jupyter.widget-view+json": {
       "model_id": "d118f034a7c244e0b63606dfa3506bf2",
       "version_major": 2,
       "version_minor": 0
      },
      "text/plain": [
       "VBox(children=(HTML(value=''), IntProgress(value=0, max=4760)))"
      ]
     },
     "metadata": {},
     "output_type": "display_data"
    },
    {
     "name": "stdout",
     "output_type": "stream",
     "text": [
      "Saved 4760 files to /Users/zfphil/datasets/motiondeblur/learning_data_sns\n"
     ]
    }
   ],
   "source": [
    "compress_output = False\n",
    "\n",
    "output_folder = '/Users/zfphil/datasets/motiondeblur/learning_data_sns'\n",
    "\n",
    "if not os.path.exists(output_folder):\n",
    "    os.mkdir(output_folder)\n",
    "    \n",
    "# Save data\n",
    "for index in yp.display.progressBar(range(len(x_list))):\n",
    "    sns = x_list[index]\n",
    "    \n",
    "    # Determine output filename\n",
    "    filename = '%s/%s_subframe=%d.npz' % (output_folder, header, index)\n",
    "    \n",
    "    # Save data\n",
    "    if compress_output:\n",
    "        np.savez_compressed(filename, measurement=sns)\n",
    "    else:\n",
    "        np.savez(filename, measurement=sns)\n",
    "        \n",
    "print('Saved %d files to %s' % (len(x_list), output_folder))"
   ]
  }
 ],
 "metadata": {
  "anaconda-cloud": {},
  "kernelspec": {
   "display_name": "Python 3",
   "language": "python",
   "name": "python3"
  },
  "language_info": {
   "codemirror_mode": {
    "name": "ipython",
    "version": 3
   },
   "file_extension": ".py",
   "mimetype": "text/x-python",
   "name": "python",
   "nbconvert_exporter": "python",
   "pygments_lexer": "ipython3",
   "version": "3.7.1"
  },
  "latex_envs": {
   "LaTeX_envs_menu_present": true,
   "autocomplete": true,
   "bibliofile": "biblio.bib",
   "cite_by": "apalike",
   "current_citInitial": 1,
   "eqLabelWithNumbers": true,
   "eqNumInitial": 0,
   "hotkeys": {
    "equation": "Ctrl-E",
    "itemize": "Ctrl-I"
   },
   "labels_anchors": false,
   "latex_user_defs": false,
   "report_style_numbering": false,
   "user_envs_cfg": false
  },
  "toc": {
   "colors": {
    "hover_highlight": "#DAA520",
    "running_highlight": "#FF0000",
    "selected_highlight": "#FFD700"
   },
   "moveMenuLeft": true,
   "nav_menu": {
    "height": "148px",
    "width": "254px"
   },
   "navigate_menu": true,
   "number_sections": true,
   "sideBar": true,
   "threshold": 4,
   "toc_cell": false,
   "toc_section_display": "block",
   "toc_window_display": false,
   "widenNotebook": false
  },
  "varInspector": {
   "cols": {
    "lenName": 16,
    "lenType": 16,
    "lenVar": 40
   },
   "kernels_config": {
    "python": {
     "delete_cmd_postfix": "",
     "delete_cmd_prefix": "del ",
     "library": "var_list.py",
     "varRefreshCmd": "print(var_dic_list())"
    },
    "r": {
     "delete_cmd_postfix": ") ",
     "delete_cmd_prefix": "rm(",
     "library": "var_list.r",
     "varRefreshCmd": "cat(var_dic_list()) "
    }
   },
   "position": {
    "height": "807px",
    "left": "2098px",
    "right": "20px",
    "top": "144px",
    "width": "341px"
   },
   "types_to_exclude": [
    "module",
    "function",
    "builtin_function_or_method",
    "instance",
    "_Feature"
   ],
   "window_display": true
  }
 },
 "nbformat": 4,
 "nbformat_minor": 2
}
