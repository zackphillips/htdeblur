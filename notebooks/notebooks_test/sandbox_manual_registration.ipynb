{
 "cells": [
  {
   "cell_type": "markdown",
   "metadata": {},
   "source": [
    "# Reconstruction Sandbox\n",
    "This notebook is a test-bed for regularization and reconstruction methods"
   ]
  },
  {
   "cell_type": "code",
   "execution_count": 1,
   "metadata": {
    "ExecuteTime": {
     "end_time": "2018-11-12T20:05:31.726995Z",
     "start_time": "2018-11-12T20:05:28.222943Z"
    },
    "scrolled": true
   },
   "outputs": [],
   "source": [
    "%matplotlib notebook\n",
    "%load_ext autoreload\n",
    "%autoreload 2\n",
    "\n",
    "# Load motiondeblur module and Dataset class\n",
    "import libwallerlab.projects.motiondeblur as md\n",
    "from libwallerlab.utilities.io import Dataset, isDataset\n",
    "\n",
    "# Platform imports\n",
    "import os, glob\n",
    "\n",
    "# Debugging imports\n",
    "import llops as yp\n",
    "import matplotlib.pyplot as plt\n",
    "\n",
    "yp.config.setDefaultBackend('arrayfire')"
   ]
  },
  {
   "cell_type": "markdown",
   "metadata": {},
   "source": [
    "## Load Data"
   ]
  },
  {
   "cell_type": "code",
   "execution_count": 2,
   "metadata": {
    "ExecuteTime": {
     "end_time": "2018-11-12T20:05:34.155531Z",
     "start_time": "2018-11-12T20:05:32.967155Z"
    },
    "scrolled": false
   },
   "outputs": [
    {
     "name": "stdout",
     "output_type": "stream",
     "text": [
      "Loading 1 frames...\n"
     ]
    },
    {
     "name": "stderr",
     "output_type": "stream",
     "text": [
      "/Users/zfphil/.conda/lib/python3.7/site-packages/arrayfire/array.py:157: ComplexWarning: Casting complex values to real discards the imaginary part\n",
      "  c_val = c_double_t(val)\n"
     ]
    }
   ],
   "source": [
    "# Define user for path setting\n",
    "dataset_path = '/Users/zfphil/datasets/motiondeblur/'\n",
    "\n",
    "# Define which dataset to use\n",
    "dataset_type = 'coded'\n",
    "dataset_label =  'res'\n",
    "\n",
    "# Find files in this directory\n",
    "folder_list = glob.glob(os.path.join(dataset_path, '*/'))\n",
    "dataset_list = [folder for folder in folder_list if isDataset(folder)]\n",
    "\n",
    "# Filter datasets in directory\n",
    "filtered_dataset_list = [folder_name for folder_name in folder_list if (dataset_type in folder_name) and (dataset_label in folder_name)]\n",
    "assert not len(filtered_dataset_list) > 1, \"More than one dataset with criterion found!\"\n",
    "assert not len(filtered_dataset_list) == 0, \"No dataset with criterion found!\"\n",
    "\n",
    "# Create dataset object (loads metadata)\n",
    "dataset = Dataset(filtered_dataset_list[0])\n",
    "\n",
    "# Force type to be motiondeblur\n",
    "dataset.metadata.type = 'motiondeblur'\n",
    "\n",
    "# Select green channel\n",
    "dataset.channel_mask = [0]\n",
    "\n",
    "# Preprocess dataset (md-specific)\n",
    "md.preprocess(dataset)"
   ]
  },
  {
   "cell_type": "markdown",
   "metadata": {
    "ExecuteTime": {
     "end_time": "2018-10-25T16:33:36.818052Z",
     "start_time": "2018-10-25T16:33:36.687322Z"
    }
   },
   "source": [
    "# Create Reconstruction Object"
   ]
  },
  {
   "cell_type": "code",
   "execution_count": 16,
   "metadata": {
    "ExecuteTime": {
     "end_time": "2018-11-12T20:26:13.865284Z",
     "start_time": "2018-11-12T20:26:13.429158Z"
    },
    "scrolled": true
   },
   "outputs": [
    {
     "data": {
      "text/plain": [
       "[1.0, 1.0285789, 1.0989231]"
      ]
     },
     "execution_count": 16,
     "metadata": {},
     "output_type": "execute_result"
    }
   ],
   "source": [
    "# Set position segment\n",
    "# dataset.position_segment_indicies = [3]\n",
    "dataset.frame_mask = [20, 21, 22]\n",
    "\n",
    "# Create recon object\n",
    "recon = md.recon.Reconstruction(dataset, alpha_blend_distance=0, pad_mode='edge')\n",
    "\n",
    "# Apply frame-dependent position offset\n",
    "# recon.applyFrameDependentOffset(offset=26)\n",
    "\n",
    "# Apply frame lateral offset\n",
    "# recon.applySegmentDependentOffset()\n",
    "\n",
    "# Normalize measurements\n",
    "recon.normalize_measurements()\n",
    "\n",
    "# Register Measurements\n",
    "# offsets = recon.register_measurements(method='xc', preprocess_methods=['normalize', 'highpass'], axis=1, debug=False, write_results=True)"
   ]
  },
  {
   "cell_type": "markdown",
   "metadata": {},
   "source": [
    "## Sweep Offset"
   ]
  },
  {
   "cell_type": "code",
   "execution_count": 12,
   "metadata": {
    "ExecuteTime": {
     "end_time": "2018-11-12T20:15:26.711639Z",
     "start_time": "2018-11-12T20:14:50.065078Z"
    },
    "scrolled": false
   },
   "outputs": [
    {
     "data": {
      "application/vnd.jupyter.widget-view+json": {
       "model_id": "",
       "version_major": 2,
       "version_minor": 0
      },
      "text/plain": [
       "VBox(children=(HTML(value=''), IntProgress(value=0)))"
      ]
     },
     "metadata": {},
     "output_type": "display_data"
    }
   ],
   "source": [
    "recon_list = []\n",
    "for _ in yp.display.progressBar(range(0, 100)):\n",
    "    recon.applyFrameDependentOffset(offset=1)\n",
    "    recon.reconstruct(iteration_count=-1, step_size=1, mode='global', reg_types={'l2': 1e-3, 'tv': 1e-3})\n",
    "    recon_list.append(recon.object_recovered)\n",
    "#     recon.applyFrameDependentOffset(offset=-offset)\n",
    "# # recon.show()\n",
    "# plt.figure()\n",
    "# plt.imshow(yp.real(recon.object_recovered)[200:500, 1200:1700])\n",
    "\n",
    "# yp.display.listPlotScroll(recon_list)"
   ]
  },
  {
   "cell_type": "code",
   "execution_count": null,
   "metadata": {},
   "outputs": [],
   "source": [
    "yp.display.listPlotScroll(recon_list)"
   ]
  }
 ],
 "metadata": {
  "anaconda-cloud": {},
  "kernelspec": {
   "display_name": "Python 3",
   "language": "python",
   "name": "python3"
  },
  "language_info": {
   "codemirror_mode": {
    "name": "ipython",
    "version": 3
   },
   "file_extension": ".py",
   "mimetype": "text/x-python",
   "name": "python",
   "nbconvert_exporter": "python",
   "pygments_lexer": "ipython3",
   "version": "3.7.0"
  },
  "latex_envs": {
   "LaTeX_envs_menu_present": true,
   "autocomplete": true,
   "bibliofile": "biblio.bib",
   "cite_by": "apalike",
   "current_citInitial": 1,
   "eqLabelWithNumbers": true,
   "eqNumInitial": 0,
   "hotkeys": {
    "equation": "Ctrl-E",
    "itemize": "Ctrl-I"
   },
   "labels_anchors": false,
   "latex_user_defs": false,
   "report_style_numbering": false,
   "user_envs_cfg": false
  },
  "toc": {
   "colors": {
    "hover_highlight": "#DAA520",
    "running_highlight": "#FF0000",
    "selected_highlight": "#FFD700"
   },
   "moveMenuLeft": true,
   "nav_menu": {
    "height": "148px",
    "width": "254px"
   },
   "navigate_menu": true,
   "number_sections": true,
   "sideBar": true,
   "threshold": 4,
   "toc_cell": false,
   "toc_section_display": "block",
   "toc_window_display": false,
   "widenNotebook": false
  },
  "varInspector": {
   "cols": {
    "lenName": 16,
    "lenType": 16,
    "lenVar": 40
   },
   "kernels_config": {
    "python": {
     "delete_cmd_postfix": "",
     "delete_cmd_prefix": "del ",
     "library": "var_list.py",
     "varRefreshCmd": "print(var_dic_list())"
    },
    "r": {
     "delete_cmd_postfix": ") ",
     "delete_cmd_prefix": "rm(",
     "library": "var_list.r",
     "varRefreshCmd": "cat(var_dic_list()) "
    }
   },
   "position": {
    "height": "807px",
    "left": "2098px",
    "right": "20px",
    "top": "144px",
    "width": "341px"
   },
   "types_to_exclude": [
    "module",
    "function",
    "builtin_function_or_method",
    "instance",
    "_Feature"
   ],
   "window_display": true
  }
 },
 "nbformat": 4,
 "nbformat_minor": 2
}
