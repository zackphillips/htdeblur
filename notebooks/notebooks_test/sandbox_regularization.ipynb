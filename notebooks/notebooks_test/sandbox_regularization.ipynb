{
 "cells": [
  {
   "cell_type": "markdown",
   "metadata": {},
   "source": [
    "# Regularization Sandbox\n",
    "This notebook is a test-bed for regularization and reconstruction methods"
   ]
  },
  {
   "cell_type": "code",
   "execution_count": 1,
   "metadata": {
    "ExecuteTime": {
     "end_time": "2018-11-08T22:55:36.713166Z",
     "start_time": "2018-11-08T22:55:32.814118Z"
    },
    "scrolled": true
   },
   "outputs": [],
   "source": [
    "%matplotlib notebook\n",
    "%load_ext autoreload\n",
    "%autoreload 2\n",
    "\n",
    "# Load motiondeblur module and Dataset class\n",
    "import libwallerlab.projects.motiondeblur as md\n",
    "from libwallerlab.utilities.io import Dataset, isDataset\n",
    "\n",
    "# Platform imports\n",
    "import os, glob\n",
    "\n",
    "# Debugging imports\n",
    "import llops as yp\n",
    "import matplotlib.pyplot as plt\n",
    "\n",
    "yp.config.setDefaultBackend('arrayfire')"
   ]
  },
  {
   "cell_type": "markdown",
   "metadata": {},
   "source": [
    "## Load Data"
   ]
  },
  {
   "cell_type": "code",
   "execution_count": 2,
   "metadata": {
    "ExecuteTime": {
     "end_time": "2018-11-08T22:55:39.984166Z",
     "start_time": "2018-11-08T22:55:38.881397Z"
    },
    "scrolled": false
   },
   "outputs": [
    {
     "name": "stdout",
     "output_type": "stream",
     "text": [
      "Loading 1 frames...\n"
     ]
    },
    {
     "name": "stderr",
     "output_type": "stream",
     "text": [
      "/Users/zfphil/.conda/lib/python3.7/site-packages/arrayfire/array.py:157: ComplexWarning: Casting complex values to real discards the imaginary part\n",
      "  c_val = c_double_t(val)\n"
     ]
    }
   ],
   "source": [
    "# Define user for path setting\n",
    "dataset_path = '/Users/zfphil/datasets/motiondeblur/'\n",
    "\n",
    "# Define which dataset to use\n",
    "dataset_type = 'coded'\n",
    "dataset_label =  'res'\n",
    "\n",
    "# Find files in this directory\n",
    "folder_list = glob.glob(os.path.join(dataset_path, '*/'))\n",
    "dataset_list = [folder for folder in folder_list if isDataset(folder)]\n",
    "\n",
    "# Filter datasets in directory\n",
    "filtered_dataset_list = [folder_name for folder_name in folder_list if (dataset_type in folder_name) and (dataset_label in folder_name)]\n",
    "assert not len(filtered_dataset_list) > 1, \"More than one dataset with criterion found!\"\n",
    "assert not len(filtered_dataset_list) == 0, \"No dataset with criterion found!\"\n",
    "\n",
    "# Create dataset object (loads metadata)\n",
    "dataset = Dataset(filtered_dataset_list[0])\n",
    "\n",
    "# Force type to be motiondeblur\n",
    "dataset.metadata.type = 'motiondeblur'\n",
    "\n",
    "# Select green channel\n",
    "dataset.channel_mask = [0]\n",
    "\n",
    "# Preprocess dataset (md-specific)\n",
    "md.preprocess(dataset)"
   ]
  },
  {
   "cell_type": "markdown",
   "metadata": {
    "ExecuteTime": {
     "end_time": "2018-10-25T16:33:36.818052Z",
     "start_time": "2018-10-25T16:33:36.687322Z"
    }
   },
   "source": [
    "# Create Reconstruction Object"
   ]
  },
  {
   "cell_type": "code",
   "execution_count": 3,
   "metadata": {
    "ExecuteTime": {
     "end_time": "2018-11-08T22:55:44.102435Z",
     "start_time": "2018-11-08T22:55:42.929748Z"
    },
    "scrolled": true
   },
   "outputs": [
    {
     "name": "stdout",
     "output_type": "stream",
     "text": [
      "Loading 3 frames...\n",
      "[array([0., 0.]), array([0., 0.]), array([0., 0.])]\n"
     ]
    }
   ],
   "source": [
    "# Set position segment\n",
    "dataset.frame_mask = [20,21,22]\n",
    "\n",
    "# Create recon object\n",
    "recon = md.recon.Reconstruction(dataset, alpha_blend_distance=0)\n",
    "\n",
    "# Normalize Measurements\n",
    "scale = recon.normalize_measurements()\n",
    "\n",
    "# Register Measurements\n",
    "offsets = recon.register_measurements(method='xc', preprocess_methods=['normalize', 'highpass'], axis=1, debug=False, write_results=True)\n",
    "print(offsets)"
   ]
  },
  {
   "cell_type": "markdown",
   "metadata": {},
   "source": [
    "## Stitch Measurements Together"
   ]
  },
  {
   "cell_type": "code",
   "execution_count": null,
   "metadata": {
    "ExecuteTime": {
     "end_time": "2018-11-08T05:22:22.568971Z",
     "start_time": "2018-11-08T05:22:22.438833Z"
    },
    "scrolled": true
   },
   "outputs": [],
   "source": [
    "recon.reconstruct(iteration_count=-1, mode='static')\n",
    "recon.show()"
   ]
  },
  {
   "cell_type": "markdown",
   "metadata": {},
   "source": [
    "## Perform Unregularized Sequential Recon"
   ]
  },
  {
   "cell_type": "code",
   "execution_count": null,
   "metadata": {},
   "outputs": [],
   "source": []
  },
  {
   "cell_type": "code",
   "execution_count": null,
   "metadata": {
    "ExecuteTime": {
     "end_time": "2018-11-08T05:23:29.254520Z",
     "start_time": "2018-11-08T05:23:12.344995Z"
    },
    "scrolled": true
   },
   "outputs": [],
   "source": [
    "recon.reconstruct(iteration_count=100, step_size=1, mode='sequential')\n",
    "recon.show()"
   ]
  },
  {
   "cell_type": "markdown",
   "metadata": {},
   "source": [
    "## Perform Unregularized Global Recon"
   ]
  },
  {
   "cell_type": "code",
   "execution_count": null,
   "metadata": {
    "ExecuteTime": {
     "end_time": "2018-11-08T05:24:07.857493Z",
     "start_time": "2018-11-08T05:23:58.342722Z"
    }
   },
   "outputs": [],
   "source": [
    "recon.reconstruct(iteration_count=100, step_size=1, mode='global')\n",
    "recon.show()"
   ]
  },
  {
   "cell_type": "markdown",
   "metadata": {},
   "source": [
    "## Perform Single-Frame Recon"
   ]
  },
  {
   "cell_type": "code",
   "execution_count": null,
   "metadata": {
    "ExecuteTime": {
     "end_time": "2018-11-08T05:24:19.898335Z",
     "start_time": "2018-11-08T05:24:14.385022Z"
    }
   },
   "outputs": [],
   "source": [
    "recon.reconstruct(iteration_count=100, step_size=1, mode='single', frame_number=1, reg_types={'l2': 1e-6})\n",
    "recon.show()"
   ]
  },
  {
   "cell_type": "markdown",
   "metadata": {},
   "source": [
    "## TV Regularization"
   ]
  },
  {
   "cell_type": "code",
   "execution_count": null,
   "metadata": {
    "ExecuteTime": {
     "end_time": "2018-11-02T16:26:40.725317Z",
     "start_time": "2018-11-02T16:26:18.916438Z"
    }
   },
   "outputs": [],
   "source": [
    "recon.reconstruct(iteration_count=10, step_size=1, reg_types={'tv':1e-1})\n",
    "recon.show()\n",
    "\n",
    "recon.save('/Users/zfphil/Desktop/', filename='tv', formats=['png'])"
   ]
  },
  {
   "cell_type": "markdown",
   "metadata": {},
   "source": [
    "## L2 Regularization"
   ]
  },
  {
   "cell_type": "code",
   "execution_count": null,
   "metadata": {
    "ExecuteTime": {
     "end_time": "2018-11-02T16:29:00.290428Z",
     "start_time": "2018-11-02T16:29:00.263988Z"
    }
   },
   "outputs": [],
   "source": [
    "import prox_tv\n",
    "import numpy as np"
   ]
  },
  {
   "cell_type": "code",
   "execution_count": null,
   "metadata": {},
   "outputs": [],
   "source": [
    "'dr' - Douglas Rachford splitting.\n",
    "'pd' - Proximal Dykstra splitting.\n",
    "'yang' - Yang’s algorithm.\n",
    "'condat' - Condat’s gradient.\n",
    "'chambolle-pock' - Chambolle-Pock’s gradient."
   ]
  },
  {
   "cell_type": "markdown",
   "metadata": {},
   "source": [
    "dr: 8s\n",
    "pd:7s"
   ]
  },
  {
   "cell_type": "code",
   "execution_count": null,
   "metadata": {
    "ExecuteTime": {
     "end_time": "2018-11-02T16:29:34.419619Z",
     "start_time": "2018-11-02T16:29:24.372271Z"
    }
   },
   "outputs": [],
   "source": [
    "q = prox_tv.tv1_2d(np.asarray(recon.object_recovered), 0.3, method='pd', n_threads=8)"
   ]
  },
  {
   "cell_type": "code",
   "execution_count": null,
   "metadata": {
    "ExecuteTime": {
     "end_time": "2018-11-02T16:29:35.105306Z",
     "start_time": "2018-11-02T16:29:35.047680Z"
    }
   },
   "outputs": [],
   "source": [
    "plt.figure()\n",
    "plt.imshow(yp.real(q))"
   ]
  },
  {
   "cell_type": "code",
   "execution_count": null,
   "metadata": {
    "ExecuteTime": {
     "end_time": "2018-11-02T16:19:36.115767Z",
     "start_time": "2018-11-02T16:19:28.054672Z"
    }
   },
   "outputs": [],
   "source": []
  },
  {
   "cell_type": "code",
   "execution_count": null,
   "metadata": {
    "ExecuteTime": {
     "end_time": "2018-11-02T13:04:49.993870Z",
     "start_time": "2018-11-02T13:04:26.943242Z"
    },
    "scrolled": true
   },
   "outputs": [],
   "source": [
    "recon.reconstruct(iteration_count=100, step_size=1, reg_types={'l2': 1e-5})\n",
    "recon.show()\n",
    "\n",
    "recon.save('/Users/zfphil/Desktop/', filename='l2', formats=['png'])"
   ]
  },
  {
   "cell_type": "markdown",
   "metadata": {},
   "source": [
    "## TV (Using RED)"
   ]
  },
  {
   "cell_type": "code",
   "execution_count": null,
   "metadata": {
    "ExecuteTime": {
     "end_time": "2018-11-02T14:40:25.544518Z",
     "start_time": "2018-11-02T14:32:58.044399Z"
    },
    "scrolled": false
   },
   "outputs": [],
   "source": [
    "recon.reconstruct(iteration_count=100, step_size=1, reg_types={'tv_wavelet': 1e-1, 'weight': 1.0})\n",
    "recon.show()\n",
    "\n",
    "recon.save('/Users/zfphil/Desktop/', filename='tv_bregman', formats=['png'])"
   ]
  },
  {
   "cell_type": "markdown",
   "metadata": {},
   "source": [
    "## Bilateral Filter (Using RED)"
   ]
  },
  {
   "cell_type": "code",
   "execution_count": null,
   "metadata": {
    "ExecuteTime": {
     "end_time": "2018-11-02T13:39:36.480662Z",
     "start_time": "2018-11-02T13:37:32.023918Z"
    },
    "scrolled": true
   },
   "outputs": [],
   "source": [
    "recon.reconstruct(iteration_count=100, step_size=1, reg_types={'bilateral': 1e-2})\n",
    "recon.show()\n",
    "\n",
    "recon.save('/Users/zfphil/Desktop/', filename='bilateral', formats=['png'])"
   ]
  },
  {
   "cell_type": "markdown",
   "metadata": {},
   "source": [
    "## Median Filter (Using RED)"
   ]
  },
  {
   "cell_type": "code",
   "execution_count": null,
   "metadata": {
    "ExecuteTime": {
     "end_time": "2018-11-02T13:52:37.568238Z",
     "start_time": "2018-11-02T13:47:14.765916Z"
    }
   },
   "outputs": [],
   "source": [
    "recon.reconstruct(iteration_count=100, step_size=1e-5, reg_types={'median': 1e-1})\n",
    "recon.show()\n",
    "\n",
    "recon.save('/Users/zfphil/Desktop/', filename='median', formats=['png'])"
   ]
  },
  {
   "cell_type": "markdown",
   "metadata": {},
   "source": [
    "## Wavelet Sparsity"
   ]
  },
  {
   "cell_type": "code",
   "execution_count": null,
   "metadata": {
    "ExecuteTime": {
     "end_time": "2018-11-02T14:29:34.742682Z",
     "start_time": "2018-11-02T14:21:02.170000Z"
    }
   },
   "outputs": [],
   "source": [
    "recon.reconstruct(iteration_count=400, step_size=1, reg_types={'wavelet': 1e-2})\n",
    "recon.show()\n",
    "\n",
    "recon.save('/Users/zfphil/Desktop/', filename='wavelet', formats=['png'])"
   ]
  },
  {
   "cell_type": "markdown",
   "metadata": {},
   "source": [
    "## Native Sparsity"
   ]
  },
  {
   "cell_type": "code",
   "execution_count": null,
   "metadata": {
    "ExecuteTime": {
     "end_time": "2018-11-02T14:15:48.259086Z",
     "start_time": "2018-11-02T14:15:26.340590Z"
    }
   },
   "outputs": [],
   "source": [
    "recon.reconstruct(iteration_count=100, step_size=1, reg_types={'l1': 1e-1})\n",
    "recon.show()\n",
    "\n",
    "recon.save('/Users/zfphil/Desktop/', filename='l1', formats=['png'])"
   ]
  },
  {
   "cell_type": "markdown",
   "metadata": {},
   "source": [
    "## Fourier Sparsity"
   ]
  },
  {
   "cell_type": "code",
   "execution_count": null,
   "metadata": {
    "ExecuteTime": {
     "end_time": "2018-11-02T14:19:51.787328Z",
     "start_time": "2018-11-02T14:19:44.652951Z"
    }
   },
   "outputs": [],
   "source": [
    "recon.reconstruct(iteration_count=100, step_size=1e-3, reg_types={'l1F': 1e-2})\n",
    "recon.show()\n",
    "\n",
    "recon.save('/Users/zfphil/Desktop/', filename='l1', formats=['png'])"
   ]
  }
 ],
 "metadata": {
  "anaconda-cloud": {},
  "kernelspec": {
   "display_name": "Python 3",
   "language": "python",
   "name": "python3"
  },
  "language_info": {
   "codemirror_mode": {
    "name": "ipython",
    "version": 3
   },
   "file_extension": ".py",
   "mimetype": "text/x-python",
   "name": "python",
   "nbconvert_exporter": "python",
   "pygments_lexer": "ipython3",
   "version": "3.7.0"
  },
  "latex_envs": {
   "LaTeX_envs_menu_present": true,
   "autocomplete": true,
   "bibliofile": "biblio.bib",
   "cite_by": "apalike",
   "current_citInitial": 1,
   "eqLabelWithNumbers": true,
   "eqNumInitial": 0,
   "hotkeys": {
    "equation": "Ctrl-E",
    "itemize": "Ctrl-I"
   },
   "labels_anchors": false,
   "latex_user_defs": false,
   "report_style_numbering": false,
   "user_envs_cfg": false
  },
  "toc": {
   "colors": {
    "hover_highlight": "#DAA520",
    "running_highlight": "#FF0000",
    "selected_highlight": "#FFD700"
   },
   "moveMenuLeft": true,
   "nav_menu": {
    "height": "148px",
    "width": "254px"
   },
   "navigate_menu": true,
   "number_sections": true,
   "sideBar": true,
   "threshold": 4,
   "toc_cell": false,
   "toc_section_display": "block",
   "toc_window_display": false,
   "widenNotebook": false
  },
  "varInspector": {
   "cols": {
    "lenName": 16,
    "lenType": 16,
    "lenVar": 40
   },
   "kernels_config": {
    "python": {
     "delete_cmd_postfix": "",
     "delete_cmd_prefix": "del ",
     "library": "var_list.py",
     "varRefreshCmd": "print(var_dic_list())"
    },
    "r": {
     "delete_cmd_postfix": ") ",
     "delete_cmd_prefix": "rm(",
     "library": "var_list.r",
     "varRefreshCmd": "cat(var_dic_list()) "
    }
   },
   "position": {
    "height": "807px",
    "left": "2098px",
    "right": "20px",
    "top": "144px",
    "width": "341px"
   },
   "types_to_exclude": [
    "module",
    "function",
    "builtin_function_or_method",
    "instance",
    "_Feature"
   ],
   "window_display": true
  }
 },
 "nbformat": 4,
 "nbformat_minor": 2
}
