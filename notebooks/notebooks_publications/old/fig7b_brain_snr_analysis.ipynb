{
 "cells": [
  {
   "cell_type": "code",
   "execution_count": null,
   "metadata": {
    "ExecuteTime": {
     "end_time": "2018-12-16T06:12:45.282659Z",
     "start_time": "2018-12-16T06:12:41.624883Z"
    }
   },
   "outputs": [],
   "source": [
    "%matplotlib notebook\n",
    "%load_ext autoreload\n",
    "%autoreload 2\n",
    "\n",
    "# Load motiondeblur module and Dataset class\n",
    "import libwallerlab.projects.motiondeblur as md\n",
    "from libwallerlab.utilities.io import Dataset, isDataset\n",
    "from libwallerlab.utilities import noise\n",
    "\n",
    "# Platform imports\n",
    "import os, glob\n",
    "from os.path import expanduser\n",
    "\n",
    "# Debugging imports\n",
    "import llops as yp\n",
    "import matplotlib.pyplot as plt\n",
    "import numpy as np\n",
    "\n",
    "yp.config.setDefaultBackend('numpy')\n",
    "yp.config.setDefaultDatatype('float32')"
   ]
  },
  {
   "cell_type": "markdown",
   "metadata": {},
   "source": [
    "## Load Data"
   ]
  },
  {
   "cell_type": "code",
   "execution_count": null,
   "metadata": {
    "ExecuteTime": {
     "end_time": "2018-12-16T06:12:46.354849Z",
     "start_time": "2018-12-16T06:12:46.326477Z"
    }
   },
   "outputs": [],
   "source": [
    "coded_unreg_archive = np.load('/Users/zfphil/datasets/motiondeblur/output/res_target_color_coded_raster_motiondeblur_2018_05_22_19_17_45_unreg_strip=3_regularize=[].npz')\n",
    "coded_reg_archive = np.load('/Users/zfphil/datasets/motiondeblur/output/res_target_color_coded_raster_motiondeblur_2018_05_22_19_17_45_reg_strip=3_regularize=[tv3.0e-04].npz')"
   ]
  },
  {
   "cell_type": "code",
   "execution_count": null,
   "metadata": {
    "ExecuteTime": {
     "end_time": "2018-12-16T06:12:47.671227Z",
     "start_time": "2018-12-16T06:12:47.338874Z"
    }
   },
   "outputs": [],
   "source": [
    "coded_unreg = np.real(coded_unreg_archive['object_recovered'])\n",
    "coded_reg = np.real(coded_reg_archive['object_recovered'])\n",
    "coded_raw = np.real(coded_reg_archive['y'])\n",
    "\n",
    "plt.figure(figsize=(12,7))\n",
    "plt.subplot(311)\n",
    "plt.imshow(coded_raw)\n",
    "plt.subplot(312)\n",
    "plt.imshow(coded_reg)\n",
    "plt.subplot(313)\n",
    "plt.imshow(coded_unreg)"
   ]
  },
  {
   "cell_type": "code",
   "execution_count": null,
   "metadata": {
    "ExecuteTime": {
     "end_time": "2018-12-16T06:15:24.267926Z",
     "start_time": "2018-12-16T06:15:24.224163Z"
    }
   },
   "outputs": [],
   "source": [
    "plt.figure()\n",
    "plt.imshow(crop_reg)"
   ]
  },
  {
   "cell_type": "code",
   "execution_count": null,
   "metadata": {
    "ExecuteTime": {
     "end_time": "2018-12-16T06:14:59.156660Z",
     "start_time": "2018-12-16T06:14:59.089090Z"
    }
   },
   "outputs": [],
   "source": [
    "roi_recovered_center = yp.Roi(start=(279,2644), shape=(400,400))\n",
    "roi_raw_center = yp.Roi(start=(280,2426), shape=(400,400))\n",
    "\n",
    "crop_raw_center = coded_raw[roi_raw_center.slice]\n",
    "crop_reg_center = coded_reg[roi_recovered_center.slice]\n",
    "crop_unreg_center = coded_unreg[roi_recovered_center.slice]\n",
    "\n",
    "plt.figure(figsize=(12,7))\n",
    "plt.subplot(131)\n",
    "plt.imshow(crop_raw_center)\n",
    "plt.subplot(132)\n",
    "plt.imshow(crop_reg_center)\n",
    "plt.subplot(133)\n",
    "plt.imshow(crop_unreg_center)"
   ]
  },
  {
   "cell_type": "code",
   "execution_count": null,
   "metadata": {
    "ExecuteTime": {
     "end_time": "2018-12-16T06:24:47.035244Z",
     "start_time": "2018-12-16T06:24:46.962638Z"
    }
   },
   "outputs": [],
   "source": [
    "roi_recovered = yp.Roi(start=(750,2600), shape=(100,100))\n",
    "roi_raw = yp.Roi(start=(770,2420), shape=(100,100))\n",
    "\n",
    "crop_raw = coded_raw[roi_raw.slice]\n",
    "crop_reg = coded_reg[roi_recovered.slice]\n",
    "crop_unreg = coded_unreg[roi_recovered.slice]\n",
    "\n",
    "snr_raw = noise.snr(crop_raw)\n",
    "snr_reg = noise.snr(crop_reg)\n",
    "snr_unreg = noise.snr(crop_unreg)\n",
    "\n",
    "print(snr_raw)\n",
    "print(snr_reg)\n",
    "print(snr_unreg)\n",
    "\n",
    "cnr_raw = noise.cnr(coded_raw, noise_roi=roi_raw)\n",
    "cnr_reg = noise.cnr(coded_reg, noise_roi=roi_recovered)\n",
    "cnr_unreg = noise.cnr(coded_unreg, noise_roi=roi_recovered)\n",
    "\n",
    "print(cnr_raw)\n",
    "print(cnr_reg)\n",
    "print(cnr_unreg)"
   ]
  },
  {
   "cell_type": "code",
   "execution_count": null,
   "metadata": {
    "ExecuteTime": {
     "end_time": "2018-12-16T06:26:57.516739Z",
     "start_time": "2018-12-16T06:26:57.488793Z"
    }
   },
   "outputs": [],
   "source": [
    "np.std(crop_unreg)"
   ]
  },
  {
   "cell_type": "markdown",
   "metadata": {},
   "source": [
    "## Strobed"
   ]
  },
  {
   "cell_type": "code",
   "execution_count": null,
   "metadata": {
    "ExecuteTime": {
     "end_time": "2018-12-16T06:15:42.415821Z",
     "start_time": "2018-12-16T06:15:42.389432Z"
    }
   },
   "outputs": [],
   "source": [
    "strobed_unreg_archive = np.load('/Users/zfphil/datasets/motiondeblur/output/res_target_color_strobe_raster_motiondeblur_2018_05_22_19_17_18_unreg_strip=3_regularize=[].npz')\n",
    "strobed_reg_archive = np.load('/Users/zfphil/datasets/motiondeblur/output/res_target_color_strobe_raster_motiondeblur_2018_05_22_19_17_18_reg_strip=3_regularize=[].npz')"
   ]
  },
  {
   "cell_type": "code",
   "execution_count": null,
   "metadata": {
    "ExecuteTime": {
     "end_time": "2018-12-16T06:15:42.998933Z",
     "start_time": "2018-12-16T06:15:42.692219Z"
    }
   },
   "outputs": [],
   "source": [
    "strobed_unreg = np.real(strobed_unreg_archive['object_recovered'])\n",
    "strobed_reg = np.real(strobed_reg_archive['object_recovered'])\n",
    "strobed_raw = np.real(strobed_unreg_archive['y'])\n",
    "\n",
    "plt.figure(figsize=(12,7))\n",
    "plt.subplot(311)\n",
    "plt.imshow(strobed_raw)\n",
    "plt.subplot(312)\n",
    "plt.imshow(strobed_reg)\n",
    "plt.subplot(313)\n",
    "plt.imshow(strobed_unreg)"
   ]
  },
  {
   "cell_type": "code",
   "execution_count": null,
   "metadata": {
    "ExecuteTime": {
     "end_time": "2018-12-16T06:24:15.173662Z",
     "start_time": "2018-12-16T06:24:15.109112Z"
    }
   },
   "outputs": [],
   "source": [
    "roi_recovered_center = yp.Roi(start=(268,1604), shape=(400,400))\n",
    "roi_raw_center = yp.Roi(start=(268,1555), shape=(400,400))\n",
    "\n",
    "crop_raw_center = strobed_raw[roi_raw_center.slice]\n",
    "crop_reg_center = strobed_reg[roi_raw_center.slice]\n",
    "crop_unreg_center = strobed_unreg[roi_recovered_center.slice]\n",
    "\n",
    "plt.figure(figsize=(12,7))\n",
    "plt.subplot(131)\n",
    "plt.imshow(crop_raw_center)\n",
    "plt.subplot(132)\n",
    "plt.imshow(crop_reg_center)\n",
    "plt.subplot(133)\n",
    "plt.imshow(crop_unreg_center)"
   ]
  },
  {
   "cell_type": "code",
   "execution_count": null,
   "metadata": {
    "ExecuteTime": {
     "end_time": "2018-12-16T06:24:40.108898Z",
     "start_time": "2018-12-16T06:24:40.081348Z"
    }
   },
   "outputs": [],
   "source": [
    "(np.std(crop_unreg))"
   ]
  },
  {
   "cell_type": "code",
   "execution_count": null,
   "metadata": {
    "ExecuteTime": {
     "end_time": "2018-12-16T06:24:22.234120Z",
     "start_time": "2018-12-16T06:24:22.171410Z"
    }
   },
   "outputs": [],
   "source": [
    "roi_recovered = yp.Roi(start=(750,2600), shape=(100,100))\n",
    "roi_raw = yp.Roi(start=(770,2420), shape=(100,100))\n",
    "\n",
    "crop_raw = strobed_raw[roi_raw.slice]\n",
    "crop_reg = strobed_reg[roi_recovered.slice]\n",
    "crop_unreg = strobed_unreg[roi_recovered.slice]\n",
    "\n",
    "snr_raw = np.mean(crop_raw) / np.std(crop_raw)\n",
    "snr_reg = np.mean(crop_reg) / np.std(crop_reg)\n",
    "snr_unreg = np.mean(crop_unreg) / np.std(crop_unreg)\n",
    "\n",
    "print(snr_raw)\n",
    "print(snr_reg)\n",
    "print(snr_unreg)\n",
    "\n",
    "cnr_raw = noise.cnr(strobed_raw, noise_roi=roi_raw)\n",
    "cnr_reg = noise.cnr(strobed_reg, noise_roi=roi_recovered)\n",
    "cnr_unreg = noise.cnr(strobed_unreg, noise_roi=roi_recovered)\n",
    "\n",
    "print(cnr_raw)\n",
    "print(cnr_reg)\n",
    "print(cnr_unreg)"
   ]
  },
  {
   "cell_type": "markdown",
   "metadata": {},
   "source": [
    "## Brain Strobed"
   ]
  },
  {
   "cell_type": "code",
   "execution_count": null,
   "metadata": {
    "ExecuteTime": {
     "end_time": "2018-12-15T22:52:08.164810Z",
     "start_time": "2018-12-15T22:52:08.081862Z"
    }
   },
   "outputs": [],
   "source": [
    "brain_strobed_unreg_archive = np.load('/Users/zfphil/datasets/motiondeblur/output/163c_color_strobe_raster_motiondeblur_2018_05_23_08_45_03unreg_strip=10_regularize=[].npz')\n",
    "brain_strobed_reg_archive = np.load('/Users/zfphil/datasets/motiondeblur/output/163c_color_strobe_raster_motiondeblur_2018_05_23_08_45_03_reg_strip=10_regularize=[].npz')"
   ]
  },
  {
   "cell_type": "code",
   "execution_count": null,
   "metadata": {
    "ExecuteTime": {
     "end_time": "2018-12-15T22:52:56.764696Z",
     "start_time": "2018-12-15T22:52:56.518237Z"
    }
   },
   "outputs": [],
   "source": [
    "brain_strobed_unreg = np.real(brain_strobed_unreg_archive['object_recovered'])\n",
    "brain_strobed_reg = np.real(brain_strobed_reg_archive['object_recovered'])\n",
    "brain_strobed_raw = np.real(brain_strobed_unreg_archive['object_recovered'])\n",
    "\n",
    "plt.figure(figsize=(12,7))\n",
    "plt.subplot(311)\n",
    "plt.imshow(brain_strobed_raw)\n",
    "plt.subplot(312)\n",
    "plt.imshow(brain_strobed_reg)\n",
    "plt.subplot(313)\n",
    "plt.imshow(brain_strobed_unreg)"
   ]
  },
  {
   "cell_type": "code",
   "execution_count": null,
   "metadata": {
    "ExecuteTime": {
     "end_time": "2018-12-16T00:32:09.702554Z",
     "start_time": "2018-12-16T00:32:09.582096Z"
    }
   },
   "outputs": [],
   "source": [
    "roi_recovered = yp.Roi(start=(750,2600), shape=(100,100))\n",
    "roi_raw = yp.Roi(start=(770,2420), shape=(100,100))\n",
    "\n",
    "crop_raw = brain_strobed_raw[roi_raw.slice]\n",
    "crop_reg = brain_strobed_reg[roi_recovered.slice]\n",
    "crop_unreg = brain_strobed_unreg[roi_recovered.slice]\n",
    "\n",
    "snr_raw = np.mean(crop_raw) / np.std(crop_raw)\n",
    "snr_reg = np.mean(crop_reg) / np.std(crop_reg)\n",
    "snr_unreg = np.mean(crop_unreg) / np.std(crop_unreg)\n",
    "\n",
    "print(snr_raw)\n",
    "print(snr_reg)\n",
    "print(snr_unreg)\n",
    "\n",
    "cnr_raw = noise.cnr(brain_strobed_raw)\n",
    "cnr_reg = noise.cnr(brain_strobed_reg)\n",
    "cnr_unreg = noise.cnr(brain_strobed_unreg)\n",
    "\n",
    "print(cnr_raw)\n",
    "print(cnr_reg)\n",
    "print(cnr_unreg)"
   ]
  },
  {
   "cell_type": "markdown",
   "metadata": {},
   "source": [
    "## Brain Coded"
   ]
  },
  {
   "cell_type": "code",
   "execution_count": null,
   "metadata": {
    "ExecuteTime": {
     "end_time": "2018-12-15T22:55:13.488210Z",
     "start_time": "2018-12-15T22:55:13.460039Z"
    }
   },
   "outputs": [],
   "source": [
    "brain_coded_unreg_archive = np.load('/Users/zfphil/datasets/motiondeblur/output/163c_color_coded_raster_motiondeblur_2018_05_23_08_50_25unreg_strip=10_regularize=[].npz')\n",
    "brain_coded_reg_archive = np.load('/Users/zfphil/datasets/motiondeblur/output/163c_color_coded_raster_motiondeblur_2018_05_23_08_50_25reg_strip=10_regularize=[tv3.0e-04].npz')"
   ]
  },
  {
   "cell_type": "code",
   "execution_count": null,
   "metadata": {
    "ExecuteTime": {
     "end_time": "2018-12-15T22:57:15.543718Z",
     "start_time": "2018-12-15T22:57:15.204973Z"
    }
   },
   "outputs": [],
   "source": [
    "brain_coded_unreg = np.real(brain_coded_unreg_archive['object_recovered'])\n",
    "brain_coded_reg = np.real(brain_coded_reg_archive['object_recovered'])\n",
    "brain_coded_raw = np.real(brain_coded_unreg_archive['y'])\n",
    "\n",
    "plt.figure(figsize=(12,7))\n",
    "plt.subplot(311)\n",
    "plt.imshow(brain_coded_raw)\n",
    "plt.subplot(312)\n",
    "plt.imshow(brain_coded_reg)\n",
    "plt.subplot(313)\n",
    "plt.imshow(brain_coded_unreg)"
   ]
  },
  {
   "cell_type": "code",
   "execution_count": null,
   "metadata": {
    "ExecuteTime": {
     "end_time": "2018-12-16T00:31:41.535062Z",
     "start_time": "2018-12-16T00:31:41.006404Z"
    }
   },
   "outputs": [],
   "source": [
    "roi_recovered = yp.Roi(start=(100,4800), shape=(100,100))\n",
    "roi_raw = yp.Roi(start=(100,4800), shape=(100,100))\n",
    "\n",
    "crop_raw = brain_coded_raw[roi_raw.slice]\n",
    "crop_reg = brain_coded_reg[roi_recovered.slice]\n",
    "crop_unreg = brain_coded_unreg[roi_recovered.slice]\n",
    "\n",
    "snr_raw = np.mean(crop_raw) / np.std(crop_raw)\n",
    "snr_reg = np.mean(crop_reg) / np.std(crop_reg)\n",
    "snr_unreg = np.mean(crop_unreg) / np.std(crop_unreg)\n",
    "\n",
    "print(snr_raw)\n",
    "print(snr_reg)\n",
    "print(snr_unreg)\n",
    "\n",
    "cnr_raw = noise.cnr(brain_coded_raw)\n",
    "cnr_reg = noise.cnr(brain_coded_reg)\n",
    "cnr_unreg = noise.cnr(brain_coded_unreg)\n",
    "\n",
    "print(cnr_raw)\n",
    "print(cnr_reg)\n",
    "print(cnr_unreg)"
   ]
  }
 ],
 "metadata": {
  "kernelspec": {
   "display_name": "Python 3",
   "language": "python",
   "name": "python3"
  },
  "language_info": {
   "codemirror_mode": {
    "name": "ipython",
    "version": 3
   },
   "file_extension": ".py",
   "mimetype": "text/x-python",
   "name": "python",
   "nbconvert_exporter": "python",
   "pygments_lexer": "ipython3",
   "version": "3.7.1"
  }
 },
 "nbformat": 4,
 "nbformat_minor": 2
}
