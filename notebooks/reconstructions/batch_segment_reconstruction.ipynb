{
 "cells": [
  {
   "cell_type": "markdown",
   "metadata": {},
   "source": [
    "# Reconstruction Sandbox\n",
    "This notebook is a test-bed for regularization and reconstruction methods"
   ]
  },
  {
   "cell_type": "code",
   "execution_count": null,
   "metadata": {
    "ExecuteTime": {
     "end_time": "2018-12-15T22:45:41.573876Z",
     "start_time": "2018-12-15T22:45:41.536004Z"
    },
    "scrolled": false
   },
   "outputs": [],
   "source": [
    "%matplotlib notebook\n",
    "%load_ext autoreload\n",
    "%autoreload 2\n",
    "\n",
    "import llops as yp\n",
    "import matplotlib.pyplot as plt\n",
    "import numpy as np\n",
    "\n",
    "# Load motiondeblur module and Dataset class\n",
    "import htdeblur as md\n",
    "from htdeblur.mddataset import MotionDeblurDataset as Dataset\n",
    "from comptic.containers import isDataset\n",
    "\n",
    "# Platform imports\n",
    "import os, glob\n",
    "from os.path import expanduser\n",
    "\n",
    "# Debugging imports\n",
    "\n",
    "\n",
    "# yp.config.setDefaultBackend('arrayfire')\n",
    "yp.config.setDefaultBackend('numpy')\n",
    "yp.config.setDefaultDatatype('complex32')"
   ]
  },
  {
   "cell_type": "markdown",
   "metadata": {},
   "source": [
    "## Load Data"
   ]
  },
  {
   "cell_type": "code",
   "execution_count": null,
   "metadata": {
    "ExecuteTime": {
     "end_time": "2018-12-15T22:56:57.947076Z",
     "start_time": "2018-12-15T22:56:40.851990Z"
    },
    "scrolled": false
   },
   "outputs": [],
   "source": [
    "# Define user for path setting\n",
    "dataset_path = '/Users/zfphil/datasets/motiondeblur/'\n",
    "dataset_path = '/home/sarah/deblurring/datasets/'\n",
    "\n",
    "# Define output directory\n",
    "output_path = os.path.join(dataset_path, 'output')\n",
    "\n",
    "# Define which dataset to use\n",
    "dataset_type = 'coded'\n",
    "dataset_label = '163c'\n",
    "\n",
    "# Find files in this directory\n",
    "folder_list = glob.glob(os.path.join(dataset_path, '*/'))\n",
    "dataset_list = [folder for folder in folder_list if isDataset(folder)]\n",
    "\n",
    "# Filter datasets in directory\n",
    "filtered_dataset_list = [folder_name for folder_name in folder_list if (dataset_type in folder_name) and (dataset_label in folder_name)]\n",
    "assert not len(filtered_dataset_list) > 1, \"More than one dataset with criterion found!\"\n",
    "assert not len(filtered_dataset_list) == 0, \"No dataset with criterion found!\"\n",
    "dataset_full_path = filtered_dataset_list[0]\n",
    "\n",
    "# Create dataset object (loads metadata)\n",
    "dataset = Dataset(dataset_full_path)\n",
    "\n",
    "# Set to skip first frame\n",
    "# dataset.motiondeblur.skip_first_frame_segment = True\n",
    "\n",
    "# Set channel\n",
    "dataset.channel_mask = [2]"
   ]
  },
  {
   "cell_type": "markdown",
   "metadata": {},
   "source": [
    "## Perform Registration and Normalization"
   ]
  },
  {
   "cell_type": "code",
   "execution_count": null,
   "metadata": {
    "ExecuteTime": {
     "end_time": "2018-12-15T22:48:47.205134Z",
     "start_time": "2018-12-15T22:48:47.173797Z"
    },
    "scrolled": true
   },
   "outputs": [],
   "source": [
    "# Perform registration\n",
    "dataset.register(force=False, frame_offset=-22, segment_offset=(15, -290), debug=False,\n",
    "                              frame_registration_mode='xc', segment_registration_mode='xc')\n",
    "\n",
    "# Perform normalization\n",
    "dataset.normalize(force=False)\n",
    "\n",
    "# Perform kernel shape \n",
    "dataset.metadata.calibration['blur_vector'] = {'scale': {'axis': 1, 'factor': 0.98875}}"
   ]
  },
  {
   "cell_type": "code",
   "execution_count": null,
   "metadata": {
    "ExecuteTime": {
     "end_time": "2018-12-15T22:49:44.864097Z",
     "start_time": "2018-12-15T22:49:43.313802Z"
    },
    "scrolled": false
   },
   "outputs": [],
   "source": [
    "# Set position segments\n",
    "# dataset.position_segment_indicies = [0,1,2,3,4,5,6]\n",
    "# dataset.motiondeblur.position_segment_indicies = [3]\n",
    "# dataset.frame_mask = list(range(355,360))\n",
    "\n",
    "dataset.clearFramesFromMemory()\n",
    "\n",
    "dataset.frame_segment_list = [2]\n",
    "\n",
    "# Create recon object\n",
    "recon = md.recon.Reconstruction(dataset, alpha_blend_distance=1000, pad_mode=0, use_psf=False)\n",
    "\n",
    "# # Perform reconstruction\n",
    "recon.reconstruct(iteration_count=-1, step_size=1, mode='static', reg_types={})\n",
    "\n",
    "# # Show result\n",
    "# recon.show()\n",
    "\n",
    "recon.show()\n",
    "\n"
   ]
  },
  {
   "cell_type": "code",
   "execution_count": null,
   "metadata": {
    "ExecuteTime": {
     "end_time": "2018-12-15T22:49:36.587823Z",
     "start_time": "2018-12-15T22:49:35.695270Z"
    }
   },
   "outputs": [],
   "source": [
    "recon.save(output_path, filename=recon.dataset.metadata.file_header + 'unreg_strip=' + str(dataset.frame_segment_list[0]), formats=['png', 'npz'], save_raw=True, downsample=4)"
   ]
  },
  {
   "cell_type": "code",
   "execution_count": null,
   "metadata": {
    "ExecuteTime": {
     "end_time": "2018-12-15T22:49:33.859206Z",
     "start_time": "2018-12-15T22:49:28.847979Z"
    }
   },
   "outputs": [],
   "source": [
    "from skimage.restoration import denoise_tv_chambolle\n",
    "denoised = denoise_tv_chambolle(np.real(recon.object_recovered), weight=0.01)\n",
    "\n",
    "plt.figure()\n",
    "plt.imshow(denoised)\n",
    "\n",
    "recon.object_recovered = denoised"
   ]
  },
  {
   "cell_type": "code",
   "execution_count": null,
   "metadata": {
    "ExecuteTime": {
     "end_time": "2018-12-15T21:37:57.028777Z",
     "start_time": "2018-12-15T21:37:56.158150Z"
    }
   },
   "outputs": [],
   "source": [
    "recon.save(output_path, filename=recon.dataset.metadata.file_header + '_reg_strip=' + str(dataset.frame_segment_list[0]), formats=['png', 'npz'], save_raw=True, downsample=4)"
   ]
  },
  {
   "cell_type": "markdown",
   "metadata": {
    "ExecuteTime": {
     "end_time": "2018-10-25T16:33:36.818052Z",
     "start_time": "2018-10-25T16:33:36.687322Z"
    }
   },
   "source": [
    "## Solve for all \"Strips\" in Dataset"
   ]
  },
  {
   "cell_type": "code",
   "execution_count": null,
   "metadata": {
    "ExecuteTime": {
     "end_time": "2018-12-07T22:02:24.000489Z",
     "start_time": "2018-12-07T22:02:14.641647Z"
    },
    "scrolled": false
   },
   "outputs": [],
   "source": [
    "for strip_index in dataset.frame_segment_list_full[1:]:\n",
    "    \n",
    "    dataset.clearFramesFromMemory()\n",
    "    \n",
    "    # Set position segment\n",
    "    dataset.frame_segment_list = [strip_index]\n",
    "    \n",
    "    # Create recon object\n",
    "    recon = md.recon.Reconstruction(dataset, alpha_blend_distance=1000, pad_mode=0, use_psf=False)\n",
    "\n",
    "    # Perform reconstruction\n",
    "    recon.reconstruct(iteration_count=-1, step_size=0.7, mode='static', reg_types={'tv': 5e-4})\n",
    "    \n",
    "    # Show result\n",
    "    recon.show()\n",
    "\n",
    "    # Save result\n",
    "    # recon.save(output_path, filename='strobe_raw' + '_strip=' + str(strip_index), formats=['npz'], save_raw=True)"
   ]
  },
  {
   "cell_type": "markdown",
   "metadata": {},
   "source": [
    "## Debugging Using Single Strip"
   ]
  },
  {
   "cell_type": "code",
   "execution_count": null,
   "metadata": {
    "ExecuteTime": {
     "end_time": "2018-12-07T22:01:58.746407Z",
     "start_time": "2018-12-07T22:01:57.711978Z"
    },
    "scrolled": false
   },
   "outputs": [],
   "source": [
    "# Set position segments\n",
    "# dataset.position_segment_indicies = [0,1,2,3,4,5,6]\n",
    "dataset.motiondeblur.position_segment_indicies = [0]\n",
    "\n",
    "# Create recon object\n",
    "recon = md.recon.Reconstruction(dataset, alpha_blend_distance=1000, pad_mode=0, use_psf=True)\n",
    "\n",
    "# Perform reconstruction\n",
    "recon.reconstruct(iteration_count=-1, step_size=1, mode='static', frame_number=3, reg_types={'tv': 5e-4})\n",
    "\n",
    "# Show result\n",
    "recon.show()\n",
    "\n",
    "# recon.save(output_dir, filename=recon.dataset.metadata.file_header + '_strip=' + str(strip_index), formats=['png', 'npz'], save_raw=True, downsample=4)"
   ]
  },
  {
   "cell_type": "code",
   "execution_count": null,
   "metadata": {
    "ExecuteTime": {
     "end_time": "2018-12-02T05:58:43.081106Z",
     "start_time": "2018-12-02T05:58:42.993365Z"
    },
    "scrolled": false
   },
   "outputs": [],
   "source": [
    "plt.figure()\n",
    "plt.imshow(recon.y)"
   ]
  }
 ],
 "metadata": {
  "anaconda-cloud": {},
  "kernelspec": {
   "display_name": "Python 3",
   "language": "python",
   "name": "python3"
  },
  "language_info": {
   "codemirror_mode": {
    "name": "ipython",
    "version": 3
   },
   "file_extension": ".py",
   "mimetype": "text/x-python",
   "name": "python",
   "nbconvert_exporter": "python",
   "pygments_lexer": "ipython3",
   "version": "3.7.1"
  },
  "latex_envs": {
   "LaTeX_envs_menu_present": true,
   "autocomplete": true,
   "bibliofile": "biblio.bib",
   "cite_by": "apalike",
   "current_citInitial": 1,
   "eqLabelWithNumbers": true,
   "eqNumInitial": 0,
   "hotkeys": {
    "equation": "Ctrl-E",
    "itemize": "Ctrl-I"
   },
   "labels_anchors": false,
   "latex_user_defs": false,
   "report_style_numbering": false,
   "user_envs_cfg": false
  },
  "toc": {
   "colors": {
    "hover_highlight": "#DAA520",
    "running_highlight": "#FF0000",
    "selected_highlight": "#FFD700"
   },
   "moveMenuLeft": true,
   "nav_menu": {
    "height": "148px",
    "width": "254px"
   },
   "navigate_menu": true,
   "number_sections": true,
   "sideBar": true,
   "threshold": 4,
   "toc_cell": false,
   "toc_section_display": "block",
   "toc_window_display": false,
   "widenNotebook": false
  },
  "varInspector": {
   "cols": {
    "lenName": 16,
    "lenType": 16,
    "lenVar": 40
   },
   "kernels_config": {
    "python": {
     "delete_cmd_postfix": "",
     "delete_cmd_prefix": "del ",
     "library": "var_list.py",
     "varRefreshCmd": "print(var_dic_list())"
    },
    "r": {
     "delete_cmd_postfix": ") ",
     "delete_cmd_prefix": "rm(",
     "library": "var_list.r",
     "varRefreshCmd": "cat(var_dic_list()) "
    }
   },
   "position": {
    "height": "807px",
    "left": "2098px",
    "right": "20px",
    "top": "144px",
    "width": "341px"
   },
   "types_to_exclude": [
    "module",
    "function",
    "builtin_function_or_method",
    "instance",
    "_Feature"
   ],
   "window_display": true
  }
 },
 "nbformat": 4,
 "nbformat_minor": 2
}
