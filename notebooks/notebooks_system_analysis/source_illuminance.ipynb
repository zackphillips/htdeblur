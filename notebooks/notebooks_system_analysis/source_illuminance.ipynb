{
 "cells": [
  {
   "cell_type": "code",
   "execution_count": 1,
   "metadata": {
    "ExecuteTime": {
     "end_time": "2019-02-13T21:30:47.572859Z",
     "start_time": "2019-02-13T21:30:44.529266Z"
    }
   },
   "outputs": [],
   "source": [
    "%load_ext autoreload\n",
    "%autoreload 2\n",
    "%matplotlib notebook\n",
    "\n",
    "import numpy as np\n",
    "import math\n",
    "import scipy as sp\n",
    "import copy\n",
    "import os\n",
    "import matplotlib.pyplot as plt\n",
    "from libwallerlab.projects.motiondeblur import blurkernel\n",
    "from libwallerlab.projects.motiondeblur import bluranalysis as analysis\n",
    "\n",
    "# plt.style.use('deblur')"
   ]
  },
  {
   "cell_type": "code",
   "execution_count": 2,
   "metadata": {
    "ExecuteTime": {
     "end_time": "2019-04-02T22:27:40.081333Z",
     "start_time": "2019-04-02T22:27:40.078026Z"
    }
   },
   "outputs": [],
   "source": [
    "lux_to_irradiance = 600\n",
    "na = 0.25\n",
    "mag = 10\n",
    "fill_area_fraction = 0.05"
   ]
  },
  {
   "cell_type": "markdown",
   "metadata": {},
   "source": [
    "## Brightfield"
   ]
  },
  {
   "cell_type": "code",
   "execution_count": 3,
   "metadata": {
    "ExecuteTime": {
     "end_time": "2019-04-02T22:27:40.620416Z",
     "start_time": "2019-04-02T22:27:40.615800Z"
    }
   },
   "outputs": [
    {
     "name": "stdout",
     "output_type": "stream",
     "text": [
      "BF Irradiance: 56.4603 W/ m^2\n",
      "BF Illuminance: 33876.2 lux\n"
     ]
    }
   ],
   "source": [
    "power_meter_measurement = 40e-6 # W\n",
    "power_meter_area = 3.14 * (9.5e-3 / 2) ** 2 / (mag ** 2)\n",
    "bf_irradiance = power_meter_measurement / power_meter_area\n",
    "print('BF Irradiance: %g W/ m^2' % bf_irradiance)\n",
    "bf_illuminance = bf_irradiance * lux_to_irradiance\n",
    "print('BF Illuminance: %g lux' % bf_illuminance)"
   ]
  },
  {
   "cell_type": "code",
   "execution_count": 4,
   "metadata": {
    "ExecuteTime": {
     "end_time": "2019-04-02T22:27:44.168138Z",
     "start_time": "2019-04-02T22:27:44.159428Z"
    }
   },
   "outputs": [
    {
     "data": {
      "text/plain": [
       "7.084625e-07"
      ]
     },
     "execution_count": 4,
     "metadata": {},
     "output_type": "execute_result"
    }
   ],
   "source": [
    "power_meter_area"
   ]
  },
  {
   "cell_type": "markdown",
   "metadata": {},
   "source": [
    "## Fluourescence (Indirect)"
   ]
  },
  {
   "cell_type": "code",
   "execution_count": 1,
   "metadata": {
    "ExecuteTime": {
     "end_time": "2019-04-02T22:27:36.519101Z",
     "start_time": "2019-04-02T22:27:36.432816Z"
    }
   },
   "outputs": [
    {
     "ename": "NameError",
     "evalue": "name 'mag' is not defined",
     "output_type": "error",
     "traceback": [
      "\u001b[0;31m---------------------------------------------------------------------------\u001b[0m",
      "\u001b[0;31mNameError\u001b[0m                                 Traceback (most recent call last)",
      "\u001b[0;32m<ipython-input-1-cf4f5e181a81>\u001b[0m in \u001b[0;36m<module>\u001b[0;34m\u001b[0m\n\u001b[1;32m      1\u001b[0m \u001b[0mpower_meter_measurement\u001b[0m \u001b[0;34m=\u001b[0m \u001b[0;36m30e-9\u001b[0m \u001b[0;31m# W\u001b[0m\u001b[0;34m\u001b[0m\u001b[0;34m\u001b[0m\u001b[0m\n\u001b[0;32m----> 2\u001b[0;31m \u001b[0mpower_meter_area\u001b[0m \u001b[0;34m=\u001b[0m \u001b[0;34m(\u001b[0m\u001b[0;36m9.5e-3\u001b[0m \u001b[0;34m/\u001b[0m \u001b[0;36m2\u001b[0m\u001b[0;34m)\u001b[0m \u001b[0;34m**\u001b[0m \u001b[0;36m2\u001b[0m \u001b[0;34m*\u001b[0m \u001b[0;36m3.14\u001b[0m \u001b[0;34m/\u001b[0m \u001b[0;34m(\u001b[0m\u001b[0mmag\u001b[0m \u001b[0;34m**\u001b[0m \u001b[0;36m2\u001b[0m\u001b[0;34m)\u001b[0m\u001b[0;34m\u001b[0m\u001b[0;34m\u001b[0m\u001b[0m\n\u001b[0m\u001b[1;32m      3\u001b[0m \u001b[0mfl_irradiance\u001b[0m \u001b[0;34m=\u001b[0m \u001b[0mpower_meter_measurement\u001b[0m \u001b[0;34m/\u001b[0m \u001b[0mpower_meter_area\u001b[0m \u001b[0;34m/\u001b[0m \u001b[0mfill_area_fraction\u001b[0m\u001b[0;34m\u001b[0m\u001b[0;34m\u001b[0m\u001b[0m\n\u001b[1;32m      4\u001b[0m \u001b[0mprint\u001b[0m\u001b[0;34m(\u001b[0m\u001b[0;34m'FL Irradiance: %g W/ m^2'\u001b[0m \u001b[0;34m%\u001b[0m \u001b[0mfl_irradiance\u001b[0m\u001b[0;34m)\u001b[0m\u001b[0;34m\u001b[0m\u001b[0;34m\u001b[0m\u001b[0m\n\u001b[1;32m      5\u001b[0m \u001b[0mfl_illuminance\u001b[0m \u001b[0;34m=\u001b[0m \u001b[0mfl_irradiance\u001b[0m \u001b[0;34m*\u001b[0m \u001b[0mlux_to_irradiance\u001b[0m\u001b[0;34m\u001b[0m\u001b[0;34m\u001b[0m\u001b[0m\n",
      "\u001b[0;31mNameError\u001b[0m: name 'mag' is not defined"
     ]
    }
   ],
   "source": [
    "power_meter_measurement = 30e-9 # W\n",
    "power_meter_area = (9.5e-3 / 2) ** 2 * 3.14 / (mag ** 2)\n",
    "fl_irradiance = power_meter_measurement / power_meter_area / fill_area_fraction\n",
    "print('FL Irradiance: %g W/ m^2' % fl_irradiance)\n",
    "fl_illuminance = fl_irradiance * lux_to_irradiance\n",
    "print('FL Illuminance: %g lux' % fl_illuminance)"
   ]
  },
  {
   "cell_type": "markdown",
   "metadata": {},
   "source": [
    "## Compare Source Power"
   ]
  },
  {
   "cell_type": "code",
   "execution_count": 9,
   "metadata": {
    "ExecuteTime": {
     "end_time": "2019-04-02T22:28:21.998841Z",
     "start_time": "2019-04-02T22:28:21.994076Z"
    }
   },
   "outputs": [
    {
     "data": {
      "text/plain": [
       "0.49592374999999994"
      ]
     },
     "execution_count": 9,
     "metadata": {},
     "output_type": "execute_result"
    }
   ],
   "source": [
    "power_meter_area = (9.5 / 2) ** 2 * 3.14 / (mag ** 2)\n",
    "\n",
    "mW = 0.7 * power_meter_area\n",
    "mW"
   ]
  },
  {
   "cell_type": "code",
   "execution_count": 32,
   "metadata": {
    "ExecuteTime": {
     "end_time": "2019-02-13T21:48:01.025728Z",
     "start_time": "2019-02-13T21:48:00.996961Z"
    }
   },
   "outputs": [
    {
     "name": "stdout",
     "output_type": "stream",
     "text": [
      "LED\n",
      "3777.3224043715845\n",
      "3.5771840545823252\n",
      "Halogen Lamp\n",
      "5396.174863387978\n",
      "3.7320860145680683\n",
      "Metal Halide\n",
      "310280.05464480876\n",
      "5.491753859257699\n",
      "xenon\n",
      "284918.0327868852\n",
      "5.45471993710188\n",
      "mercury\n",
      "176994.53551912564\n",
      "5.2479598582797475\n"
     ]
    }
   ],
   "source": [
    "#https://en.wikipedia.org/wiki/Lux\n",
    "lux_to_w_m2 = 1.464 / 1e4\n",
    "w_cm2_to_lux = 1 / lux_to_w_m2\n",
    "\n",
    "quantum_yield = 0.79\n",
    "\n",
    "illumination_dict_mw_cm2 = {'LED': 0.7, \n",
    "                            'Halogen Lamp': 1,\n",
    "                            'Metal Halide': 57.5,\n",
    "                            'xenon': 52.8,\n",
    "                            'mercury': 32.8}\n",
    "\n",
    "illumination_dict_lux = {}\n",
    "for illum in illumination_dict_mw_cm2:\n",
    "    illumination_dict_lux[illum] = illumination_dict_mw_cm2[illum] * w_cm2_to_lux\n",
    "    \n",
    "for key in illumination_dict_lux:\n",
    "    print(key)\n",
    "    print(illumination_dict_lux[key] * quantum_yield)\n",
    "    print(np.log10(illumination_dict_lux[key] * quantum_yield))"
   ]
  },
  {
   "cell_type": "code",
   "execution_count": 33,
   "metadata": {
    "ExecuteTime": {
     "end_time": "2019-02-13T22:00:00.987757Z",
     "start_time": "2019-02-13T22:00:00.957455Z"
    }
   },
   "outputs": [
    {
     "data": {
      "text/plain": [
       "{'LED': 4781.420765027322,\n",
       " 'Halogen Lamp': 6830.601092896174,\n",
       " 'Metal Halide': 392759.56284153,\n",
       " 'xenon': 360655.73770491796,\n",
       " 'mercury': 224043.71584699448}"
      ]
     },
     "execution_count": 33,
     "metadata": {},
     "output_type": "execute_result"
    }
   ],
   "source": [
    "illumination_dict_lux"
   ]
  },
  {
   "cell_type": "code",
   "execution_count": 2,
   "metadata": {
    "ExecuteTime": {
     "end_time": "2019-02-13T21:32:23.805833Z",
     "start_time": "2019-02-13T21:32:23.777630Z"
    }
   },
   "outputs": [
    {
     "data": {
      "text/plain": [
       "{'LED Array': 6841.652323580034, 'Halogen Lamp': 1204819277.1084337}"
      ]
     },
     "execution_count": 2,
     "metadata": {},
     "output_type": "execute_result"
    }
   ],
   "source": [
    "illumination_dict_lumens = {'LED Array': 0.0159, \n",
    "                            'Halogen Lamp': 2800}\n",
    "\n",
    "fov = 16.6e-3 * 14e-3 / (10 ** 2)\n",
    "for key in illumination_dict_lumens:\n",
    "    illumination_dict_lux[key] = illumination_dict_lumens[key] / fov\n",
    "    \n",
    "illumination_dict_lux"
   ]
  }
 ],
 "metadata": {
  "kernelspec": {
   "display_name": "Python 3",
   "language": "python",
   "name": "python3"
  },
  "language_info": {
   "codemirror_mode": {
    "name": "ipython",
    "version": 3
   },
   "file_extension": ".py",
   "mimetype": "text/x-python",
   "name": "python",
   "nbconvert_exporter": "python",
   "pygments_lexer": "ipython3",
   "version": "3.7.1"
  }
 },
 "nbformat": 4,
 "nbformat_minor": 2
}
