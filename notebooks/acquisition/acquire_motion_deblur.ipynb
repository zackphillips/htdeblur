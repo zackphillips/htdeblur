{
 "cells": [
  {
   "cell_type": "markdown",
   "metadata": {},
   "source": [
    "# Motion Deblur Acquisition Notebook"
   ]
  },
  {
   "cell_type": "code",
   "execution_count": null,
   "metadata": {
    "ExecuteTime": {
     "end_time": "2019-05-07T21:05:31.355129Z",
     "start_time": "2019-05-07T21:05:30.351811Z"
    },
    "code_folding": [],
    "scrolled": true
   },
   "outputs": [],
   "source": [
    "# Magic Functions\n",
    "%matplotlib notebook\n",
    "%load_ext autoreload\n",
    "%autoreload 2\n",
    "\n",
    "# Misc imports\n",
    "import numpy as np\n",
    "import scipy as sp\n",
    "import matplotlib.pyplot as plt\n",
    "from time import sleep\n",
    "import sys, os, time, datetime\n",
    "\n",
    "# llops imports\n",
    "from llops import Roi\n",
    "\n",
    "# Comptic imports\n",
    "import comptic\n",
    "\n",
    "# Imports from this library\n",
    "from htdeblur.acquisition import hardware\n",
    "from htdeblur import acquisition\n",
    "\n",
    "# Define micro-manager directory\n",
    "hardware.mm_directory = 'C:\\Program Files\\Micro-Manager-2.0beta'"
   ]
  },
  {
   "cell_type": "markdown",
   "metadata": {},
   "source": [
    "## Create Hardware Controllers"
   ]
  },
  {
   "cell_type": "code",
   "execution_count": null,
   "metadata": {
    "ExecuteTime": {
     "end_time": "2019-05-07T21:05:38.595777Z",
     "start_time": "2019-05-07T21:05:33.841485Z"
    },
    "scrolled": true
   },
   "outputs": [],
   "source": [
    "# Define COM ports\n",
    "led_array_port = \"COM7\"\n",
    "xy_stage_port = \"COM5\"\n",
    "camera_name = 'pco'\n",
    "\n",
    "# Delete old devices\n",
    "if 'led_controller' in locals():\n",
    "    led_controller.unload()\n",
    "    \n",
    "if 'pos_controller' in locals():\n",
    "    pos_controller.unload()\n",
    "\n",
    "if 'cam_controller' in locals():\n",
    "    cam_controller.unload()\n",
    "\n",
    "# Create LED controller interface\n",
    "led_controller = hardware.LedArrayController(led_array_port)\n",
    "\n",
    "# Create position controller interface\n",
    "pos_controller = hardware.PositionController(xy_stage_port, trigger_mode='hardware')\n",
    "\n",
    "# Create camera controller object\n",
    "cam_controller = hardware.CameraController(camera_name, trigger_mode='hardware')\n",
    "    \n",
    "# Set up hardware triggering\n",
    "cam_controller.trigger_pin = 0\n",
    "led_controller.camera_trigger_index = 1\n",
    "\n",
    "# Set up position stage\n",
    "pos_controller.trigger_pin = 1\n",
    "led_controller.motion_stage_trigger_index = 1\n",
    "\n",
    "# Make a list\n",
    "hardware_controller_list = [led_controller, cam_controller, pos_controller]\n",
    "\n",
    "# Illuminate the light source as verification\n",
    "led_controller.bf()"
   ]
  },
  {
   "cell_type": "markdown",
   "metadata": {},
   "source": [
    "## Create data output directory"
   ]
  },
  {
   "cell_type": "code",
   "execution_count": null,
   "metadata": {
    "ExecuteTime": {
     "end_time": "2019-05-07T21:06:33.768310Z",
     "start_time": "2019-05-07T21:06:33.680545Z"
    },
    "scrolled": true
   },
   "outputs": [],
   "source": [
    "out_dir = 'D:\\\\Zack\\\\' + datetime.date.today().strftime(\"%m-%d-%y\") +'-MotionDeblur\\\\'\n",
    "if not os.path.exists(out_dir):\n",
    "    os.makedirs(out_dir)"
   ]
  },
  {
   "cell_type": "markdown",
   "metadata": {},
   "source": [
    "# Define System Metadata"
   ]
  },
  {
   "cell_type": "code",
   "execution_count": null,
   "metadata": {
    "ExecuteTime": {
     "end_time": "2019-05-07T21:06:36.369359Z",
     "start_time": "2019-05-07T21:06:36.226741Z"
    },
    "scrolled": true
   },
   "outputs": [],
   "source": [
    "# Define LED positions using actual distances from sample\n",
    "array_z_distance_mm = 60.0\n",
    "\n",
    "# Load quasi-dome positions\n",
    "led_controller.array_distance = array_z_distance_mm\n",
    "source_list_cart = np.asarray(led_controller.led_position_list_cart)\n",
    "source_list_na_design = np.asarray(led_controller.led_position_list_na)\n",
    "\n",
    "# Define system metadata\n",
    "sys_metadata_dict = {\n",
    "    'objective' :{'na': .25, 'mag' : 10}, # remember to set system_mag to 2. for B (front port)\n",
    "    'system' : {'mag': 1},\n",
    "    'illumination' : {\"device_name\" : led_controller.device_name, \"spectrum\" : {\"center\" : {'b' : 0.480, \"g\" : 0.532, \"r\" : 0.625}}, \n",
    "                      \"z_distance_mm\" : array_z_distance_mm, \"state_list\" : {\"design\" : source_list_na_design, 'units' : 'na'}, 'bit_depth' : led_controller.bit_depth, \"device_type\" : led_controller.type},\n",
    "    'position' : {\"device_name\" : \"h117\", \"state_list\" : {'units' : 'mm'}, \"device_type\" : \"xy_stage\"}\n",
    "}\n",
    "\n",
    "# Create metadata object\n",
    "sys_metadata = comptic.containers.Metadata(from_dict=sys_metadata_dict)\n",
    "\n",
    "# Assign wavelengths\n",
    "sys_metadata.illumination.spectrum.center = led_controller.color_channel_center_wavelengths\n",
    "\n",
    "# Set up camera\n",
    "if camera_name == \"pco\":\n",
    "    sys_metadata.camera.pixel_size_um = 6.5\n",
    "    sys_metadata.camera.is_color = False\n",
    "    sys_metadata.camera.device_name = camera_name\n",
    "    sys_metadata.camera.port = 'side'\n",
    "    sys_metadata.system.mag = 1.0\n",
    "    \n",
    "    # Geometric transforms\n",
    "    cam_controller.transpose = False\n",
    "    cam_controller.flip_x = True\n",
    "    cam_controller.flip_y = False\n",
    "    \n",
    "elif camera_name == \"pco_color\":\n",
    "    sys_metadata.camera.pixel_size_um = 6.5 * 2\n",
    "    sys_metadata.camera.is_color = True\n",
    "    sys_metadata.camera.device_name = 'pco'\n",
    "    sys_metadata.camera.port = 'front'\n",
    "    sys_metadata.system.mag = 1.934\n",
    "\n",
    "     # Geometric transforms\n",
    "    cam_controller.transpose = False\n",
    "    cam_controller.flip_x = True\n",
    "    cam_controller.flip_y = False\n",
    "    cam_controller.bayer_coupling_matrix = sys_metadata.camera.bayer_coupling_matrix\n",
    "    cam_controller.is_color = True\n",
    "\n",
    "elif camera_name == 'optimos':\n",
    "    sys_metadata.camera.pixel_size_um = 4.54\n",
    "    sys_metadata.camera.is_color = True\n",
    "    sys_metadata.camera.bayer_coupling_matrix = bayer_coupling_matrix\n",
    "    sys_metadata.system.mag = 2.0\n",
    "    sys_metadata.camera.port = 'front'\n",
    "    sys_metadata.camera.device_name = camera_name\n",
    "    \n",
    "     # Geometric transforms\n",
    "    cam_controller.transpose = False\n",
    "    cam_controller.flip_x = False\n",
    "    cam_controller.flip_y = False\n",
    "    cam_controller.bayer_coupling_matrix = sys_metadata.camera.bayer_coupling_matrix\n",
    "    cam_controller.is_color = True\n",
    "    \n",
    "elif camera_name == 'retiga':\n",
    "    sys_metadata.camera.pixel_size_um = 4.54\n",
    "    sys_metadata.camera.is_color = False\n",
    "    sys_metadata.system.mag = 1.0\n",
    "    sys_metadata.camera.port = 'side'\n",
    "    sys_metadata.camera.device_name = camera_name\n",
    "    \n",
    "     # Geometric transforms\n",
    "    cam_controller.transpose = False\n",
    "    cam_controller.flip_x = False\n",
    "    cam_controller.flip_y = False\n",
    "    cam_controller.bayer_coupling_matrix = None\n",
    "    cam_controller.is_color = False\n",
    "    \n",
    "else:\n",
    "    raise ValueError(\"No camera found!\")\n",
    "\n",
    "# Calculate effective pixel size\n",
    "sys_metadata.system.eff_pixel_size_um = sys_metadata.camera.pixel_size_um / (sys_metadata.objective.mag * sys_metadata.system.mag)\n",
    "\n",
    "# Print system metadata\n",
    "print(sys_metadata)\n",
    "\n",
    "# Set up led array hardware to use this metadata\n",
    "led_controller.na = sys_metadata.objective.na\n",
    "led_controller.array_distance = sys_metadata.illumination.z_distance_mm\n",
    "\n",
    "# Set up joystick\n",
    "pos_controller.setJoystickFlip(True, False) # up is +y, right is +x\n",
    "\n",
    "# Print information about sampling\n",
    "sys_metadata.checkSampling()\n",
    "\n",
    "# Display brightfield pattern for alignment\n",
    "led_controller.bf()"
   ]
  },
  {
   "cell_type": "markdown",
   "metadata": {},
   "source": [
    "# Live Viewer\n",
    "Things to do here:\n",
    "- Ensure the camera doesn't saturate (You want around 40k-50k counts on average\n",
    "- Ensure motion is linear and not at an angle (use the top of a window to align)"
   ]
  },
  {
   "cell_type": "code",
   "execution_count": null,
   "metadata": {
    "ExecuteTime": {
     "end_time": "2019-05-07T20:27:27.742332Z",
     "start_time": "2019-05-07T20:27:26.297Z"
    },
    "scrolled": false
   },
   "outputs": [],
   "source": [
    "# Illuminate\n",
    "led_controller.bf()\n",
    "\n",
    "# Exposure\n",
    "exposure_time_ms = 1\n",
    "\n",
    "# Start live view\n",
    "cam_controller.liveView(figsize=(10,10), contrast_type='fit')\n",
    "\n",
    "# pos_controller.zero()"
   ]
  },
  {
   "cell_type": "markdown",
   "metadata": {},
   "source": [
    "## Set up Acquisition"
   ]
  },
  {
   "cell_type": "code",
   "execution_count": null,
   "metadata": {
    "ExecuteTime": {
     "end_time": "2019-05-07T21:06:39.350390Z",
     "start_time": "2019-05-07T21:06:39.151922Z"
    },
    "scrolled": true
   },
   "outputs": [],
   "source": [
    "# Reload devices\n",
    "pos_controller.reload()\n",
    "led_controller.reload()\n",
    "\n",
    "# Zero position\n",
    "pos_controller.zero()\n",
    "\n",
    "# Define dataset name\n",
    "sys_metadata.sample.name = 'test'\n",
    "\n",
    "# Define sample size\n",
    "sample_size_0 = (3, 3) #(22, 28)\n",
    "\n",
    "# Overlap parameter (1 = no overlap)\n",
    "overlap_factor = 0.8\n",
    "\n",
    "# Append color to sample name if we're using a color camera\n",
    "if sys_metadata.camera.is_color:\n",
    "    sys_metadata.sample.name += '_color'\n",
    "\n",
    "# Calculate FOV\n",
    "fov = cam_controller.fov(sys_metadata.system.mag * sys_metadata.objective.mag)\n",
    "\n",
    "# Round up sample size\n",
    "sys_metadata.sample.size_mm = np.ceil(np.asarray(sample_size_0) / np.asarray((overlap_factor * fov[0], overlap_factor * fov[1]))) * np.asarray((overlap_factor * fov[0], overlap_factor * fov[1]))"
   ]
  },
  {
   "cell_type": "markdown",
   "metadata": {},
   "source": [
    "# Acquisition"
   ]
  },
  {
   "cell_type": "markdown",
   "metadata": {},
   "source": [
    "# Background Image Capture\n",
    "This step captures the background (dust in the system without the sample) as well as the dark current (signal when illumination is off)."
   ]
  },
  {
   "cell_type": "code",
   "execution_count": null,
   "metadata": {
    "ExecuteTime": {
     "end_time": "2019-05-07T21:08:16.827852Z",
     "start_time": "2019-05-07T21:08:11.157010Z"
    },
    "scrolled": true
   },
   "outputs": [],
   "source": [
    "# pos_controller.acceleration = 1e2\n",
    "pos_controller.velocity=30\n",
    "n_avg = 3\n",
    "sample_free_offset = (0, -25)\n",
    "exposure_bg = 0.1\n",
    "\n",
    "# Go to offset position and capture background\n",
    "pos_controller.goToPosition(sample_free_offset, blocking=True)\n",
    "cam_controller.setExposure(exposure_bg)\n",
    "led_controller.bf()\n",
    "time.sleep(1)\n",
    "img_bg = cam_controller.snap()\n",
    "\n",
    "# Turn off Illumination\n",
    "led_controller.clear()\n",
    "\n",
    "# Capture dark current image\n",
    "img_dc = cam_controller.snap()\n",
    "\n",
    "# Perform averaging\n",
    "for _ in range(n_avg - 1):\n",
    "    time.sleep(0.1)\n",
    "    img_dc += cam_controller.snap()\n",
    "    \n",
    "# Normalize\n",
    "img_dc = img_dc / n_avg\n",
    "\n",
    "# Go back home\n",
    "pos_controller.goToPosition((0,0))\n",
    "\n",
    "plt.figure(figsize=(12,4))\n",
    "plt.subplot(121)\n",
    "plt.imshow(img_bg)\n",
    "plt.axis('off')\n",
    "plt.title('Background, Mean = %g' % np.mean(img_bg))\n",
    "plt.subplot(122)\n",
    "plt.imshow(img_dc)\n",
    "plt.axis('off')\n",
    "plt.title('Dark Current, Mean = %g' % np.mean(img_dc))"
   ]
  },
  {
   "cell_type": "markdown",
   "metadata": {},
   "source": [
    "## Stop and Stare Acquisition\n",
    "This step performs a stop-and-stare acquisition"
   ]
  },
  {
   "cell_type": "code",
   "execution_count": null,
   "metadata": {
    "ExecuteTime": {
     "end_time": "2019-05-07T20:27:27.744327Z",
     "start_time": "2019-05-07T20:27:26.305Z"
    },
    "scrolled": true
   },
   "outputs": [],
   "source": [
    "# Create Acquisition Object\n",
    "sns_acq = acquisition.StopAndStareAcquisition(hardware_controller_list, \n",
    "                                              sys_metadata,\n",
    "                                              frame_spacing_mm=(overlap_factor * fov[0], overlap_factor * fov[1]), # y,x\n",
    "                                              object_size_mm=sys_metadata.sample.size_mm, # y,x\n",
    "                                              settle_time_s=0.1)\n",
    "# Acquire\n",
    "dataset_sns = sns_acq.acquire(exposure_time_ms=100)\n",
    "\n",
    "# Save background and dark current\n",
    "dataset_sns.background = img_bg\n",
    "dataset_sns.dark_current = img_dc\n",
    "\n",
    "# Reset Stage\n",
    "pos_controller.goToPosition((0,0))\n",
    "\n",
    "# Save \n",
    "meta = dataset_sns.save(out_dir, header=sys_metadata.sample.name + '_stopandstare', bit_depth=16)"
   ]
  },
  {
   "cell_type": "markdown",
   "metadata": {},
   "source": [
    "## Motion Deblur Acquisition Set-up\n",
    "This cell configures and resets the hardware in advance of an acquisition"
   ]
  },
  {
   "cell_type": "code",
   "execution_count": null,
   "metadata": {
    "ExecuteTime": {
     "end_time": "2019-05-07T21:08:21.812528Z",
     "start_time": "2019-05-07T21:08:21.424565Z"
    },
    "scrolled": false
   },
   "outputs": [],
   "source": [
    "# Re-initialize position controller\n",
    "pos_controller.reload()\n",
    "pos_controller.goToPositionRapid((0,0), blocking=True)\n",
    "pos_controller.acceleration = 8e2\n",
    "\n",
    "# Derivative of acceleration\n",
    "pos_controller.jerk = 7423223\n",
    "\n",
    "# Trigger pulse width\n",
    "pos_controller.trigger_pulse_width_us = 2000\n",
    "\n",
    "# Re-initialize led controller\n",
    "led_controller.reload()\n",
    "led_controller.bf()\n",
    "led_controller.command_debug = False\n",
    "\n",
    "# Stepper motor speed\n",
    "pos_controller.command('SS 1')\n",
    "\n",
    "# Disable encoders\n",
    "pos_controller.command('ENCODER X 0')\n",
    "pos_controller.command('ENCODER Y 0')\n",
    "\n",
    "# Reset \n",
    "# led_controller.trigger_frame_time_s = [0, 0]"
   ]
  },
  {
   "cell_type": "markdown",
   "metadata": {},
   "source": [
    "## Motion Deblur Acquisition"
   ]
  },
  {
   "cell_type": "code",
   "execution_count": null,
   "metadata": {
    "ExecuteTime": {
     "end_time": "2019-05-07T21:08:34.344034Z",
     "start_time": "2019-05-07T21:08:28.944466Z"
    },
    "code_folding": [],
    "scrolled": true
   },
   "outputs": [],
   "source": [
    "# Generate acquisition object using options above\n",
    "md_acq = acquisition.MotionDeblurAcquisition(hardware_controller_list, \n",
    "                                             sys_metadata, \n",
    "                                             frame_spacing_mm=(overlap_factor * fov[0], overlap_factor * fov[1]), # x,y\n",
    "                                             object_size_mm=sys_metadata.sample.size_mm, # x,y\n",
    "                                             saturation_factor=0.5, #1/8\n",
    "                                             extra_run_up_time_s=0.1,\n",
    "                                             kernel_pulse_count=10,\n",
    "                                             velocity_mm_s=25,\n",
    "                                             illumination_sequence_count=2,\n",
    "                                             motion_path_type=\"raster\",\n",
    "                                             blur_vector_method=\"start_middle_end\",\n",
    "                                             use_l1_distance_for_motion_calculations=True,\n",
    "                                             segment_delay_s=0.0)\n",
    "\n",
    "# Acquire\n",
    "dataset = md_acq.acquire(reset_devices=False)\n",
    "\n",
    "# Save background and dark current\n",
    "dataset.background = img_bg\n",
    "dataset.dark_current = img_dc\n",
    "\n",
    "# Save results\n",
    "meta = dataset.save(out_dir, \n",
    "                    header=sys_metadata.sample.name + '_' + md_acq.blur_vector_method + '_' + md_acq.motion_path_type + '_' + str(md_acq.kernel_pulse_count))"
   ]
  },
  {
   "cell_type": "code",
   "execution_count": null,
   "metadata": {
    "ExecuteTime": {
     "end_time": "2019-05-07T20:27:27.747319Z",
     "start_time": "2019-05-07T20:27:26.312Z"
    }
   },
   "outputs": [],
   "source": [
    "plt.figure()\n",
    "plt.imshow(dataset.frame_list[2])\n",
    "plt.clim((0,1000))"
   ]
  },
  {
   "cell_type": "markdown",
   "metadata": {},
   "source": [
    "## Check Registration"
   ]
  },
  {
   "cell_type": "code",
   "execution_count": null,
   "metadata": {
    "ExecuteTime": {
     "end_time": "2019-05-07T20:27:27.748316Z",
     "start_time": "2019-05-07T20:27:26.314Z"
    }
   },
   "outputs": [],
   "source": [
    "dataset.frame_segment_list = dataset.frame_segment_list_full\n",
    "\n",
    "# Register frames\n",
    "import comptic\n",
    "frame_offsets = comptic.registration.register_roi_list(dataset.frame_list, \n",
    "                                                       dataset.roi_list,\n",
    "                                                       debug=False,\n",
    "                                                       replace_untrusted=False)\n",
    "\n",
    "# Convert to mm\n",
    "frame_offsets_mm = [[coord * dataset.metadata.system.eff_pixel_size_um / 1000 for coord in offset] for offset in frame_offsets]\n",
    "\n",
    "# Calculate existing centers\n",
    "frame_centers_mm = [[coord * dataset.metadata.system.eff_pixel_size_um / 1000 for coord in roi.center] for roi in dataset.roi_list]\n",
    "\n",
    "# Apply correction\n",
    "frame_centers_corrected_mm = [(center[0] + offset[0], center[1] + offset[1]) for center, offset in zip(frame_centers_mm, frame_offsets_mm)]\n",
    "\n",
    "# Show correction\n",
    "plt.figure()\n",
    "plt.scatter(np.asarray(frame_centers_corrected_mm)[:,1], np.asarray(frame_centers_corrected_mm)[:,0], label='Corrected')\n",
    "plt.scatter(np.asarray(frame_centers_mm)[:,1], np.asarray(frame_centers_mm)[:,0], label='Predicted')\n",
    "plt.axis('equal')\n",
    "plt.legend()\n",
    "plt.xlabel('Position (mm)')\n",
    "plt.ylabel('Position (mm)')"
   ]
  }
 ],
 "metadata": {
  "kernelspec": {
   "display_name": "Python 3",
   "language": "python",
   "name": "python3"
  },
  "language_info": {
   "codemirror_mode": {
    "name": "ipython",
    "version": 3
   },
   "file_extension": ".py",
   "mimetype": "text/x-python",
   "name": "python",
   "nbconvert_exporter": "python",
   "pygments_lexer": "ipython3",
   "version": "3.7.1"
  },
  "latex_envs": {
   "LaTeX_envs_menu_present": true,
   "autocomplete": true,
   "bibliofile": "biblio.bib",
   "cite_by": "apalike",
   "current_citInitial": 1,
   "eqLabelWithNumbers": true,
   "eqNumInitial": 1,
   "hotkeys": {
    "equation": "Ctrl-E",
    "itemize": "Ctrl-I"
   },
   "labels_anchors": false,
   "latex_user_defs": false,
   "report_style_numbering": false,
   "user_envs_cfg": false
  },
  "varInspector": {
   "cols": {
    "lenName": 16,
    "lenType": 16,
    "lenVar": 40
   },
   "kernels_config": {
    "python": {
     "delete_cmd_postfix": "",
     "delete_cmd_prefix": "del ",
     "library": "var_list.py",
     "varRefreshCmd": "print(var_dic_list())"
    },
    "r": {
     "delete_cmd_postfix": ") ",
     "delete_cmd_prefix": "rm(",
     "library": "var_list.r",
     "varRefreshCmd": "cat(var_dic_list()) "
    }
   },
   "position": {
    "height": "557px",
    "left": "2053px",
    "right": "20px",
    "top": "130px",
    "width": "429px"
   },
   "types_to_exclude": [
    "module",
    "function",
    "builtin_function_or_method",
    "instance",
    "_Feature"
   ],
   "window_display": true
  },
  "widgets": {
   "state": {
    "44439e9436f5434fa556f444109f9d97": {
     "views": [
      {
       "cell_index": 38
      }
     ]
    },
    "5023bd1d2e644d608e7d8b13b4d2af26": {
     "views": [
      {
       "cell_index": 20
      }
     ]
    }
   },
   "version": "1.2.0"
  }
 },
 "nbformat": 4,
 "nbformat_minor": 2
}
