{
 "cells": [
  {
   "cell_type": "code",
   "execution_count": 1,
   "metadata": {},
   "outputs": [],
   "source": [
    "%load_ext autoreload\n",
    "%autoreload 2\n",
    "%matplotlib notebook\n",
    "\n",
    "import numpy as np\n",
    "import matplotlib.pyplot as plt\n",
    "\n",
    "import sys\n",
    "sys.path.append('../notebooks_publications/')\n",
    "import bluranalysis as analysis\n",
    "\n",
    "# plt.style.use('deblur')"
   ]
  },
  {
   "cell_type": "markdown",
   "metadata": {},
   "source": [
    "# DNF and SNR Bounds\n",
    "\n",
    "For any illumination sequence with exactly $N$ pulses (or more generally, with total illumination $\\sum_{i=1}^n v_i = N)$, we will have (assuming the illumination power of a single pulse is normalized to $1$) a signal-to-noise ratio (SNR) of\n",
    "$$SNR = \\frac{\\bar{i}_0 N}{f \\sqrt{\\sigma_{\\text{gray}}^2 + \\sigma_d^2 N}}\\:,$$\n",
    "where $\\bar{i}_0$ is the average intensity of the object, $\\sigma_{\\text{gray}}$ is the signal-independent part of the noise, and $\\sigma_d$ is the weight on the signal-dependent part of the noise. We define the (normalized) deconvolution noise factor (DNF) $f$ as\n",
    "$$f = \\sqrt{\\frac{1}{m} \\sum_{i=1}^m \\frac{\\sigma_1^2}{\\sigma_i^2}}\\:,$$\n",
    "where $\\sigma_1,...,\\sigma_m$ are the ordered singular values of the blur operation $A$. Since $A$ is a convolutional operator with kernel $b=\\sum_{j=1}^n v_j \\delta_j$, the singular values are given by the power spectrum $\\{|(Fb)_i|^2\\}_{i=1}^m$. The $v_i$ are illumination values and the $\\delta_i$ are the positions.\n",
    "\n",
    "In this notebook, I discuss\n",
    "\n",
    "1. a *lower bound* on the DNF, which translates to an *upper bound* on the SNR, i.e. the *best* we could ever do.\n",
    "2. an *upper bound* on the DNF, which translates into a *lower bound* on the SNR, i.e. the *worst* we can expect to do. This is somewhat less important to our story."
   ]
  },
  {
   "cell_type": "markdown",
   "metadata": {},
   "source": [
    "# Lower Bound on DNF\n",
    "\n",
    "Lemma: We have that\n",
    "$ f^2 \\geq \\frac{N^2}{\\frac{1}{m}\\sum_{i=1}^m \\sigma_i^2}$.\n",
    "\n",
    "*Proof*: Starting with $f^2 = \\sigma_1^2\\cdot \\frac{1}{m} \\sum_{i=1}^m \\frac{1}{\\sigma_i^2}$, note that $\\frac{1}{m} \\sum_{i=1}^m \\frac{1}{\\sigma_i^2}$ is the reciporocal of the *harmonic mean* of $\\{\\sigma_1^2,...,\\sigma_m^2\\}$. Since the harmonic mean is always less than the *arithmetic mean* [1], we have that\n",
    "$$ \\frac{1}{m} \\sum_{i=1}^m \\frac{1}{\\sigma_i^2}\\geq \\frac{1}{\\frac{1}{m}\\sum_{i=1}^m \\sigma_i^2}\\:. $$\n",
    "Then the result follows by the observation that $\\sigma_1$ is the DC component of the signal, which is $\\sum_{i=1}^n v_i = N$.\n",
    "\n",
    "\n",
    "[1] e.g. https://sites.math.washington.edu/~dumitriu/Inequalities "
   ]
  },
  {
   "cell_type": "markdown",
   "metadata": {},
   "source": [
    "## From Power Spectrum Average to Illumination Power (Parseval's)\n",
    "\n",
    "Lemma: We have the following relationship between average squared singular value and illumination values, $\\frac{1}{m}\\sum_{i=1}^m \\sigma_i^2 = \\sum_{j=1}^n v_j^2$.\n",
    "\n",
    "*Proof*: Since the singular values are given by the vector $Fb = F\\sum_{j=1}^n v_j \\delta_j$, the average squared singular values is given by the inner product\n",
    "$$\\frac{1}{m} \\sum_{i=1}^m \\sigma_i^2 = \\frac{1}{m} (Fb)^H Fb =  \\frac{1}{m} \\sum_{j=1}^n \\sum_{\\ell=1}^n v_jv_\\ell \\delta_j^H F^H F\\delta_\\ell =  \\sum_{j=1}^n  v_j^2 $$\n",
    "where the final simplification comes from noting that $F^H F = mI$ (since we use un-normalized DFT matrices) and $\\delta_j^H\\delta_\\ell = \\mathbf{1}\\{j=\\ell\\}$.\n",
    "\n",
    "TODO: should we be more careful about DFT scaling in various definitions?"
   ]
  },
  {
   "cell_type": "code",
   "execution_count": 5,
   "metadata": {},
   "outputs": [
    {
     "name": "stdout",
     "output_type": "stream",
     "text": [
      "All assertions passed\n"
     ]
    }
   ],
   "source": [
    "# A numerical validation of the above lemma\n",
    "\n",
    "def check_equiv(n_pulses, kernel_length, padding_size=0, generation='binary'):\n",
    "    kernel = np.zeros(kernel_length+padding_size)\n",
    "    if generation == 'binary':\n",
    "        indicies = np.random.choice(kernel_length, size=n_pulses, replace=False)\n",
    "        kernel[indicies] = 1.0\n",
    "    else:\n",
    "        kernel[0:kernel_length] = np.random.uniform(0,1, size=kernel_length)\n",
    "    \n",
    "    x_fft = np.fft.fft(kernel)\n",
    "    sigma_x = np.abs(x_fft)**2\n",
    "    return np.abs(np.sum(kernel**2)-np.mean(sigma_x))\n",
    "\n",
    "for n_pulses in range(10,100):\n",
    "    kernel_length = 200; padding_size = kernel_length\n",
    "    assert check_equiv(n_pulses, kernel_length, padding_size, 'binary') < 1e-10\n",
    "    assert check_equiv(n_pulses, kernel_length, padding_size, 'uniform') < 1e-10\n",
    "    \n",
    "print(\"All assertions passed\")"
   ]
  },
  {
   "cell_type": "markdown",
   "metadata": {},
   "source": [
    "# Upper Bound on SNR\n",
    "Proposition: For $\\sum_{i=1}^n v_i = N$, we have that $f\\geq\\sqrt{N}$, i.e. the DNF grows at a rate of at least $\\sqrt{N}$.\n",
    "\n",
    "Corrolary: For any fixed $N$, the best achievable SNR is\n",
    "$$SNR \\leq \\frac{\\bar{i}_0 \\sqrt{N}}{\\sqrt{\\sigma_{\\text{gray}}^2 + \\sigma_d^2 N}}\\:.$$\n",
    "\n",
    "*Proof*: Using the previous two lemmas, we have that $ f^2 \\geq \\frac{N^2}{\\sum_{j=1}^n v_j^2}$. Next, notice the fact that\n",
    "$$\\max_{v\\in[0,1]^n} \\sum_{j=1}^nv_j^2~:~ \\sum_{j=1}^n v_j=N$$\n",
    "is achieved for binary $v$ and has the maximum value $N$ (for integer valued $N$). This gives $f^2\\geq N$ which yields the result.\n",
    " "
   ]
  },
  {
   "cell_type": "markdown",
   "metadata": {},
   "source": [
    "### Importance of $\\sigma_\\text{gray}$\n",
    "\n",
    "The above corrollary shows an *upper bound* on SNR that increases with ${N}$.\n",
    "\n",
    "However, if $\\sigma_{\\text{gray}}^2\\ll \\sigma_d^2 $, the SNR will not increase with $N$, and in fact its maximum value,\n",
    "$$SNR \\leq \\frac{\\bar{i}_0 \\sqrt{N}}{\\sqrt{\\sigma_d^2 N}} = \\frac{\\bar{i}_0}{\\sigma_d}$$\n",
    "is achieved by strobed illumination (i.e. $N=1$). In other words, when $\\sigma_\\text{gray}$ is small, strobed will be optimal.\n",
    "\n",
    "If $\\sigma_\\text{gray}$ is larger, then the upper bound suggests that the SNR will improve with ${N}$. However, since it is only an upper bound, it is not sufficient. To actually show that there are settings under which SNR improves with ${N}$, we need to show a *lower bound* that increases with $N$.\n"
   ]
  },
  {
   "cell_type": "code",
   "execution_count": null,
   "metadata": {},
   "outputs": [],
   "source": []
  },
  {
   "cell_type": "code",
   "execution_count": null,
   "metadata": {},
   "outputs": [],
   "source": []
  },
  {
   "cell_type": "markdown",
   "metadata": {},
   "source": [
    "# Upper Bound on DNF\n",
    "\n",
    "Lemma: We have the bound\n",
    "$$  f^2 \\leq \\frac{1}{m} + \\frac{m-1}{m}\\frac{N^2}{\\sigma_m^2}\\:.$$\n",
    "\n",
    "*Proof*: Starting with $f^2 = \\frac{1}{m} \\sum_{i=1}^m \\frac{\\sigma_1^2}{\\sigma_i^2}$, note that $\\frac{\\sigma_1^2}{\\sigma_i^2} \\leq \\frac{\\sigma_1^2}{\\sigma_m^2}$ for all $i$.\n",
    "Plugging in this bound for $i=1,...,m-1$, we see that\n",
    "$$f^2 \\leq \\frac{1}{m} + \\frac{1}{m}\\frac{N^2}{\\sigma_m^2}\\cdot (m-1)\\:,$$\n",
    "where we use that $\\sigma_1$ is the DC component of the signal.\n",
    "\n",
    "# Thoughts on Lower Bound on SNR\n",
    "\n",
    "To make statement about a lower bound on SNR, we need to have an upper bound on $f$, which requires a lower bound on $\\sigma_m^2$ (as per the above lemma). Of course, one lower bound would be zero, but this gives a vacuous result.\n",
    "\n",
    "If we could show that $\\sigma_m^2\\geq c N^{2p}$ for some $0<p<1$, we could show that $f\\leq CN^{1-p}$ (for some $C$), which would mean  $SNR \\geq \\frac{\\bar{i}_0 N^{p}}{C \\sqrt{\\sigma_{\\text{gray}}^2 + \\sigma_d^2 N}}$. This lower bound shows that there is a regime (where $N$ is small enough) in which the SNR increases with $N$.\n",
    "\n"
   ]
  },
  {
   "cell_type": "markdown",
   "metadata": {},
   "source": []
  },
  {
   "cell_type": "code",
   "execution_count": null,
   "metadata": {},
   "outputs": [],
   "source": []
  }
 ],
 "metadata": {
  "kernelspec": {
   "display_name": "Python [conda root]",
   "language": "python",
   "name": "conda-root-py"
  },
  "language_info": {
   "codemirror_mode": {
    "name": "ipython",
    "version": 3
   },
   "file_extension": ".py",
   "mimetype": "text/x-python",
   "name": "python",
   "nbconvert_exporter": "python",
   "pygments_lexer": "ipython3",
   "version": "3.6.0"
  }
 },
 "nbformat": 4,
 "nbformat_minor": 2
}
