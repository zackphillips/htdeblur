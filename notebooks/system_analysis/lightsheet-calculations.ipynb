{
 "cells": [
  {
   "cell_type": "code",
   "execution_count": 1,
   "metadata": {
    "ExecuteTime": {
     "end_time": "2018-04-25T14:42:13.165995Z",
     "start_time": "2018-04-25T14:42:13.161471Z"
    }
   },
   "outputs": [],
   "source": [
    "import numpy as np\n",
    "import math"
   ]
  },
  {
   "cell_type": "markdown",
   "metadata": {},
   "source": [
    "Microscope: [Zeiss z.1](https://applications.zeiss.com/C125792900358A3F/0/4D1D8D177F06CDF4C1257A940041002D/$FILE/EN_41_011_005_LightsheetZ1_rel2-3.pdf)"
   ]
  },
  {
   "cell_type": "code",
   "execution_count": 6,
   "metadata": {
    "ExecuteTime": {
     "end_time": "2018-04-25T14:47:03.497045Z",
     "start_time": "2018-04-25T14:47:03.489550Z"
    }
   },
   "outputs": [],
   "source": [
    "# Sample\n",
    "sample_size = [5, 5, 10] # z, y, x (mm)\n",
    "\n",
    "# Camera\n",
    "sensor_size = [1920, 1920] # pixels\n",
    "ps = 6.5\n",
    "\n",
    "# Motion stage\n",
    "stage_axial_max_velocity = 2 # mm/s\n",
    "stage_axial_max_acceleration = 1e3 # mm/s\n",
    "stage_axial_resolution = 200e-6 # mm\n",
    "stage_axial_settle_time = 0.2    # s\n",
    "\n",
    "# Illumination\n",
    "detection_wavelength = 0.53 # um\n",
    "\n",
    "# Objective\n",
    "system_mag = 1.25 # unitless (0.36× – 2.5×, continuous)\n",
    "objective_name = '5x'\n",
    "objectives = {'5x' : {'na' : 0.16, 'mag' : 5},\n",
    "              '10x': {'na' : 0.5,  'mag' : 20},\n",
    "              '20x': {'na' : 1.0,  'mag' : 20},\n",
    "              '40x': {'na' : 1.0,  'mag' : 40},\n",
    "              '63x': {'na' : 1.0,  'mag' : 64}}\n",
    "\n",
    "# Get objective parameters\n",
    "mag = objectives[objective_name]['mag']\n",
    "na = objectives[objective_name]['na']\n",
    "effective_pixel_size = ps / (mag * system_mag)\n",
    "\n",
    "# Axial Scan Parameters\n",
    "axial_scan_overlap_factor = 0.6 # Amount (0 to 1) of overlap between frames, relative to PSF size\n",
    "axial_scan_axis = 0\n",
    "\n",
    "# Lateral Scan Parameters\n",
    "lateral_scan_axes = [1, 2] # y, x\n",
    "lateral_scan_overlap_factor = 0.2\n",
    "\n",
    "camera_readout_time = 0.017 # s\n",
    "camera_exposure_time = 0.1 # s\n",
    "illumination_min_update_speed = 10e-6 # s\n",
    "\n",
    "# Check camera sampling\n",
    "k_max_optical = na / detection_wavelength\n",
    "k_max_sensor = 1 / (2 * effective_pixel_size)\n",
    "assert k_max_sensor > k_max_optical, \"Maximum optical spatial frequency (%.3fum^{-1}) is greater than the system bandwidth (%.3fum^{-1})\" % (k_max_optical,k_max_sensor)"
   ]
  },
  {
   "cell_type": "markdown",
   "metadata": {},
   "source": [
    "## Calculate Volumetric Parameters"
   ]
  },
  {
   "cell_type": "code",
   "execution_count": 7,
   "metadata": {
    "ExecuteTime": {
     "end_time": "2018-04-25T14:47:04.781034Z",
     "start_time": "2018-04-25T14:47:04.771756Z"
    }
   },
   "outputs": [
    {
     "name": "stdout",
     "output_type": "stream",
     "text": [
      "Lateral resolution is 3.3125um, axial is 20.7031um\n",
      "Axial scan will require 603 planes\n",
      "Lateral scan will require 3 x 6 positions\n"
     ]
    }
   ],
   "source": [
    "# Calculate pixel size and resolution\n",
    "lateral_resolution = detection_wavelength / na\n",
    "axial_resolution = detection_wavelength / (na ** 2)\n",
    "print('Lateral resolution is %.4fum, axial is %.4fum' % (lateral_resolution, axial_resolution))\n",
    "\n",
    "# Calculate number of planes in axial scan\n",
    "axial_scan_increment = axial_resolution * 1e-3 * (1 - axial_scan_overlap_factor)\n",
    "axial_plane_count = sample_size[axial_scan_axis] / axial_scan_increment\n",
    "print('Axial scan will require %d planes' % axial_plane_count)\n",
    "\n",
    "# Calculate number of lateral positions to scan\n",
    "sample_size_lateral = [sample_size[i] for i in lateral_scan_axes]\n",
    "fov = np.asarray(sensor_size) * effective_pixel_size * 1e-3\n",
    "\n",
    "n_frames_lateral = np.ceil(np.asarray(sample_size_lateral) / (fov * 1 - lateral_scan_overlap_factor))\n",
    "print('Lateral scan will require %d x %d positions' % tuple(n_frames_lateral))"
   ]
  },
  {
   "cell_type": "markdown",
   "metadata": {},
   "source": [
    "## Calculate Scan Time with Stop and Stare\n",
    "A useful paremeter is the ratio of motion time to readout time - if the readout time is longer than the motion time, using motion deblur won't improve our results much.\n",
    "\n",
    "The total time per frame is determined by:\n",
    "\n",
    "$$ t_{frame} = t_{exposure} + \\max(t_{readout}, t_{motion}) $$\n",
    "\n",
    "In the case of continuous motion (strobed or coded illumination), $\\max(t_{readout}, t_{motion}) = t_{readout}$, meaning that the acquisition time is limited by the readout time. Assuming $t_{motion} > t_{readout}$, the improvement ratio of continuous scanning over conventional imaging is therefore:\n",
    "\n",
    "$$ f = \\frac{t_{exposure} + t_{motion}}{t_{exposure} + t_{readout}} $$\n",
    "\n",
    "Using this analysis, it is clear that increasing $t_{readout}$ will decrease $f$, meaning that readout times are the enemy of motion deblur. Obviously, a higher $t_{motion}$ (slower acceleration, longer settle times) will lead to a larger $f$.\n",
    "\n",
    "From this we can conclude that our method is best applied in situations where:\n",
    "- The readout time is very short (shorter the better)\n",
    "- The system has low acceleration or long settle time (lead-screw based systems)\n",
    "- The exposure time is < motion time (or readout time)"
   ]
  },
  {
   "cell_type": "code",
   "execution_count": 9,
   "metadata": {
    "ExecuteTime": {
     "end_time": "2018-04-25T14:47:08.352957Z",
     "start_time": "2018-04-25T14:47:08.344446Z"
    }
   },
   "outputs": [
    {
     "name": "stdout",
     "output_type": "stream",
     "text": [
      "Stage will be moving at up to 2.0000 mm/s\n",
      "Motion time to readout ratio is 12.1259\n",
      "Continuous motion is camera-limited\n",
      "Frame scan time with existing method (stop and stare) is 0.3061s\n",
      "Frame scan time with proposed method (continuous motion) is 0.1170s\n",
      "Old Acquisition time is 0.0513 hours, new acquisition time is 0.0196 hours\n",
      "Improvement factor (full acquisition) is 2.6166\n"
     ]
    }
   ],
   "source": [
    "# Ensure state increment is not less than resolution of the stage\n",
    "assert stage_axial_resolution < axial_scan_increment, \"Axial scan increment is less than resolution of the state!\"\n",
    "\n",
    "# Limit motion stage velocity to the maximum update speed of the light source\n",
    "stage_axial_velocity = min(axial_scan_increment / illumination_min_update_speed, stage_axial_max_velocity)\n",
    "print('Stage will be moving at up to %.4f mm/s' % stage_axial_velocity)\n",
    "\n",
    "# Previous imaging time (single_frame)\n",
    "axial_accel_time = stage_axial_max_velocity / stage_axial_max_acceleration\n",
    "axial_accel_distance = stage_axial_max_acceleration * axial_accel_time ** 2\n",
    "if axial_accel_distance < axial_scan_increment:\n",
    "    motion_time = axial_scan_increment / stage_axial_max_velocity + stage_axial_max_velocity / stage_axial_max_acceleration + stage_axial_settle_time\n",
    "else:\n",
    "    print('WARNING: not reaching maximum velocity')\n",
    "    motion_time = math.sqrt(axial_scan_increment / stage_axial_max_acceleration) + stage_axial_settle_time\n",
    "    \n",
    "frame_time_stop_and_stare = max(camera_readout_time, motion_time) + camera_exposure_time   # mechanical settle time\n",
    "print('Motion time to readout ratio is %.4f' % (motion_time / camera_readout_time))\n",
    "\n",
    "# New imaging time (single frame)\n",
    "# Basiclally we still need to capture enough frames to reconstruct the same amount of data\n",
    "frame_time_continuous_scan = max(axial_scan_increment / stage_axial_velocity, camera_exposure_time + camera_readout_time) \n",
    "if (axial_scan_increment / stage_axial_velocity < stage_axial_velocity, camera_exposure_time + camera_readout_time):\n",
    "    print('Continuous motion is camera-limited')\n",
    "\n",
    "print('Frame scan time with existing method (stop and stare) is %.4fs' % frame_time_stop_and_stare)\n",
    "print('Frame scan time with proposed method (continuous motion) is %.4fs' % frame_time_continuous_scan)\n",
    "print('Old Acquisition time is %.4f hours, new acquisition time is %.4f hours' % (axial_plane_count * frame_time_stop_and_stare / 3600, axial_plane_count * frame_time_continuous_scan / 3600))\n",
    "print('Improvement factor (full acquisition) is %.4f' % (frame_time_stop_and_stare / frame_time_continuous_scan))"
   ]
  },
  {
   "cell_type": "markdown",
   "metadata": {},
   "source": [
    "## Compressed-Sensing Acquisition"
   ]
  },
  {
   "cell_type": "code",
   "execution_count": 29,
   "metadata": {
    "ExecuteTime": {
     "end_time": "2018-04-23T21:39:19.333752Z",
     "start_time": "2018-04-23T21:39:19.328525Z"
    }
   },
   "outputs": [
    {
     "name": "stdout",
     "output_type": "stream",
     "text": [
      "Old Acquisition time is 0.0255 hours, new acquisition time is 0.0042 hours\n",
      "Improvement factor is 6.0814\n"
     ]
    }
   ],
   "source": [
    "# This sets the ratio of how much data we acquire / how much data we construct\n",
    "compression_factor = 0.1\n",
    "\n",
    "# Determine how long it takes to zoom through one frame at max velocity\n",
    "volume_scan_time = sample_size[axial_scan_axis] / stage_axial_velocity\n",
    "\n",
    "# Determine total acquisition time\n",
    "frame_time_full_scan = volume_scan_time * compression_factor * axial_plane_count\n",
    "\n",
    "# Determine the ratio of compressed sensing acquisition\n",
    "t_acquire_prev = axial_plane_count * frame_time_stop_and_stare\n",
    "print('Old Acquisition time is %.4f hours, new acquisition time is %.4f hours' % (t_acquire_prev / 3600, frame_time_full_scan / 3600))\n",
    "print('Improvement factor is %.4f' % (t_acquire_prev / frame_time_full_scan))"
   ]
  },
  {
   "cell_type": "code",
   "execution_count": null,
   "metadata": {},
   "outputs": [],
   "source": []
  }
 ],
 "metadata": {
  "kernelspec": {
   "display_name": "Python [default]",
   "language": "python",
   "name": "python3"
  },
  "language_info": {
   "codemirror_mode": {
    "name": "ipython",
    "version": 3
   },
   "file_extension": ".py",
   "mimetype": "text/x-python",
   "name": "python",
   "nbconvert_exporter": "python",
   "pygments_lexer": "ipython3",
   "version": "3.6.0"
  }
 },
 "nbformat": 4,
 "nbformat_minor": 2
}
