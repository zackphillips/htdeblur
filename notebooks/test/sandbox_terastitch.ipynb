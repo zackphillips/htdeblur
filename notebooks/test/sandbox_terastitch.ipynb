{
 "cells": [
  {
   "cell_type": "markdown",
   "metadata": {},
   "source": [
    "# Registration Sandbox\n",
    "This notebook is a test-bed for regularization and reconstruction methods"
   ]
  },
  {
   "cell_type": "code",
   "execution_count": 1,
   "metadata": {
    "ExecuteTime": {
     "end_time": "2018-11-08T19:03:44.455061Z",
     "start_time": "2018-11-08T19:03:40.707495Z"
    },
    "scrolled": false
   },
   "outputs": [],
   "source": [
    "%matplotlib notebook\n",
    "%load_ext autoreload\n",
    "%autoreload 2\n",
    "\n",
    "# Load motiondeblur module and Dataset class\n",
    "import libwallerlab.projects.motiondeblur as md\n",
    "from libwallerlab.utilities.io import Dataset, isDataset\n",
    "\n",
    "# Platform imports\n",
    "import os, glob\n",
    "\n",
    "# Debugging imports\n",
    "import llops as yp\n",
    "import numpy as np\n",
    "import matplotlib.pyplot as plt\n",
    "\n",
    "yp.config.setDefaultBackend('numpy')"
   ]
  },
  {
   "cell_type": "markdown",
   "metadata": {},
   "source": [
    "## Load Data"
   ]
  },
  {
   "cell_type": "code",
   "execution_count": 2,
   "metadata": {
    "ExecuteTime": {
     "end_time": "2018-11-08T19:04:02.420050Z",
     "start_time": "2018-11-08T19:03:45.610945Z"
    },
    "scrolled": true
   },
   "outputs": [
    {
     "name": "stdout",
     "output_type": "stream",
     "text": [
      "Loading 1 frames...\n"
     ]
    }
   ],
   "source": [
    "# Define user for path setting\n",
    "dataset_path = '/Users/zfphil/datasets/motiondeblur/'\n",
    "\n",
    "# Define which dataset to use\n",
    "dataset_type = 'coded'\n",
    "dataset_label =  '171a'\n",
    "\n",
    "# Find files in this directory\n",
    "folder_list = glob.glob(os.path.join(dataset_path, '*/'))\n",
    "dataset_list = [folder for folder in folder_list if isDataset(folder)]\n",
    "\n",
    "# Filter datasets in directory\n",
    "filtered_dataset_list = [folder_name for folder_name in folder_list if (dataset_type in folder_name) and (dataset_label in folder_name)]\n",
    "assert not len(filtered_dataset_list) > 1, \"More than one dataset with criterion found!\"\n",
    "assert not len(filtered_dataset_list) == 0, \"No dataset with criterion found!\"\n",
    "\n",
    "# Create dataset object (loads metadata)\n",
    "dataset = Dataset(filtered_dataset_list[0])\n",
    "\n",
    "# Force type to be motiondeblur\n",
    "dataset.metadata.type = 'motiondeblur'\n",
    "\n",
    "# Select green channel\n",
    "dataset.channel_mask = [0]\n",
    "\n",
    "# Preprocess dataset (md-specific)\n",
    "md.preprocess(dataset)"
   ]
  },
  {
   "cell_type": "markdown",
   "metadata": {
    "ExecuteTime": {
     "end_time": "2018-10-25T16:33:36.818052Z",
     "start_time": "2018-10-25T16:33:36.687322Z"
    }
   },
   "source": [
    "# Create Reconstruction Object And Normalize Measurements"
   ]
  },
  {
   "cell_type": "code",
   "execution_count": null,
   "metadata": {},
   "outputs": [],
   "source": []
  },
  {
   "cell_type": "code",
   "execution_count": 18,
   "metadata": {
    "ExecuteTime": {
     "end_time": "2018-11-08T19:27:37.257593Z",
     "start_time": "2018-11-08T19:27:37.223069Z"
    }
   },
   "outputs": [],
   "source": [
    "import tifffile\n",
    "tifffile.imsave(os.path.join(position_dir, 'img_000001.tiff'), yp.real(frame), dtype=)"
   ]
  },
  {
   "cell_type": "code",
   "execution_count": 19,
   "metadata": {
    "ExecuteTime": {
     "end_time": "2018-11-08T19:28:49.248394Z",
     "start_time": "2018-11-08T19:28:48.748453Z"
    },
    "scrolled": false
   },
   "outputs": [
    {
     "data": {
      "application/vnd.jupyter.widget-view+json": {
       "model_id": "1a020c1a46044f99ba16f212b988ec29",
       "version_major": 2,
       "version_minor": 0
      },
      "text/plain": [
       "VBox(children=(HTML(value=''), IntProgress(value=0, max=30)))"
      ]
     },
     "metadata": {},
     "output_type": "display_data"
    }
   ],
   "source": [
    "# Set position segment\n",
    "dataset.position_segment_indicies = [15]\n",
    "dataset_dir = '/Users/zfphil/develop/terastitcher/datasets'\n",
    "if not os.path.exists(dataset_dir):\n",
    "    os.mkdir(dataset_dir)\n",
    "    \n",
    "strip_index = 0\n",
    "strip_dir = os.path.join(dataset_dir, '%06d' % strip_index)\n",
    "if not os.path.exists(strip_dir):\n",
    "    os.mkdir(strip_dir)\n",
    "    \n",
    "for index, frame in enumerate(yp.display.progressBar(dataset.frame_list)):\n",
    "    position_dir = os.path.join(strip_dir, '%06d_%06d' % (strip_index, index))\n",
    "    if not os.path.exists(position_dir):\n",
    "        os.mkdir(position_dir)\n",
    "    \n",
    "    tifffile.imsave(os.path.join(position_dir, 'img_000001.tiff'), yp.real(frame))\n",
    "\n",
    "# # Create recon object\n",
    "# recon = md.recon.Reconstruction(dataset)"
   ]
  }
 ],
 "metadata": {
  "anaconda-cloud": {},
  "kernelspec": {
   "display_name": "Python 3",
   "language": "python",
   "name": "python3"
  },
  "language_info": {
   "codemirror_mode": {
    "name": "ipython",
    "version": 3
   },
   "file_extension": ".py",
   "mimetype": "text/x-python",
   "name": "python",
   "nbconvert_exporter": "python",
   "pygments_lexer": "ipython3",
   "version": "3.7.0"
  },
  "latex_envs": {
   "LaTeX_envs_menu_present": true,
   "autocomplete": true,
   "bibliofile": "biblio.bib",
   "cite_by": "apalike",
   "current_citInitial": 1,
   "eqLabelWithNumbers": true,
   "eqNumInitial": 0,
   "hotkeys": {
    "equation": "Ctrl-E",
    "itemize": "Ctrl-I"
   },
   "labels_anchors": false,
   "latex_user_defs": false,
   "report_style_numbering": false,
   "user_envs_cfg": false
  },
  "toc": {
   "colors": {
    "hover_highlight": "#DAA520",
    "running_highlight": "#FF0000",
    "selected_highlight": "#FFD700"
   },
   "moveMenuLeft": true,
   "nav_menu": {
    "height": "148px",
    "width": "254px"
   },
   "navigate_menu": true,
   "number_sections": true,
   "sideBar": true,
   "threshold": 4,
   "toc_cell": false,
   "toc_section_display": "block",
   "toc_window_display": false,
   "widenNotebook": false
  },
  "varInspector": {
   "cols": {
    "lenName": 16,
    "lenType": 16,
    "lenVar": 40
   },
   "kernels_config": {
    "python": {
     "delete_cmd_postfix": "",
     "delete_cmd_prefix": "del ",
     "library": "var_list.py",
     "varRefreshCmd": "print(var_dic_list())"
    },
    "r": {
     "delete_cmd_postfix": ") ",
     "delete_cmd_prefix": "rm(",
     "library": "var_list.r",
     "varRefreshCmd": "cat(var_dic_list()) "
    }
   },
   "position": {
    "height": "807px",
    "left": "2098px",
    "right": "20px",
    "top": "144px",
    "width": "341px"
   },
   "types_to_exclude": [
    "module",
    "function",
    "builtin_function_or_method",
    "instance",
    "_Feature"
   ],
   "window_display": true
  }
 },
 "nbformat": 4,
 "nbformat_minor": 2
}
