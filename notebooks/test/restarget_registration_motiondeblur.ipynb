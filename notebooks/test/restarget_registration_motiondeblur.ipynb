{
 "cells": [
  {
   "cell_type": "markdown",
   "metadata": {},
   "source": [
    "# Multi-Frame Motion Deblur Recovery\n",
    "Reconstruction of Resolution Target"
   ]
  },
  {
   "cell_type": "code",
   "execution_count": 1,
   "metadata": {
    "ExecuteTime": {
     "end_time": "2018-10-04T04:13:18.104461Z",
     "start_time": "2018-10-04T04:13:14.642970Z"
    },
    "scrolled": false
   },
   "outputs": [
    {
     "name": "stdout",
     "output_type": "stream",
     "text": [
      "('libforge.1.dylib', '/opt/arrayfire/lib/libforge.1.dylib')\n"
     ]
    }
   ],
   "source": [
    "%load_ext autoreload\n",
    "%autoreload 2\n",
    "%matplotlib notebook\n",
    "\n",
    "import libwallerlab.projects.motiondeblur as md\n",
    "from libwallerlab.utilities.io import Dataset\n",
    "\n",
    "# Debugging\n",
    "import matplotlib.pyplot as plt\n",
    "import llops as yp\n",
    "import ndoperators as ops\n",
    "\n",
    "# Set backend\n",
    "ops.setDefaultBackend('arrayfire')"
   ]
  },
  {
   "cell_type": "markdown",
   "metadata": {},
   "source": [
    "## Load Data"
   ]
  },
  {
   "cell_type": "code",
   "execution_count": 2,
   "metadata": {
    "ExecuteTime": {
     "end_time": "2018-10-04T04:13:19.542277Z",
     "start_time": "2018-10-04T04:13:19.087194Z"
    },
    "scrolled": false
   },
   "outputs": [
    {
     "name": "stdout",
     "output_type": "stream",
     "text": [
      "Metadata indicates background has already been subtracted.\n"
     ]
    }
   ],
   "source": [
    "# Define user for path setting\n",
    "user = 'zack'\n",
    "\n",
    "if user == 'sarah':\n",
    "    dataset_path_stem = '/home/sarah/Dropbox/deblurring/motiondeblur_datasets/'\n",
    "else:\n",
    "    dataset_path_stem = '/Users/zfphil/Dropbox/Berkeley/Datasets/motiondeblur_datasets/'\n",
    "\n",
    "# Proces dataet path\n",
    "dataset_path = 'res_target_color_coded_raster_motiondeblur_2018_05_22_19_17_45'\n",
    "# dataset_path = 'res_target_color_strobe_raster_motiondeblur_2018_05_22_19_17_18'\n",
    "# dataset_path = 'res_target_color_stopandstare_raster_multi_contrast_2018_05_22_19_16_26'\n",
    "filename = dataset_path_stem + dataset_path\n",
    "\n",
    "# Load dataset\n",
    "dataset = Dataset(filename, frame_subset=range(19,22))\n",
    "\n",
    "# Perform motion-deblur related preprocessing\n",
    "md.preprocess(dataset)"
   ]
  },
  {
   "cell_type": "markdown",
   "metadata": {},
   "source": [
    "## Configure Solver"
   ]
  },
  {
   "cell_type": "code",
   "execution_count": null,
   "metadata": {
    "ExecuteTime": {
     "end_time": "2018-09-11T05:30:53.059960Z",
     "start_time": "2018-09-11T05:30:52.894418Z"
    },
    "scrolled": false
   },
   "outputs": [],
   "source": [
    "dataset.show()"
   ]
  },
  {
   "cell_type": "markdown",
   "metadata": {},
   "source": [
    "## Create Registration Operator"
   ]
  },
  {
   "cell_type": "markdown",
   "metadata": {},
   "source": [
    "# Registration\n",
    "\n",
    "1. Measurement domain\n",
    "\n",
    "$ f(s) = || A_{x} E \\vec{s} - y ||_2^2 $\n",
    "\n",
    "$\\nabla_s f(s) = \\nabla E A_{x}^H (A_{x} E\\vec{s} - y) $\n",
    "\n",
    "2. Object domain\n",
    "\n",
    "$ f(s) = ||x_{k+1} E \\vec{s} - x_k ||_2^2 $\n",
    "\n",
    "$\\nabla_s f(s) = \\nabla E \\times (x_{k+1} E \\vec{s} - x_k ) $\n"
   ]
  },
  {
   "cell_type": "markdown",
   "metadata": {},
   "source": [
    "## Is phase correlation actually inversion?\n",
    "\n",
    "$ s^* = \\max(|F^H \\times (\\tilde{y}_1^* \\cdot \\tilde{y}_2)|)$\n",
    "\n",
    "$ y_1 = y_2 * F^H \\times (\\tilde{y}_1^* \\cdot \\tilde{y}_2) $\n",
    "\n",
    "$ y_2 = F^H \\times |\\tilde{y}_1|^2\\cdot \\tilde{y}_2 $"
   ]
  },
  {
   "cell_type": "markdown",
   "metadata": {},
   "source": [
    "## Inversion"
   ]
  },
  {
   "cell_type": "code",
   "execution_count": null,
   "metadata": {
    "ExecuteTime": {
     "end_time": "2018-09-11T16:30:15.184798Z",
     "start_time": "2018-09-11T16:30:13.853934Z"
    },
    "scrolled": false
   },
   "outputs": [],
   "source": [
    "recon = md.Reconstruct(dataset)\n",
    "# recon._get_optimizer()\n",
    "recon.gen_forward_model() #TODO check the shift (adjust_by=[[0,-313-1024], [0,-313-1024], [0,0]])\n",
    "# recon.reconstruct(5, objective_type='global') # 20\n",
    "recon.invert(reg_types={'l2' : 1e-8})\n",
    "recon.show(figsize=(11,5), clim=False)"
   ]
  },
  {
   "cell_type": "markdown",
   "metadata": {},
   "source": [
    "## Sequential Testing"
   ]
  },
  {
   "cell_type": "code",
   "execution_count": null,
   "metadata": {
    "ExecuteTime": {
     "end_time": "2018-09-07T22:13:30.627390Z",
     "start_time": "2018-09-07T22:13:28.228230Z"
    },
    "scrolled": true
   },
   "outputs": [],
   "source": [
    "recon = md.Reconstruct(dataset)\n",
    "recon.gen_forward_model() #TODO check the shift (adjust_by=[[0,-313-1024], [0,-313-1024], [0,0]])\n",
    "recon._get_optimizer(reg_types={'l2': 1e-6})"
   ]
  },
  {
   "cell_type": "code",
   "execution_count": null,
   "metadata": {
    "ExecuteTime": {
     "end_time": "2018-09-07T22:13:31.538460Z",
     "start_time": "2018-09-07T22:13:30.629259Z"
    },
    "scrolled": true
   },
   "outputs": [],
   "source": [
    "# Get cost function\n",
    "O = recon.cost_function\n",
    "y_list = recon.y_list\n",
    "\n",
    "# TODO: This is a hack\n",
    "data_term = O.suboperators[0].stack_operators[0]\n",
    "reg_term = O.suboperators[0].stack_operators[1]\n",
    "\n",
    "# Strip L2 norm and vector sum\n",
    "data_term_stripped = data_term._inner_operator._inner_operator\n",
    "\n",
    "# Compress\n",
    "data_term_compressed = ops.compressStack(data_term_stripped)\n",
    "\n",
    "# Get number of measurements in sequence\n",
    "sequence_count = len(data_term_compressed.stack_operators)\n",
    "\n",
    "# Form list and build back list of operators\n",
    "sequential_cost_functions = []\n",
    "for index, cost_function in enumerate(data_term_compressed.stack_operators):\n",
    "    # Subtract measurement\n",
    "    cost_function -= y_list[index]\n",
    "    \n",
    "    # Add L2 Norm\n",
    "    cost_function = ops.L2Norm(cost_function.M, cost_function.dtype, cost_function.backend) * cost_function\n",
    "    \n",
    "    # Add regularization (normalize ny number of measurements)\n",
    "    cost_function += ((1.0 / sequence_count) * reg_term)\n",
    "    \n",
    "    # Append to list\n",
    "    sequential_cost_functions.append(cost_function)\n"
   ]
  },
  {
   "cell_type": "markdown",
   "metadata": {},
   "source": [
    "## Global Algorithm"
   ]
  },
  {
   "cell_type": "code",
   "execution_count": null,
   "metadata": {
    "ExecuteTime": {
     "end_time": "2018-09-07T22:13:34.358249Z",
     "start_time": "2018-09-07T22:13:32.140962Z"
    }
   },
   "outputs": [],
   "source": [
    "recon = md.Reconstruct(dataset)\n",
    "# recon._get_optimizer()\n",
    "recon.gen_forward_model() #TODO check the shift (adjust_by=[[0,-313-1024], [0,-313-1024], [0,0]])\n",
    "# recon.reconstruct(5, objective_type='global') # 20\n",
    "recon._get_optimizer()"
   ]
  },
  {
   "cell_type": "code",
   "execution_count": null,
   "metadata": {
    "ExecuteTime": {
     "end_time": "2018-09-07T22:13:35.143894Z",
     "start_time": "2018-09-07T22:13:34.979084Z"
    }
   },
   "outputs": [],
   "source": [
    "y = recon.cost_function._inner_operator * x\n",
    "\n",
    "grad = recon.cost_function._inner_operator.H * recon.cost_function._inner_operator * x"
   ]
  },
  {
   "cell_type": "code",
   "execution_count": null,
   "metadata": {
    "ExecuteTime": {
     "end_time": "2018-09-07T22:14:17.602906Z",
     "start_time": "2018-09-07T22:14:17.425959Z"
    }
   },
   "outputs": [],
   "source": [
    "recon.initialization.shape"
   ]
  },
  {
   "cell_type": "code",
   "execution_count": null,
   "metadata": {
    "ExecuteTime": {
     "end_time": "2018-09-07T22:15:13.772031Z",
     "start_time": "2018-09-07T22:14:49.614597Z"
    }
   },
   "outputs": [],
   "source": [
    "recon.cost_function.gradient_check()"
   ]
  },
  {
   "cell_type": "code",
   "execution_count": null,
   "metadata": {
    "ExecuteTime": {
     "end_time": "2018-09-07T21:35:44.026715Z",
     "start_time": "2018-09-07T21:35:43.999092Z"
    }
   },
   "outputs": [],
   "source": [
    "recon.cost_function.suboperators[3].latex()"
   ]
  },
  {
   "cell_type": "code",
   "execution_count": null,
   "metadata": {
    "ExecuteTime": {
     "end_time": "2018-09-07T21:37:10.006246Z",
     "start_time": "2018-09-07T21:37:09.795221Z"
    }
   },
   "outputs": [],
   "source": [
    "Q.N"
   ]
  },
  {
   "cell_type": "code",
   "execution_count": null,
   "metadata": {
    "ExecuteTime": {
     "end_time": "2018-09-07T22:13:47.358122Z",
     "start_time": "2018-09-07T22:13:44.026032Z"
    }
   },
   "outputs": [],
   "source": [
    "Q = recon.cost_function.suboperators[-2]\n",
    "P = recon.cost_function.suboperators[-1]\n",
    "\n",
    "\n",
    "x = yp.ones(Q.N)\n",
    "print(x.shape)\n",
    "Q._gradient(O=P, x=x)"
   ]
  },
  {
   "cell_type": "code",
   "execution_count": null,
   "metadata": {
    "ExecuteTime": {
     "end_time": "2018-09-07T21:49:26.650772Z",
     "start_time": "2018-09-07T21:49:26.622662Z"
    }
   },
   "outputs": [],
   "source": [
    "recon.cost_function.suboperators[-1]"
   ]
  },
  {
   "cell_type": "code",
   "execution_count": null,
   "metadata": {
    "ExecuteTime": {
     "end_time": "2018-09-07T21:59:11.375590Z",
     "start_time": "2018-09-07T21:59:11.349275Z"
    }
   },
   "outputs": [],
   "source": [
    "Ri = recon.cost_function.suboperators[-1].stack_operators[0]"
   ]
  },
  {
   "cell_type": "code",
   "execution_count": null,
   "metadata": {
    "ExecuteTime": {
     "end_time": "2018-09-07T22:11:20.737504Z",
     "start_time": "2018-09-07T22:11:20.695533Z"
    }
   },
   "outputs": [],
   "source": [
    "Q = recon.cost_function.suboperators[-1]\n",
    "Q.latex()\n",
    "\n",
    "# Q.gradient_check()\n",
    "\n",
    "# print(x.shape)\n",
    "print(Q.N)\n",
    "Q._gradient(yp.ones(Q.N))"
   ]
  },
  {
   "cell_type": "code",
   "execution_count": null,
   "metadata": {
    "ExecuteTime": {
     "end_time": "2018-09-07T21:16:14.031024Z",
     "start_time": "2018-09-07T21:16:13.928118Z"
    }
   },
   "outputs": [],
   "source": [
    "Q = recon.cost_function.suboperators[0].stack_operators[0].suboperators[2]\n",
    "Q.latex()\n",
    "\n",
    "\n",
    "Q.H * Q * yp.ones(Q.N)"
   ]
  },
  {
   "cell_type": "code",
   "execution_count": null,
   "metadata": {
    "ExecuteTime": {
     "end_time": "2018-09-07T21:16:27.897276Z",
     "start_time": "2018-09-07T21:16:27.848615Z"
    }
   },
   "outputs": [],
   "source": [
    "Q = recon.cost_function.suboperators[0].stack_operators[0].suboperators[2]\n",
    "Q.latex()\n",
    "\n",
    "# Try forward operator\n",
    "Q * yp.ones(Q.N)\n",
    "\n",
    "# Try adjoint\n",
    "Q.H * yp.ones(Q.M)\n",
    "\n",
    "# Try gradient\n",
    "# Q.gradient_check()\n",
    "\n",
    "\n"
   ]
  },
  {
   "cell_type": "code",
   "execution_count": null,
   "metadata": {
    "ExecuteTime": {
     "end_time": "2018-09-07T22:14:10.320568Z",
     "start_time": "2018-09-07T22:13:57.461151Z"
    }
   },
   "outputs": [],
   "source": [
    "x = recon.initialization.copy()\n",
    "\n",
    "step_size = 1e0\n",
    "n_iterations = 10\n",
    "for _ in range(n_iterations):\n",
    "    print(recon.cost_function(x))\n",
    "    x[:] -= step_size * recon.cost_function.gradient(x)\n",
    "\n",
    "plt.figure()\n",
    "plt.imshow(yp.abs(x))"
   ]
  },
  {
   "cell_type": "code",
   "execution_count": null,
   "metadata": {
    "scrolled": false
   },
   "outputs": [],
   "source": [
    "iterations = [5, 10, 20, 50, 100, 200]\n",
    "previous = None\n",
    "\n",
    "for i in range(len(iterations)):\n",
    "    print('single frame with', iterations[i])\n",
    "    recon.gen_singleframe_forward_models()\n",
    "    if previous is not None:\n",
    "        recon.reconstruct_singeframe(iterations[i]-iterations[i-1], initializations=previous)\n",
    "    else:\n",
    "        recon.reconstruct_singeframe(iterations[i])\n",
    "    previous = recon.objects_recovered_singleframe\n",
    "    recon.register_singleframe_reconstructions(process=False, debug=True, show_stitched=True)\n",
    "    # recon.reconstruct_multiframe_from_singleframe(100+200-iterations[i])\n",
    "    \n",
    "    recon.reset()"
   ]
  },
  {
   "cell_type": "code",
   "execution_count": null,
   "metadata": {},
   "outputs": [],
   "source": [
    "x = recon.initialization.copy()\n",
    "\n",
    "step_size = 1e0\n",
    "n_iterations = 10\n",
    "for _ in range(n_iterations):\n",
    "    print(recon.cost_function(x))\n",
    "    for cost_function in sequential_cost_functions:\n",
    "        x -= step_size * cost_function.gradient(x)\n",
    "        \n",
    "plt.figure()\n",
    "plt.imshow(yp.abs(x))"
   ]
  },
  {
   "cell_type": "code",
   "execution_count": null,
   "metadata": {
    "ExecuteTime": {
     "end_time": "2018-09-06T01:28:31.457531Z",
     "start_time": "2018-09-06T01:28:31.386116Z"
    }
   },
   "outputs": [],
   "source": []
  },
  {
   "cell_type": "code",
   "execution_count": null,
   "metadata": {
    "ExecuteTime": {
     "end_time": "2018-09-06T01:28:27.909044Z",
     "start_time": "2018-09-06T01:28:27.846134Z"
    }
   },
   "outputs": [],
   "source": [
    "A.operators[0]"
   ]
  },
  {
   "cell_type": "code",
   "execution_count": null,
   "metadata": {
    "ExecuteTime": {
     "end_time": "2018-09-06T01:17:43.361215Z",
     "start_time": "2018-09-06T01:17:43.271989Z"
    },
    "scrolled": true
   },
   "outputs": [],
   "source": [
    "print(A0)\n",
    "print(_A)\n",
    "print(_A.operators[0])"
   ]
  },
  {
   "cell_type": "code",
   "execution_count": null,
   "metadata": {},
   "outputs": [],
   "source": []
  },
  {
   "cell_type": "code",
   "execution_count": null,
   "metadata": {
    "ExecuteTime": {
     "end_time": "2018-09-06T00:11:33.636613Z",
     "start_time": "2018-09-06T00:11:33.562029Z"
    },
    "scrolled": true
   },
   "outputs": [],
   "source": [
    "print(A.N)\n",
    "print(A.operators[0].N)"
   ]
  },
  {
   "cell_type": "code",
   "execution_count": null,
   "metadata": {
    "ExecuteTime": {
     "end_time": "2018-09-06T00:10:56.568793Z",
     "start_time": "2018-09-06T00:10:56.485059Z"
    },
    "scrolled": true
   },
   "outputs": [],
   "source": [
    "A.shape"
   ]
  },
  {
   "cell_type": "code",
   "execution_count": null,
   "metadata": {
    "scrolled": false
   },
   "outputs": [],
   "source": []
  }
 ],
 "metadata": {
  "anaconda-cloud": {},
  "kernelspec": {
   "display_name": "Python [default]",
   "language": "python",
   "name": "python3"
  },
  "language_info": {
   "codemirror_mode": {
    "name": "ipython",
    "version": 3
   },
   "file_extension": ".py",
   "mimetype": "text/x-python",
   "name": "python",
   "nbconvert_exporter": "python",
   "pygments_lexer": "ipython3",
   "version": "3.6.0"
  },
  "latex_envs": {
   "LaTeX_envs_menu_present": true,
   "autocomplete": true,
   "bibliofile": "biblio.bib",
   "cite_by": "apalike",
   "current_citInitial": 1,
   "eqLabelWithNumbers": true,
   "eqNumInitial": 0,
   "hotkeys": {
    "equation": "Ctrl-E",
    "itemize": "Ctrl-I"
   },
   "labels_anchors": false,
   "latex_user_defs": false,
   "report_style_numbering": false,
   "user_envs_cfg": false
  },
  "toc": {
   "colors": {
    "hover_highlight": "#DAA520",
    "running_highlight": "#FF0000",
    "selected_highlight": "#FFD700"
   },
   "moveMenuLeft": true,
   "nav_menu": {
    "height": "148px",
    "width": "254px"
   },
   "navigate_menu": true,
   "number_sections": true,
   "sideBar": true,
   "threshold": 4,
   "toc_cell": false,
   "toc_section_display": "block",
   "toc_window_display": false,
   "widenNotebook": false
  },
  "varInspector": {
   "cols": {
    "lenName": 16,
    "lenType": 16,
    "lenVar": 40
   },
   "kernels_config": {
    "python": {
     "delete_cmd_postfix": "",
     "delete_cmd_prefix": "del ",
     "library": "var_list.py",
     "varRefreshCmd": "print(var_dic_list())"
    },
    "r": {
     "delete_cmd_postfix": ") ",
     "delete_cmd_prefix": "rm(",
     "library": "var_list.r",
     "varRefreshCmd": "cat(var_dic_list()) "
    }
   },
   "position": {
    "height": "807px",
    "left": "2098px",
    "right": "20px",
    "top": "144px",
    "width": "341px"
   },
   "types_to_exclude": [
    "module",
    "function",
    "builtin_function_or_method",
    "instance",
    "_Feature"
   ],
   "window_display": true
  }
 },
 "nbformat": 4,
 "nbformat_minor": 2
}
