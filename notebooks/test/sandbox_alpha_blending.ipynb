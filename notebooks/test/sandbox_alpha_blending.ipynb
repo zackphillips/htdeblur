{
 "cells": [
  {
   "cell_type": "markdown",
   "metadata": {},
   "source": [
    "# Alpha-Blending Sandbox\n",
    "This notebook is a test-bed for alpha-blending"
   ]
  },
  {
   "cell_type": "code",
   "execution_count": 2,
   "metadata": {
    "ExecuteTime": {
     "end_time": "2018-11-09T00:43:16.711332Z",
     "start_time": "2018-11-09T00:43:16.680653Z"
    },
    "scrolled": false
   },
   "outputs": [
    {
     "name": "stdout",
     "output_type": "stream",
     "text": [
      "The autoreload extension is already loaded. To reload it, use:\n",
      "  %reload_ext autoreload\n"
     ]
    }
   ],
   "source": [
    "%matplotlib notebook\n",
    "%load_ext autoreload\n",
    "%autoreload 2\n",
    "\n",
    "# Load motiondeblur module and Dataset class\n",
    "import libwallerlab.projects.motiondeblur as md\n",
    "from libwallerlab.utilities.io import Dataset, isDataset\n",
    "from llops import simulation as sim\n",
    "\n",
    "# Platform imports\n",
    "import os, glob\n",
    "\n",
    "# Debugging imports\n",
    "import llops as yp\n",
    "import numpy as np\n",
    "import matplotlib.pyplot as plt\n",
    "\n",
    "yp.config.setDefaultBackend('numpy')"
   ]
  },
  {
   "cell_type": "code",
   "execution_count": 3,
   "metadata": {
    "ExecuteTime": {
     "end_time": "2018-11-09T00:43:22.220954Z",
     "start_time": "2018-11-09T00:43:21.995165Z"
    }
   },
   "outputs": [],
   "source": [
    "x = sim.brain()  "
   ]
  },
  {
   "cell_type": "code",
   "execution_count": 5,
   "metadata": {
    "ExecuteTime": {
     "end_time": "2018-11-09T00:43:43.491267Z",
     "start_time": "2018-11-09T00:43:43.467904Z"
    }
   },
   "outputs": [
    {
     "data": {
      "text/plain": [
       "(1098, 1604)"
      ]
     },
     "execution_count": 5,
     "metadata": {},
     "output_type": "execute_result"
    }
   ],
   "source": [
    "yp.shape(x)"
   ]
  },
  {
   "cell_type": "code",
   "execution_count": null,
   "metadata": {},
   "outputs": [],
   "source": []
  },
  {
   "cell_type": "code",
   "execution_count": 88,
   "metadata": {
    "ExecuteTime": {
     "end_time": "2018-11-08T23:18:05.666562Z",
     "start_time": "2018-11-08T23:17:57.262269Z"
    },
    "scrolled": true
   },
   "outputs": [
    {
     "name": "stdout",
     "output_type": "stream",
     "text": [
      "Loading 1 frames...\n"
     ]
    }
   ],
   "source": [
    "# Define user for path setting\n",
    "dataset_path = '/Users/zfphil/datasets/motiondeblur/'\n",
    "\n",
    "# Define which dataset to use\n",
    "dataset_type = 'coded'\n",
    "dataset_label =  'res'\n",
    "\n",
    "# Find files in this directory\n",
    "folder_list = glob.glob(os.path.join(dataset_path, '*/'))\n",
    "dataset_list = [folder for folder in folder_list if isDataset(folder)]\n",
    "\n",
    "# Filter datasets in directory\n",
    "filtered_dataset_list = [folder_name for folder_name in folder_list if (dataset_type in folder_name) and (dataset_label in folder_name)]\n",
    "assert not len(filtered_dataset_list) > 1, \"More than one dataset with criterion found!\"\n",
    "assert not len(filtered_dataset_list) == 0, \"No dataset with criterion found!\"\n",
    "\n",
    "# Create dataset object (loads metadata)\n",
    "dataset = Dataset(filtered_dataset_list[0])\n",
    "\n",
    "# Force type to be motiondeblur\n",
    "dataset.metadata.type = 'motiondeblur'\n",
    "\n",
    "# Select green channel\n",
    "dataset.channel_mask = [0]\n",
    "\n",
    "# Preprocess dataset (md-specific)\n",
    "md.preprocess(dataset)"
   ]
  },
  {
   "cell_type": "markdown",
   "metadata": {
    "ExecuteTime": {
     "end_time": "2018-10-25T16:33:36.818052Z",
     "start_time": "2018-10-25T16:33:36.687322Z"
    }
   },
   "source": [
    "# Create Reconstruction Object And Normalize Measurements"
   ]
  },
  {
   "cell_type": "code",
   "execution_count": 185,
   "metadata": {
    "ExecuteTime": {
     "end_time": "2018-11-09T00:42:04.260247Z",
     "start_time": "2018-11-09T00:41:28.759169Z"
    },
    "scrolled": false
   },
   "outputs": [],
   "source": [
    "# Set position segment\n",
    "dataset.position_segment_indicies = [1,2,3,4,5]\n",
    "\n",
    "# Create recon object\n",
    "recon = md.recon.Reconstruction(dataset, alpha_blend_distance=50)\n",
    "\n",
    "# Apply position offset\n",
    "recon.applyPositionOffset()\n",
    "\n",
    "# Apply segment lateral offset\n",
    "recon.applySegmentLateralOffset()\n",
    "\n",
    "# Generate the forward model (Need to call this after applyPositionOffset)\n",
    "recon._gen_forward_model()"
   ]
  },
  {
   "cell_type": "code",
   "execution_count": 186,
   "metadata": {
    "ExecuteTime": {
     "end_time": "2018-11-09T00:42:09.411960Z",
     "start_time": "2018-11-09T00:42:07.010072Z"
    }
   },
   "outputs": [
    {
     "data": {
      "application/javascript": [
       "/* Put everything inside the global mpl namespace */\n",
       "window.mpl = {};\n",
       "\n",
       "\n",
       "mpl.get_websocket_type = function() {\n",
       "    if (typeof(WebSocket) !== 'undefined') {\n",
       "        return WebSocket;\n",
       "    } else if (typeof(MozWebSocket) !== 'undefined') {\n",
       "        return MozWebSocket;\n",
       "    } else {\n",
       "        alert('Your browser does not have WebSocket support.' +\n",
       "              'Please try Chrome, Safari or Firefox ≥ 6. ' +\n",
       "              'Firefox 4 and 5 are also supported but you ' +\n",
       "              'have to enable WebSockets in about:config.');\n",
       "    };\n",
       "}\n",
       "\n",
       "mpl.figure = function(figure_id, websocket, ondownload, parent_element) {\n",
       "    this.id = figure_id;\n",
       "\n",
       "    this.ws = websocket;\n",
       "\n",
       "    this.supports_binary = (this.ws.binaryType != undefined);\n",
       "\n",
       "    if (!this.supports_binary) {\n",
       "        var warnings = document.getElementById(\"mpl-warnings\");\n",
       "        if (warnings) {\n",
       "            warnings.style.display = 'block';\n",
       "            warnings.textContent = (\n",
       "                \"This browser does not support binary websocket messages. \" +\n",
       "                    \"Performance may be slow.\");\n",
       "        }\n",
       "    }\n",
       "\n",
       "    this.imageObj = new Image();\n",
       "\n",
       "    this.context = undefined;\n",
       "    this.message = undefined;\n",
       "    this.canvas = undefined;\n",
       "    this.rubberband_canvas = undefined;\n",
       "    this.rubberband_context = undefined;\n",
       "    this.format_dropdown = undefined;\n",
       "\n",
       "    this.image_mode = 'full';\n",
       "\n",
       "    this.root = $('<div/>');\n",
       "    this._root_extra_style(this.root)\n",
       "    this.root.attr('style', 'display: inline-block');\n",
       "\n",
       "    $(parent_element).append(this.root);\n",
       "\n",
       "    this._init_header(this);\n",
       "    this._init_canvas(this);\n",
       "    this._init_toolbar(this);\n",
       "\n",
       "    var fig = this;\n",
       "\n",
       "    this.waiting = false;\n",
       "\n",
       "    this.ws.onopen =  function () {\n",
       "            fig.send_message(\"supports_binary\", {value: fig.supports_binary});\n",
       "            fig.send_message(\"send_image_mode\", {});\n",
       "            if (mpl.ratio != 1) {\n",
       "                fig.send_message(\"set_dpi_ratio\", {'dpi_ratio': mpl.ratio});\n",
       "            }\n",
       "            fig.send_message(\"refresh\", {});\n",
       "        }\n",
       "\n",
       "    this.imageObj.onload = function() {\n",
       "            if (fig.image_mode == 'full') {\n",
       "                // Full images could contain transparency (where diff images\n",
       "                // almost always do), so we need to clear the canvas so that\n",
       "                // there is no ghosting.\n",
       "                fig.context.clearRect(0, 0, fig.canvas.width, fig.canvas.height);\n",
       "            }\n",
       "            fig.context.drawImage(fig.imageObj, 0, 0);\n",
       "        };\n",
       "\n",
       "    this.imageObj.onunload = function() {\n",
       "        fig.ws.close();\n",
       "    }\n",
       "\n",
       "    this.ws.onmessage = this._make_on_message_function(this);\n",
       "\n",
       "    this.ondownload = ondownload;\n",
       "}\n",
       "\n",
       "mpl.figure.prototype._init_header = function() {\n",
       "    var titlebar = $(\n",
       "        '<div class=\"ui-dialog-titlebar ui-widget-header ui-corner-all ' +\n",
       "        'ui-helper-clearfix\"/>');\n",
       "    var titletext = $(\n",
       "        '<div class=\"ui-dialog-title\" style=\"width: 100%; ' +\n",
       "        'text-align: center; padding: 3px;\"/>');\n",
       "    titlebar.append(titletext)\n",
       "    this.root.append(titlebar);\n",
       "    this.header = titletext[0];\n",
       "}\n",
       "\n",
       "\n",
       "\n",
       "mpl.figure.prototype._canvas_extra_style = function(canvas_div) {\n",
       "\n",
       "}\n",
       "\n",
       "\n",
       "mpl.figure.prototype._root_extra_style = function(canvas_div) {\n",
       "\n",
       "}\n",
       "\n",
       "mpl.figure.prototype._init_canvas = function() {\n",
       "    var fig = this;\n",
       "\n",
       "    var canvas_div = $('<div/>');\n",
       "\n",
       "    canvas_div.attr('style', 'position: relative; clear: both; outline: 0');\n",
       "\n",
       "    function canvas_keyboard_event(event) {\n",
       "        return fig.key_event(event, event['data']);\n",
       "    }\n",
       "\n",
       "    canvas_div.keydown('key_press', canvas_keyboard_event);\n",
       "    canvas_div.keyup('key_release', canvas_keyboard_event);\n",
       "    this.canvas_div = canvas_div\n",
       "    this._canvas_extra_style(canvas_div)\n",
       "    this.root.append(canvas_div);\n",
       "\n",
       "    var canvas = $('<canvas/>');\n",
       "    canvas.addClass('mpl-canvas');\n",
       "    canvas.attr('style', \"left: 0; top: 0; z-index: 0; outline: 0\")\n",
       "\n",
       "    this.canvas = canvas[0];\n",
       "    this.context = canvas[0].getContext(\"2d\");\n",
       "\n",
       "    var backingStore = this.context.backingStorePixelRatio ||\n",
       "\tthis.context.webkitBackingStorePixelRatio ||\n",
       "\tthis.context.mozBackingStorePixelRatio ||\n",
       "\tthis.context.msBackingStorePixelRatio ||\n",
       "\tthis.context.oBackingStorePixelRatio ||\n",
       "\tthis.context.backingStorePixelRatio || 1;\n",
       "\n",
       "    mpl.ratio = (window.devicePixelRatio || 1) / backingStore;\n",
       "\n",
       "    var rubberband = $('<canvas/>');\n",
       "    rubberband.attr('style', \"position: absolute; left: 0; top: 0; z-index: 1;\")\n",
       "\n",
       "    var pass_mouse_events = true;\n",
       "\n",
       "    canvas_div.resizable({\n",
       "        start: function(event, ui) {\n",
       "            pass_mouse_events = false;\n",
       "        },\n",
       "        resize: function(event, ui) {\n",
       "            fig.request_resize(ui.size.width, ui.size.height);\n",
       "        },\n",
       "        stop: function(event, ui) {\n",
       "            pass_mouse_events = true;\n",
       "            fig.request_resize(ui.size.width, ui.size.height);\n",
       "        },\n",
       "    });\n",
       "\n",
       "    function mouse_event_fn(event) {\n",
       "        if (pass_mouse_events)\n",
       "            return fig.mouse_event(event, event['data']);\n",
       "    }\n",
       "\n",
       "    rubberband.mousedown('button_press', mouse_event_fn);\n",
       "    rubberband.mouseup('button_release', mouse_event_fn);\n",
       "    // Throttle sequential mouse events to 1 every 20ms.\n",
       "    rubberband.mousemove('motion_notify', mouse_event_fn);\n",
       "\n",
       "    rubberband.mouseenter('figure_enter', mouse_event_fn);\n",
       "    rubberband.mouseleave('figure_leave', mouse_event_fn);\n",
       "\n",
       "    canvas_div.on(\"wheel\", function (event) {\n",
       "        event = event.originalEvent;\n",
       "        event['data'] = 'scroll'\n",
       "        if (event.deltaY < 0) {\n",
       "            event.step = 1;\n",
       "        } else {\n",
       "            event.step = -1;\n",
       "        }\n",
       "        mouse_event_fn(event);\n",
       "    });\n",
       "\n",
       "    canvas_div.append(canvas);\n",
       "    canvas_div.append(rubberband);\n",
       "\n",
       "    this.rubberband = rubberband;\n",
       "    this.rubberband_canvas = rubberband[0];\n",
       "    this.rubberband_context = rubberband[0].getContext(\"2d\");\n",
       "    this.rubberband_context.strokeStyle = \"#000000\";\n",
       "\n",
       "    this._resize_canvas = function(width, height) {\n",
       "        // Keep the size of the canvas, canvas container, and rubber band\n",
       "        // canvas in synch.\n",
       "        canvas_div.css('width', width)\n",
       "        canvas_div.css('height', height)\n",
       "\n",
       "        canvas.attr('width', width * mpl.ratio);\n",
       "        canvas.attr('height', height * mpl.ratio);\n",
       "        canvas.attr('style', 'width: ' + width + 'px; height: ' + height + 'px;');\n",
       "\n",
       "        rubberband.attr('width', width);\n",
       "        rubberband.attr('height', height);\n",
       "    }\n",
       "\n",
       "    // Set the figure to an initial 600x600px, this will subsequently be updated\n",
       "    // upon first draw.\n",
       "    this._resize_canvas(600, 600);\n",
       "\n",
       "    // Disable right mouse context menu.\n",
       "    $(this.rubberband_canvas).bind(\"contextmenu\",function(e){\n",
       "        return false;\n",
       "    });\n",
       "\n",
       "    function set_focus () {\n",
       "        canvas.focus();\n",
       "        canvas_div.focus();\n",
       "    }\n",
       "\n",
       "    window.setTimeout(set_focus, 100);\n",
       "}\n",
       "\n",
       "mpl.figure.prototype._init_toolbar = function() {\n",
       "    var fig = this;\n",
       "\n",
       "    var nav_element = $('<div/>')\n",
       "    nav_element.attr('style', 'width: 100%');\n",
       "    this.root.append(nav_element);\n",
       "\n",
       "    // Define a callback function for later on.\n",
       "    function toolbar_event(event) {\n",
       "        return fig.toolbar_button_onclick(event['data']);\n",
       "    }\n",
       "    function toolbar_mouse_event(event) {\n",
       "        return fig.toolbar_button_onmouseover(event['data']);\n",
       "    }\n",
       "\n",
       "    for(var toolbar_ind in mpl.toolbar_items) {\n",
       "        var name = mpl.toolbar_items[toolbar_ind][0];\n",
       "        var tooltip = mpl.toolbar_items[toolbar_ind][1];\n",
       "        var image = mpl.toolbar_items[toolbar_ind][2];\n",
       "        var method_name = mpl.toolbar_items[toolbar_ind][3];\n",
       "\n",
       "        if (!name) {\n",
       "            // put a spacer in here.\n",
       "            continue;\n",
       "        }\n",
       "        var button = $('<button/>');\n",
       "        button.addClass('ui-button ui-widget ui-state-default ui-corner-all ' +\n",
       "                        'ui-button-icon-only');\n",
       "        button.attr('role', 'button');\n",
       "        button.attr('aria-disabled', 'false');\n",
       "        button.click(method_name, toolbar_event);\n",
       "        button.mouseover(tooltip, toolbar_mouse_event);\n",
       "\n",
       "        var icon_img = $('<span/>');\n",
       "        icon_img.addClass('ui-button-icon-primary ui-icon');\n",
       "        icon_img.addClass(image);\n",
       "        icon_img.addClass('ui-corner-all');\n",
       "\n",
       "        var tooltip_span = $('<span/>');\n",
       "        tooltip_span.addClass('ui-button-text');\n",
       "        tooltip_span.html(tooltip);\n",
       "\n",
       "        button.append(icon_img);\n",
       "        button.append(tooltip_span);\n",
       "\n",
       "        nav_element.append(button);\n",
       "    }\n",
       "\n",
       "    var fmt_picker_span = $('<span/>');\n",
       "\n",
       "    var fmt_picker = $('<select/>');\n",
       "    fmt_picker.addClass('mpl-toolbar-option ui-widget ui-widget-content');\n",
       "    fmt_picker_span.append(fmt_picker);\n",
       "    nav_element.append(fmt_picker_span);\n",
       "    this.format_dropdown = fmt_picker[0];\n",
       "\n",
       "    for (var ind in mpl.extensions) {\n",
       "        var fmt = mpl.extensions[ind];\n",
       "        var option = $(\n",
       "            '<option/>', {selected: fmt === mpl.default_extension}).html(fmt);\n",
       "        fmt_picker.append(option)\n",
       "    }\n",
       "\n",
       "    // Add hover states to the ui-buttons\n",
       "    $( \".ui-button\" ).hover(\n",
       "        function() { $(this).addClass(\"ui-state-hover\");},\n",
       "        function() { $(this).removeClass(\"ui-state-hover\");}\n",
       "    );\n",
       "\n",
       "    var status_bar = $('<span class=\"mpl-message\"/>');\n",
       "    nav_element.append(status_bar);\n",
       "    this.message = status_bar[0];\n",
       "}\n",
       "\n",
       "mpl.figure.prototype.request_resize = function(x_pixels, y_pixels) {\n",
       "    // Request matplotlib to resize the figure. Matplotlib will then trigger a resize in the client,\n",
       "    // which will in turn request a refresh of the image.\n",
       "    this.send_message('resize', {'width': x_pixels, 'height': y_pixels});\n",
       "}\n",
       "\n",
       "mpl.figure.prototype.send_message = function(type, properties) {\n",
       "    properties['type'] = type;\n",
       "    properties['figure_id'] = this.id;\n",
       "    this.ws.send(JSON.stringify(properties));\n",
       "}\n",
       "\n",
       "mpl.figure.prototype.send_draw_message = function() {\n",
       "    if (!this.waiting) {\n",
       "        this.waiting = true;\n",
       "        this.ws.send(JSON.stringify({type: \"draw\", figure_id: this.id}));\n",
       "    }\n",
       "}\n",
       "\n",
       "\n",
       "mpl.figure.prototype.handle_save = function(fig, msg) {\n",
       "    var format_dropdown = fig.format_dropdown;\n",
       "    var format = format_dropdown.options[format_dropdown.selectedIndex].value;\n",
       "    fig.ondownload(fig, format);\n",
       "}\n",
       "\n",
       "\n",
       "mpl.figure.prototype.handle_resize = function(fig, msg) {\n",
       "    var size = msg['size'];\n",
       "    if (size[0] != fig.canvas.width || size[1] != fig.canvas.height) {\n",
       "        fig._resize_canvas(size[0], size[1]);\n",
       "        fig.send_message(\"refresh\", {});\n",
       "    };\n",
       "}\n",
       "\n",
       "mpl.figure.prototype.handle_rubberband = function(fig, msg) {\n",
       "    var x0 = msg['x0'] / mpl.ratio;\n",
       "    var y0 = (fig.canvas.height - msg['y0']) / mpl.ratio;\n",
       "    var x1 = msg['x1'] / mpl.ratio;\n",
       "    var y1 = (fig.canvas.height - msg['y1']) / mpl.ratio;\n",
       "    x0 = Math.floor(x0) + 0.5;\n",
       "    y0 = Math.floor(y0) + 0.5;\n",
       "    x1 = Math.floor(x1) + 0.5;\n",
       "    y1 = Math.floor(y1) + 0.5;\n",
       "    var min_x = Math.min(x0, x1);\n",
       "    var min_y = Math.min(y0, y1);\n",
       "    var width = Math.abs(x1 - x0);\n",
       "    var height = Math.abs(y1 - y0);\n",
       "\n",
       "    fig.rubberband_context.clearRect(\n",
       "        0, 0, fig.canvas.width, fig.canvas.height);\n",
       "\n",
       "    fig.rubberband_context.strokeRect(min_x, min_y, width, height);\n",
       "}\n",
       "\n",
       "mpl.figure.prototype.handle_figure_label = function(fig, msg) {\n",
       "    // Updates the figure title.\n",
       "    fig.header.textContent = msg['label'];\n",
       "}\n",
       "\n",
       "mpl.figure.prototype.handle_cursor = function(fig, msg) {\n",
       "    var cursor = msg['cursor'];\n",
       "    switch(cursor)\n",
       "    {\n",
       "    case 0:\n",
       "        cursor = 'pointer';\n",
       "        break;\n",
       "    case 1:\n",
       "        cursor = 'default';\n",
       "        break;\n",
       "    case 2:\n",
       "        cursor = 'crosshair';\n",
       "        break;\n",
       "    case 3:\n",
       "        cursor = 'move';\n",
       "        break;\n",
       "    }\n",
       "    fig.rubberband_canvas.style.cursor = cursor;\n",
       "}\n",
       "\n",
       "mpl.figure.prototype.handle_message = function(fig, msg) {\n",
       "    fig.message.textContent = msg['message'];\n",
       "}\n",
       "\n",
       "mpl.figure.prototype.handle_draw = function(fig, msg) {\n",
       "    // Request the server to send over a new figure.\n",
       "    fig.send_draw_message();\n",
       "}\n",
       "\n",
       "mpl.figure.prototype.handle_image_mode = function(fig, msg) {\n",
       "    fig.image_mode = msg['mode'];\n",
       "}\n",
       "\n",
       "mpl.figure.prototype.updated_canvas_event = function() {\n",
       "    // Called whenever the canvas gets updated.\n",
       "    this.send_message(\"ack\", {});\n",
       "}\n",
       "\n",
       "// A function to construct a web socket function for onmessage handling.\n",
       "// Called in the figure constructor.\n",
       "mpl.figure.prototype._make_on_message_function = function(fig) {\n",
       "    return function socket_on_message(evt) {\n",
       "        if (evt.data instanceof Blob) {\n",
       "            /* FIXME: We get \"Resource interpreted as Image but\n",
       "             * transferred with MIME type text/plain:\" errors on\n",
       "             * Chrome.  But how to set the MIME type?  It doesn't seem\n",
       "             * to be part of the websocket stream */\n",
       "            evt.data.type = \"image/png\";\n",
       "\n",
       "            /* Free the memory for the previous frames */\n",
       "            if (fig.imageObj.src) {\n",
       "                (window.URL || window.webkitURL).revokeObjectURL(\n",
       "                    fig.imageObj.src);\n",
       "            }\n",
       "\n",
       "            fig.imageObj.src = (window.URL || window.webkitURL).createObjectURL(\n",
       "                evt.data);\n",
       "            fig.updated_canvas_event();\n",
       "            fig.waiting = false;\n",
       "            return;\n",
       "        }\n",
       "        else if (typeof evt.data === 'string' && evt.data.slice(0, 21) == \"data:image/png;base64\") {\n",
       "            fig.imageObj.src = evt.data;\n",
       "            fig.updated_canvas_event();\n",
       "            fig.waiting = false;\n",
       "            return;\n",
       "        }\n",
       "\n",
       "        var msg = JSON.parse(evt.data);\n",
       "        var msg_type = msg['type'];\n",
       "\n",
       "        // Call the  \"handle_{type}\" callback, which takes\n",
       "        // the figure and JSON message as its only arguments.\n",
       "        try {\n",
       "            var callback = fig[\"handle_\" + msg_type];\n",
       "        } catch (e) {\n",
       "            console.log(\"No handler for the '\" + msg_type + \"' message type: \", msg);\n",
       "            return;\n",
       "        }\n",
       "\n",
       "        if (callback) {\n",
       "            try {\n",
       "                // console.log(\"Handling '\" + msg_type + \"' message: \", msg);\n",
       "                callback(fig, msg);\n",
       "            } catch (e) {\n",
       "                console.log(\"Exception inside the 'handler_\" + msg_type + \"' callback:\", e, e.stack, msg);\n",
       "            }\n",
       "        }\n",
       "    };\n",
       "}\n",
       "\n",
       "// from http://stackoverflow.com/questions/1114465/getting-mouse-location-in-canvas\n",
       "mpl.findpos = function(e) {\n",
       "    //this section is from http://www.quirksmode.org/js/events_properties.html\n",
       "    var targ;\n",
       "    if (!e)\n",
       "        e = window.event;\n",
       "    if (e.target)\n",
       "        targ = e.target;\n",
       "    else if (e.srcElement)\n",
       "        targ = e.srcElement;\n",
       "    if (targ.nodeType == 3) // defeat Safari bug\n",
       "        targ = targ.parentNode;\n",
       "\n",
       "    // jQuery normalizes the pageX and pageY\n",
       "    // pageX,Y are the mouse positions relative to the document\n",
       "    // offset() returns the position of the element relative to the document\n",
       "    var x = e.pageX - $(targ).offset().left;\n",
       "    var y = e.pageY - $(targ).offset().top;\n",
       "\n",
       "    return {\"x\": x, \"y\": y};\n",
       "};\n",
       "\n",
       "/*\n",
       " * return a copy of an object with only non-object keys\n",
       " * we need this to avoid circular references\n",
       " * http://stackoverflow.com/a/24161582/3208463\n",
       " */\n",
       "function simpleKeys (original) {\n",
       "  return Object.keys(original).reduce(function (obj, key) {\n",
       "    if (typeof original[key] !== 'object')\n",
       "        obj[key] = original[key]\n",
       "    return obj;\n",
       "  }, {});\n",
       "}\n",
       "\n",
       "mpl.figure.prototype.mouse_event = function(event, name) {\n",
       "    var canvas_pos = mpl.findpos(event)\n",
       "\n",
       "    if (name === 'button_press')\n",
       "    {\n",
       "        this.canvas.focus();\n",
       "        this.canvas_div.focus();\n",
       "    }\n",
       "\n",
       "    var x = canvas_pos.x * mpl.ratio;\n",
       "    var y = canvas_pos.y * mpl.ratio;\n",
       "\n",
       "    this.send_message(name, {x: x, y: y, button: event.button,\n",
       "                             step: event.step,\n",
       "                             guiEvent: simpleKeys(event)});\n",
       "\n",
       "    /* This prevents the web browser from automatically changing to\n",
       "     * the text insertion cursor when the button is pressed.  We want\n",
       "     * to control all of the cursor setting manually through the\n",
       "     * 'cursor' event from matplotlib */\n",
       "    event.preventDefault();\n",
       "    return false;\n",
       "}\n",
       "\n",
       "mpl.figure.prototype._key_event_extra = function(event, name) {\n",
       "    // Handle any extra behaviour associated with a key event\n",
       "}\n",
       "\n",
       "mpl.figure.prototype.key_event = function(event, name) {\n",
       "\n",
       "    // Prevent repeat events\n",
       "    if (name == 'key_press')\n",
       "    {\n",
       "        if (event.which === this._key)\n",
       "            return;\n",
       "        else\n",
       "            this._key = event.which;\n",
       "    }\n",
       "    if (name == 'key_release')\n",
       "        this._key = null;\n",
       "\n",
       "    var value = '';\n",
       "    if (event.ctrlKey && event.which != 17)\n",
       "        value += \"ctrl+\";\n",
       "    if (event.altKey && event.which != 18)\n",
       "        value += \"alt+\";\n",
       "    if (event.shiftKey && event.which != 16)\n",
       "        value += \"shift+\";\n",
       "\n",
       "    value += 'k';\n",
       "    value += event.which.toString();\n",
       "\n",
       "    this._key_event_extra(event, name);\n",
       "\n",
       "    this.send_message(name, {key: value,\n",
       "                             guiEvent: simpleKeys(event)});\n",
       "    return false;\n",
       "}\n",
       "\n",
       "mpl.figure.prototype.toolbar_button_onclick = function(name) {\n",
       "    if (name == 'download') {\n",
       "        this.handle_save(this, null);\n",
       "    } else {\n",
       "        this.send_message(\"toolbar_button\", {name: name});\n",
       "    }\n",
       "};\n",
       "\n",
       "mpl.figure.prototype.toolbar_button_onmouseover = function(tooltip) {\n",
       "    this.message.textContent = tooltip;\n",
       "};\n",
       "mpl.toolbar_items = [[\"Home\", \"Reset original view\", \"fa fa-home icon-home\", \"home\"], [\"Back\", \"Back to previous view\", \"fa fa-arrow-left icon-arrow-left\", \"back\"], [\"Forward\", \"Forward to next view\", \"fa fa-arrow-right icon-arrow-right\", \"forward\"], [\"\", \"\", \"\", \"\"], [\"Pan\", \"Pan axes with left mouse, zoom with right\", \"fa fa-arrows icon-move\", \"pan\"], [\"Zoom\", \"Zoom to rectangle\", \"fa fa-square-o icon-check-empty\", \"zoom\"], [\"\", \"\", \"\", \"\"], [\"Download\", \"Download plot\", \"fa fa-floppy-o icon-save\", \"download\"]];\n",
       "\n",
       "mpl.extensions = [\"eps\", \"jpeg\", \"pdf\", \"png\", \"ps\", \"raw\", \"svg\", \"tif\"];\n",
       "\n",
       "mpl.default_extension = \"png\";var comm_websocket_adapter = function(comm) {\n",
       "    // Create a \"websocket\"-like object which calls the given IPython comm\n",
       "    // object with the appropriate methods. Currently this is a non binary\n",
       "    // socket, so there is still some room for performance tuning.\n",
       "    var ws = {};\n",
       "\n",
       "    ws.close = function() {\n",
       "        comm.close()\n",
       "    };\n",
       "    ws.send = function(m) {\n",
       "        //console.log('sending', m);\n",
       "        comm.send(m);\n",
       "    };\n",
       "    // Register the callback with on_msg.\n",
       "    comm.on_msg(function(msg) {\n",
       "        //console.log('receiving', msg['content']['data'], msg);\n",
       "        // Pass the mpl event to the overridden (by mpl) onmessage function.\n",
       "        ws.onmessage(msg['content']['data'])\n",
       "    });\n",
       "    return ws;\n",
       "}\n",
       "\n",
       "mpl.mpl_figure_comm = function(comm, msg) {\n",
       "    // This is the function which gets called when the mpl process\n",
       "    // starts-up an IPython Comm through the \"matplotlib\" channel.\n",
       "\n",
       "    var id = msg.content.data.id;\n",
       "    // Get hold of the div created by the display call when the Comm\n",
       "    // socket was opened in Python.\n",
       "    var element = $(\"#\" + id);\n",
       "    var ws_proxy = comm_websocket_adapter(comm)\n",
       "\n",
       "    function ondownload(figure, format) {\n",
       "        window.open(figure.imageObj.src);\n",
       "    }\n",
       "\n",
       "    var fig = new mpl.figure(id, ws_proxy,\n",
       "                           ondownload,\n",
       "                           element.get(0));\n",
       "\n",
       "    // Call onopen now - mpl needs it, as it is assuming we've passed it a real\n",
       "    // web socket which is closed, not our websocket->open comm proxy.\n",
       "    ws_proxy.onopen();\n",
       "\n",
       "    fig.parent_element = element.get(0);\n",
       "    fig.cell_info = mpl.find_output_cell(\"<div id='\" + id + \"'></div>\");\n",
       "    if (!fig.cell_info) {\n",
       "        console.error(\"Failed to find cell for figure\", id, fig);\n",
       "        return;\n",
       "    }\n",
       "\n",
       "    var output_index = fig.cell_info[2]\n",
       "    var cell = fig.cell_info[0];\n",
       "\n",
       "};\n",
       "\n",
       "mpl.figure.prototype.handle_close = function(fig, msg) {\n",
       "    var width = fig.canvas.width/mpl.ratio\n",
       "    fig.root.unbind('remove')\n",
       "\n",
       "    // Update the output cell to use the data from the current canvas.\n",
       "    fig.push_to_output();\n",
       "    var dataURL = fig.canvas.toDataURL();\n",
       "    // Re-enable the keyboard manager in IPython - without this line, in FF,\n",
       "    // the notebook keyboard shortcuts fail.\n",
       "    IPython.keyboard_manager.enable()\n",
       "    $(fig.parent_element).html('<img src=\"' + dataURL + '\" width=\"' + width + '\">');\n",
       "    fig.close_ws(fig, msg);\n",
       "}\n",
       "\n",
       "mpl.figure.prototype.close_ws = function(fig, msg){\n",
       "    fig.send_message('closing', msg);\n",
       "    // fig.ws.close()\n",
       "}\n",
       "\n",
       "mpl.figure.prototype.push_to_output = function(remove_interactive) {\n",
       "    // Turn the data on the canvas into data in the output cell.\n",
       "    var width = this.canvas.width/mpl.ratio\n",
       "    var dataURL = this.canvas.toDataURL();\n",
       "    this.cell_info[1]['text/html'] = '<img src=\"' + dataURL + '\" width=\"' + width + '\">';\n",
       "}\n",
       "\n",
       "mpl.figure.prototype.updated_canvas_event = function() {\n",
       "    // Tell IPython that the notebook contents must change.\n",
       "    IPython.notebook.set_dirty(true);\n",
       "    this.send_message(\"ack\", {});\n",
       "    var fig = this;\n",
       "    // Wait a second, then push the new image to the DOM so\n",
       "    // that it is saved nicely (might be nice to debounce this).\n",
       "    setTimeout(function () { fig.push_to_output() }, 1000);\n",
       "}\n",
       "\n",
       "mpl.figure.prototype._init_toolbar = function() {\n",
       "    var fig = this;\n",
       "\n",
       "    var nav_element = $('<div/>')\n",
       "    nav_element.attr('style', 'width: 100%');\n",
       "    this.root.append(nav_element);\n",
       "\n",
       "    // Define a callback function for later on.\n",
       "    function toolbar_event(event) {\n",
       "        return fig.toolbar_button_onclick(event['data']);\n",
       "    }\n",
       "    function toolbar_mouse_event(event) {\n",
       "        return fig.toolbar_button_onmouseover(event['data']);\n",
       "    }\n",
       "\n",
       "    for(var toolbar_ind in mpl.toolbar_items){\n",
       "        var name = mpl.toolbar_items[toolbar_ind][0];\n",
       "        var tooltip = mpl.toolbar_items[toolbar_ind][1];\n",
       "        var image = mpl.toolbar_items[toolbar_ind][2];\n",
       "        var method_name = mpl.toolbar_items[toolbar_ind][3];\n",
       "\n",
       "        if (!name) { continue; };\n",
       "\n",
       "        var button = $('<button class=\"btn btn-default\" href=\"#\" title=\"' + name + '\"><i class=\"fa ' + image + ' fa-lg\"></i></button>');\n",
       "        button.click(method_name, toolbar_event);\n",
       "        button.mouseover(tooltip, toolbar_mouse_event);\n",
       "        nav_element.append(button);\n",
       "    }\n",
       "\n",
       "    // Add the status bar.\n",
       "    var status_bar = $('<span class=\"mpl-message\" style=\"text-align:right; float: right;\"/>');\n",
       "    nav_element.append(status_bar);\n",
       "    this.message = status_bar[0];\n",
       "\n",
       "    // Add the close button to the window.\n",
       "    var buttongrp = $('<div class=\"btn-group inline pull-right\"></div>');\n",
       "    var button = $('<button class=\"btn btn-mini btn-primary\" href=\"#\" title=\"Stop Interaction\"><i class=\"fa fa-power-off icon-remove icon-large\"></i></button>');\n",
       "    button.click(function (evt) { fig.handle_close(fig, {}); } );\n",
       "    button.mouseover('Stop Interaction', toolbar_mouse_event);\n",
       "    buttongrp.append(button);\n",
       "    var titlebar = this.root.find($('.ui-dialog-titlebar'));\n",
       "    titlebar.prepend(buttongrp);\n",
       "}\n",
       "\n",
       "mpl.figure.prototype._root_extra_style = function(el){\n",
       "    var fig = this\n",
       "    el.on(\"remove\", function(){\n",
       "\tfig.close_ws(fig, {});\n",
       "    });\n",
       "}\n",
       "\n",
       "mpl.figure.prototype._canvas_extra_style = function(el){\n",
       "    // this is important to make the div 'focusable\n",
       "    el.attr('tabindex', 0)\n",
       "    // reach out to IPython and tell the keyboard manager to turn it's self\n",
       "    // off when our div gets focus\n",
       "\n",
       "    // location in version 3\n",
       "    if (IPython.notebook.keyboard_manager) {\n",
       "        IPython.notebook.keyboard_manager.register_events(el);\n",
       "    }\n",
       "    else {\n",
       "        // location in version 2\n",
       "        IPython.keyboard_manager.register_events(el);\n",
       "    }\n",
       "\n",
       "}\n",
       "\n",
       "mpl.figure.prototype._key_event_extra = function(event, name) {\n",
       "    var manager = IPython.notebook.keyboard_manager;\n",
       "    if (!manager)\n",
       "        manager = IPython.keyboard_manager;\n",
       "\n",
       "    // Check for shift+enter\n",
       "    if (event.shiftKey && event.which == 13) {\n",
       "        this.canvas_div.blur();\n",
       "        event.shiftKey = false;\n",
       "        // Send a \"J\" for go to next cell\n",
       "        event.which = 74;\n",
       "        event.keyCode = 74;\n",
       "        manager.command_mode();\n",
       "        manager.handle_keydown(event);\n",
       "    }\n",
       "}\n",
       "\n",
       "mpl.figure.prototype.handle_save = function(fig, msg) {\n",
       "    fig.ondownload(fig, null);\n",
       "}\n",
       "\n",
       "\n",
       "mpl.find_output_cell = function(html_output) {\n",
       "    // Return the cell and output element which can be found *uniquely* in the notebook.\n",
       "    // Note - this is a bit hacky, but it is done because the \"notebook_saving.Notebook\"\n",
       "    // IPython event is triggered only after the cells have been serialised, which for\n",
       "    // our purposes (turning an active figure into a static one), is too late.\n",
       "    var cells = IPython.notebook.get_cells();\n",
       "    var ncells = cells.length;\n",
       "    for (var i=0; i<ncells; i++) {\n",
       "        var cell = cells[i];\n",
       "        if (cell.cell_type === 'code'){\n",
       "            for (var j=0; j<cell.output_area.outputs.length; j++) {\n",
       "                var data = cell.output_area.outputs[j];\n",
       "                if (data.data) {\n",
       "                    // IPython >= 3 moved mimebundle to data attribute of output\n",
       "                    data = data.data;\n",
       "                }\n",
       "                if (data['text/html'] == html_output) {\n",
       "                    return [cell, data, j];\n",
       "                }\n",
       "            }\n",
       "        }\n",
       "    }\n",
       "}\n",
       "\n",
       "// Register the function which deals with the matplotlib target/channel.\n",
       "// The kernel may be null if the page has been refreshed.\n",
       "if (IPython.notebook.kernel != null) {\n",
       "    IPython.notebook.kernel.comm_manager.register_target('matplotlib', mpl.mpl_figure_comm);\n",
       "}\n"
      ],
      "text/plain": [
       "<IPython.core.display.Javascript object>"
      ]
     },
     "metadata": {},
     "output_type": "display_data"
    },
    {
     "data": {
      "text/html": [
       "<img src=\"data:image/png;base64,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\" width=\"1000\">"
      ],
      "text/plain": [
       "<IPython.core.display.HTML object>"
      ]
     },
     "metadata": {},
     "output_type": "display_data"
    }
   ],
   "source": [
    "recon.reconstruct(iteration_count=-1, mode='static')\n",
    "recon.show()"
   ]
  },
  {
   "cell_type": "markdown",
   "metadata": {},
   "source": [
    "## Phase-Correlation Based Registration"
   ]
  },
  {
   "cell_type": "code",
   "execution_count": 84,
   "metadata": {
    "ExecuteTime": {
     "end_time": "2018-11-08T23:12:52.685722Z",
     "start_time": "2018-11-08T23:12:50.884559Z"
    }
   },
   "outputs": [],
   "source": [
    "offsets_xc = recon.register_measurements(method='xc', preprocess_methods=['normalize', 'highpass'], replace_untrusted=True,\n",
    "                                         debug=False, write_results=False, energy_ratio_threshold=100.0)"
   ]
  },
  {
   "cell_type": "markdown",
   "metadata": {},
   "source": [
    "## ORB-Based Registration"
   ]
  },
  {
   "cell_type": "code",
   "execution_count": 78,
   "metadata": {
    "ExecuteTime": {
     "end_time": "2018-11-08T23:12:06.943577Z",
     "start_time": "2018-11-08T23:11:44.138071Z"
    }
   },
   "outputs": [
    {
     "name": "stderr",
     "output_type": "stream",
     "text": [
      "/Users/zfphil/.conda/lib/python3.7/site-packages/scikit_image-0.14.1-py3.7-macosx-10.7-x86_64.egg/skimage/transform/_geometric.py:101: RuntimeWarning: Mean of empty slice.\n",
      "  src_mean = src.mean(axis=0)\n",
      "/Users/zfphil/.conda/lib/python3.7/site-packages/scikit_image-0.14.1-py3.7-macosx-10.7-x86_64.egg/skimage/transform/_geometric.py:102: RuntimeWarning: Mean of empty slice.\n",
      "  dst_mean = dst.mean(axis=0)\n"
     ]
    }
   ],
   "source": [
    "offsets_orb = recon.register_measurements(method='orb', preprocess_methods=['normalize'], debug=False, write_results=False)"
   ]
  },
  {
   "cell_type": "markdown",
   "metadata": {},
   "source": [
    "# Compare XC and ORB"
   ]
  },
  {
   "cell_type": "code",
   "execution_count": 85,
   "metadata": {
    "ExecuteTime": {
     "end_time": "2018-11-08T23:12:53.388617Z",
     "start_time": "2018-11-08T23:12:53.317622Z"
    }
   },
   "outputs": [
    {
     "data": {
      "application/javascript": [
       "/* Put everything inside the global mpl namespace */\n",
       "window.mpl = {};\n",
       "\n",
       "\n",
       "mpl.get_websocket_type = function() {\n",
       "    if (typeof(WebSocket) !== 'undefined') {\n",
       "        return WebSocket;\n",
       "    } else if (typeof(MozWebSocket) !== 'undefined') {\n",
       "        return MozWebSocket;\n",
       "    } else {\n",
       "        alert('Your browser does not have WebSocket support.' +\n",
       "              'Please try Chrome, Safari or Firefox ≥ 6. ' +\n",
       "              'Firefox 4 and 5 are also supported but you ' +\n",
       "              'have to enable WebSockets in about:config.');\n",
       "    };\n",
       "}\n",
       "\n",
       "mpl.figure = function(figure_id, websocket, ondownload, parent_element) {\n",
       "    this.id = figure_id;\n",
       "\n",
       "    this.ws = websocket;\n",
       "\n",
       "    this.supports_binary = (this.ws.binaryType != undefined);\n",
       "\n",
       "    if (!this.supports_binary) {\n",
       "        var warnings = document.getElementById(\"mpl-warnings\");\n",
       "        if (warnings) {\n",
       "            warnings.style.display = 'block';\n",
       "            warnings.textContent = (\n",
       "                \"This browser does not support binary websocket messages. \" +\n",
       "                    \"Performance may be slow.\");\n",
       "        }\n",
       "    }\n",
       "\n",
       "    this.imageObj = new Image();\n",
       "\n",
       "    this.context = undefined;\n",
       "    this.message = undefined;\n",
       "    this.canvas = undefined;\n",
       "    this.rubberband_canvas = undefined;\n",
       "    this.rubberband_context = undefined;\n",
       "    this.format_dropdown = undefined;\n",
       "\n",
       "    this.image_mode = 'full';\n",
       "\n",
       "    this.root = $('<div/>');\n",
       "    this._root_extra_style(this.root)\n",
       "    this.root.attr('style', 'display: inline-block');\n",
       "\n",
       "    $(parent_element).append(this.root);\n",
       "\n",
       "    this._init_header(this);\n",
       "    this._init_canvas(this);\n",
       "    this._init_toolbar(this);\n",
       "\n",
       "    var fig = this;\n",
       "\n",
       "    this.waiting = false;\n",
       "\n",
       "    this.ws.onopen =  function () {\n",
       "            fig.send_message(\"supports_binary\", {value: fig.supports_binary});\n",
       "            fig.send_message(\"send_image_mode\", {});\n",
       "            if (mpl.ratio != 1) {\n",
       "                fig.send_message(\"set_dpi_ratio\", {'dpi_ratio': mpl.ratio});\n",
       "            }\n",
       "            fig.send_message(\"refresh\", {});\n",
       "        }\n",
       "\n",
       "    this.imageObj.onload = function() {\n",
       "            if (fig.image_mode == 'full') {\n",
       "                // Full images could contain transparency (where diff images\n",
       "                // almost always do), so we need to clear the canvas so that\n",
       "                // there is no ghosting.\n",
       "                fig.context.clearRect(0, 0, fig.canvas.width, fig.canvas.height);\n",
       "            }\n",
       "            fig.context.drawImage(fig.imageObj, 0, 0);\n",
       "        };\n",
       "\n",
       "    this.imageObj.onunload = function() {\n",
       "        fig.ws.close();\n",
       "    }\n",
       "\n",
       "    this.ws.onmessage = this._make_on_message_function(this);\n",
       "\n",
       "    this.ondownload = ondownload;\n",
       "}\n",
       "\n",
       "mpl.figure.prototype._init_header = function() {\n",
       "    var titlebar = $(\n",
       "        '<div class=\"ui-dialog-titlebar ui-widget-header ui-corner-all ' +\n",
       "        'ui-helper-clearfix\"/>');\n",
       "    var titletext = $(\n",
       "        '<div class=\"ui-dialog-title\" style=\"width: 100%; ' +\n",
       "        'text-align: center; padding: 3px;\"/>');\n",
       "    titlebar.append(titletext)\n",
       "    this.root.append(titlebar);\n",
       "    this.header = titletext[0];\n",
       "}\n",
       "\n",
       "\n",
       "\n",
       "mpl.figure.prototype._canvas_extra_style = function(canvas_div) {\n",
       "\n",
       "}\n",
       "\n",
       "\n",
       "mpl.figure.prototype._root_extra_style = function(canvas_div) {\n",
       "\n",
       "}\n",
       "\n",
       "mpl.figure.prototype._init_canvas = function() {\n",
       "    var fig = this;\n",
       "\n",
       "    var canvas_div = $('<div/>');\n",
       "\n",
       "    canvas_div.attr('style', 'position: relative; clear: both; outline: 0');\n",
       "\n",
       "    function canvas_keyboard_event(event) {\n",
       "        return fig.key_event(event, event['data']);\n",
       "    }\n",
       "\n",
       "    canvas_div.keydown('key_press', canvas_keyboard_event);\n",
       "    canvas_div.keyup('key_release', canvas_keyboard_event);\n",
       "    this.canvas_div = canvas_div\n",
       "    this._canvas_extra_style(canvas_div)\n",
       "    this.root.append(canvas_div);\n",
       "\n",
       "    var canvas = $('<canvas/>');\n",
       "    canvas.addClass('mpl-canvas');\n",
       "    canvas.attr('style', \"left: 0; top: 0; z-index: 0; outline: 0\")\n",
       "\n",
       "    this.canvas = canvas[0];\n",
       "    this.context = canvas[0].getContext(\"2d\");\n",
       "\n",
       "    var backingStore = this.context.backingStorePixelRatio ||\n",
       "\tthis.context.webkitBackingStorePixelRatio ||\n",
       "\tthis.context.mozBackingStorePixelRatio ||\n",
       "\tthis.context.msBackingStorePixelRatio ||\n",
       "\tthis.context.oBackingStorePixelRatio ||\n",
       "\tthis.context.backingStorePixelRatio || 1;\n",
       "\n",
       "    mpl.ratio = (window.devicePixelRatio || 1) / backingStore;\n",
       "\n",
       "    var rubberband = $('<canvas/>');\n",
       "    rubberband.attr('style', \"position: absolute; left: 0; top: 0; z-index: 1;\")\n",
       "\n",
       "    var pass_mouse_events = true;\n",
       "\n",
       "    canvas_div.resizable({\n",
       "        start: function(event, ui) {\n",
       "            pass_mouse_events = false;\n",
       "        },\n",
       "        resize: function(event, ui) {\n",
       "            fig.request_resize(ui.size.width, ui.size.height);\n",
       "        },\n",
       "        stop: function(event, ui) {\n",
       "            pass_mouse_events = true;\n",
       "            fig.request_resize(ui.size.width, ui.size.height);\n",
       "        },\n",
       "    });\n",
       "\n",
       "    function mouse_event_fn(event) {\n",
       "        if (pass_mouse_events)\n",
       "            return fig.mouse_event(event, event['data']);\n",
       "    }\n",
       "\n",
       "    rubberband.mousedown('button_press', mouse_event_fn);\n",
       "    rubberband.mouseup('button_release', mouse_event_fn);\n",
       "    // Throttle sequential mouse events to 1 every 20ms.\n",
       "    rubberband.mousemove('motion_notify', mouse_event_fn);\n",
       "\n",
       "    rubberband.mouseenter('figure_enter', mouse_event_fn);\n",
       "    rubberband.mouseleave('figure_leave', mouse_event_fn);\n",
       "\n",
       "    canvas_div.on(\"wheel\", function (event) {\n",
       "        event = event.originalEvent;\n",
       "        event['data'] = 'scroll'\n",
       "        if (event.deltaY < 0) {\n",
       "            event.step = 1;\n",
       "        } else {\n",
       "            event.step = -1;\n",
       "        }\n",
       "        mouse_event_fn(event);\n",
       "    });\n",
       "\n",
       "    canvas_div.append(canvas);\n",
       "    canvas_div.append(rubberband);\n",
       "\n",
       "    this.rubberband = rubberband;\n",
       "    this.rubberband_canvas = rubberband[0];\n",
       "    this.rubberband_context = rubberband[0].getContext(\"2d\");\n",
       "    this.rubberband_context.strokeStyle = \"#000000\";\n",
       "\n",
       "    this._resize_canvas = function(width, height) {\n",
       "        // Keep the size of the canvas, canvas container, and rubber band\n",
       "        // canvas in synch.\n",
       "        canvas_div.css('width', width)\n",
       "        canvas_div.css('height', height)\n",
       "\n",
       "        canvas.attr('width', width * mpl.ratio);\n",
       "        canvas.attr('height', height * mpl.ratio);\n",
       "        canvas.attr('style', 'width: ' + width + 'px; height: ' + height + 'px;');\n",
       "\n",
       "        rubberband.attr('width', width);\n",
       "        rubberband.attr('height', height);\n",
       "    }\n",
       "\n",
       "    // Set the figure to an initial 600x600px, this will subsequently be updated\n",
       "    // upon first draw.\n",
       "    this._resize_canvas(600, 600);\n",
       "\n",
       "    // Disable right mouse context menu.\n",
       "    $(this.rubberband_canvas).bind(\"contextmenu\",function(e){\n",
       "        return false;\n",
       "    });\n",
       "\n",
       "    function set_focus () {\n",
       "        canvas.focus();\n",
       "        canvas_div.focus();\n",
       "    }\n",
       "\n",
       "    window.setTimeout(set_focus, 100);\n",
       "}\n",
       "\n",
       "mpl.figure.prototype._init_toolbar = function() {\n",
       "    var fig = this;\n",
       "\n",
       "    var nav_element = $('<div/>')\n",
       "    nav_element.attr('style', 'width: 100%');\n",
       "    this.root.append(nav_element);\n",
       "\n",
       "    // Define a callback function for later on.\n",
       "    function toolbar_event(event) {\n",
       "        return fig.toolbar_button_onclick(event['data']);\n",
       "    }\n",
       "    function toolbar_mouse_event(event) {\n",
       "        return fig.toolbar_button_onmouseover(event['data']);\n",
       "    }\n",
       "\n",
       "    for(var toolbar_ind in mpl.toolbar_items) {\n",
       "        var name = mpl.toolbar_items[toolbar_ind][0];\n",
       "        var tooltip = mpl.toolbar_items[toolbar_ind][1];\n",
       "        var image = mpl.toolbar_items[toolbar_ind][2];\n",
       "        var method_name = mpl.toolbar_items[toolbar_ind][3];\n",
       "\n",
       "        if (!name) {\n",
       "            // put a spacer in here.\n",
       "            continue;\n",
       "        }\n",
       "        var button = $('<button/>');\n",
       "        button.addClass('ui-button ui-widget ui-state-default ui-corner-all ' +\n",
       "                        'ui-button-icon-only');\n",
       "        button.attr('role', 'button');\n",
       "        button.attr('aria-disabled', 'false');\n",
       "        button.click(method_name, toolbar_event);\n",
       "        button.mouseover(tooltip, toolbar_mouse_event);\n",
       "\n",
       "        var icon_img = $('<span/>');\n",
       "        icon_img.addClass('ui-button-icon-primary ui-icon');\n",
       "        icon_img.addClass(image);\n",
       "        icon_img.addClass('ui-corner-all');\n",
       "\n",
       "        var tooltip_span = $('<span/>');\n",
       "        tooltip_span.addClass('ui-button-text');\n",
       "        tooltip_span.html(tooltip);\n",
       "\n",
       "        button.append(icon_img);\n",
       "        button.append(tooltip_span);\n",
       "\n",
       "        nav_element.append(button);\n",
       "    }\n",
       "\n",
       "    var fmt_picker_span = $('<span/>');\n",
       "\n",
       "    var fmt_picker = $('<select/>');\n",
       "    fmt_picker.addClass('mpl-toolbar-option ui-widget ui-widget-content');\n",
       "    fmt_picker_span.append(fmt_picker);\n",
       "    nav_element.append(fmt_picker_span);\n",
       "    this.format_dropdown = fmt_picker[0];\n",
       "\n",
       "    for (var ind in mpl.extensions) {\n",
       "        var fmt = mpl.extensions[ind];\n",
       "        var option = $(\n",
       "            '<option/>', {selected: fmt === mpl.default_extension}).html(fmt);\n",
       "        fmt_picker.append(option)\n",
       "    }\n",
       "\n",
       "    // Add hover states to the ui-buttons\n",
       "    $( \".ui-button\" ).hover(\n",
       "        function() { $(this).addClass(\"ui-state-hover\");},\n",
       "        function() { $(this).removeClass(\"ui-state-hover\");}\n",
       "    );\n",
       "\n",
       "    var status_bar = $('<span class=\"mpl-message\"/>');\n",
       "    nav_element.append(status_bar);\n",
       "    this.message = status_bar[0];\n",
       "}\n",
       "\n",
       "mpl.figure.prototype.request_resize = function(x_pixels, y_pixels) {\n",
       "    // Request matplotlib to resize the figure. Matplotlib will then trigger a resize in the client,\n",
       "    // which will in turn request a refresh of the image.\n",
       "    this.send_message('resize', {'width': x_pixels, 'height': y_pixels});\n",
       "}\n",
       "\n",
       "mpl.figure.prototype.send_message = function(type, properties) {\n",
       "    properties['type'] = type;\n",
       "    properties['figure_id'] = this.id;\n",
       "    this.ws.send(JSON.stringify(properties));\n",
       "}\n",
       "\n",
       "mpl.figure.prototype.send_draw_message = function() {\n",
       "    if (!this.waiting) {\n",
       "        this.waiting = true;\n",
       "        this.ws.send(JSON.stringify({type: \"draw\", figure_id: this.id}));\n",
       "    }\n",
       "}\n",
       "\n",
       "\n",
       "mpl.figure.prototype.handle_save = function(fig, msg) {\n",
       "    var format_dropdown = fig.format_dropdown;\n",
       "    var format = format_dropdown.options[format_dropdown.selectedIndex].value;\n",
       "    fig.ondownload(fig, format);\n",
       "}\n",
       "\n",
       "\n",
       "mpl.figure.prototype.handle_resize = function(fig, msg) {\n",
       "    var size = msg['size'];\n",
       "    if (size[0] != fig.canvas.width || size[1] != fig.canvas.height) {\n",
       "        fig._resize_canvas(size[0], size[1]);\n",
       "        fig.send_message(\"refresh\", {});\n",
       "    };\n",
       "}\n",
       "\n",
       "mpl.figure.prototype.handle_rubberband = function(fig, msg) {\n",
       "    var x0 = msg['x0'] / mpl.ratio;\n",
       "    var y0 = (fig.canvas.height - msg['y0']) / mpl.ratio;\n",
       "    var x1 = msg['x1'] / mpl.ratio;\n",
       "    var y1 = (fig.canvas.height - msg['y1']) / mpl.ratio;\n",
       "    x0 = Math.floor(x0) + 0.5;\n",
       "    y0 = Math.floor(y0) + 0.5;\n",
       "    x1 = Math.floor(x1) + 0.5;\n",
       "    y1 = Math.floor(y1) + 0.5;\n",
       "    var min_x = Math.min(x0, x1);\n",
       "    var min_y = Math.min(y0, y1);\n",
       "    var width = Math.abs(x1 - x0);\n",
       "    var height = Math.abs(y1 - y0);\n",
       "\n",
       "    fig.rubberband_context.clearRect(\n",
       "        0, 0, fig.canvas.width, fig.canvas.height);\n",
       "\n",
       "    fig.rubberband_context.strokeRect(min_x, min_y, width, height);\n",
       "}\n",
       "\n",
       "mpl.figure.prototype.handle_figure_label = function(fig, msg) {\n",
       "    // Updates the figure title.\n",
       "    fig.header.textContent = msg['label'];\n",
       "}\n",
       "\n",
       "mpl.figure.prototype.handle_cursor = function(fig, msg) {\n",
       "    var cursor = msg['cursor'];\n",
       "    switch(cursor)\n",
       "    {\n",
       "    case 0:\n",
       "        cursor = 'pointer';\n",
       "        break;\n",
       "    case 1:\n",
       "        cursor = 'default';\n",
       "        break;\n",
       "    case 2:\n",
       "        cursor = 'crosshair';\n",
       "        break;\n",
       "    case 3:\n",
       "        cursor = 'move';\n",
       "        break;\n",
       "    }\n",
       "    fig.rubberband_canvas.style.cursor = cursor;\n",
       "}\n",
       "\n",
       "mpl.figure.prototype.handle_message = function(fig, msg) {\n",
       "    fig.message.textContent = msg['message'];\n",
       "}\n",
       "\n",
       "mpl.figure.prototype.handle_draw = function(fig, msg) {\n",
       "    // Request the server to send over a new figure.\n",
       "    fig.send_draw_message();\n",
       "}\n",
       "\n",
       "mpl.figure.prototype.handle_image_mode = function(fig, msg) {\n",
       "    fig.image_mode = msg['mode'];\n",
       "}\n",
       "\n",
       "mpl.figure.prototype.updated_canvas_event = function() {\n",
       "    // Called whenever the canvas gets updated.\n",
       "    this.send_message(\"ack\", {});\n",
       "}\n",
       "\n",
       "// A function to construct a web socket function for onmessage handling.\n",
       "// Called in the figure constructor.\n",
       "mpl.figure.prototype._make_on_message_function = function(fig) {\n",
       "    return function socket_on_message(evt) {\n",
       "        if (evt.data instanceof Blob) {\n",
       "            /* FIXME: We get \"Resource interpreted as Image but\n",
       "             * transferred with MIME type text/plain:\" errors on\n",
       "             * Chrome.  But how to set the MIME type?  It doesn't seem\n",
       "             * to be part of the websocket stream */\n",
       "            evt.data.type = \"image/png\";\n",
       "\n",
       "            /* Free the memory for the previous frames */\n",
       "            if (fig.imageObj.src) {\n",
       "                (window.URL || window.webkitURL).revokeObjectURL(\n",
       "                    fig.imageObj.src);\n",
       "            }\n",
       "\n",
       "            fig.imageObj.src = (window.URL || window.webkitURL).createObjectURL(\n",
       "                evt.data);\n",
       "            fig.updated_canvas_event();\n",
       "            fig.waiting = false;\n",
       "            return;\n",
       "        }\n",
       "        else if (typeof evt.data === 'string' && evt.data.slice(0, 21) == \"data:image/png;base64\") {\n",
       "            fig.imageObj.src = evt.data;\n",
       "            fig.updated_canvas_event();\n",
       "            fig.waiting = false;\n",
       "            return;\n",
       "        }\n",
       "\n",
       "        var msg = JSON.parse(evt.data);\n",
       "        var msg_type = msg['type'];\n",
       "\n",
       "        // Call the  \"handle_{type}\" callback, which takes\n",
       "        // the figure and JSON message as its only arguments.\n",
       "        try {\n",
       "            var callback = fig[\"handle_\" + msg_type];\n",
       "        } catch (e) {\n",
       "            console.log(\"No handler for the '\" + msg_type + \"' message type: \", msg);\n",
       "            return;\n",
       "        }\n",
       "\n",
       "        if (callback) {\n",
       "            try {\n",
       "                // console.log(\"Handling '\" + msg_type + \"' message: \", msg);\n",
       "                callback(fig, msg);\n",
       "            } catch (e) {\n",
       "                console.log(\"Exception inside the 'handler_\" + msg_type + \"' callback:\", e, e.stack, msg);\n",
       "            }\n",
       "        }\n",
       "    };\n",
       "}\n",
       "\n",
       "// from http://stackoverflow.com/questions/1114465/getting-mouse-location-in-canvas\n",
       "mpl.findpos = function(e) {\n",
       "    //this section is from http://www.quirksmode.org/js/events_properties.html\n",
       "    var targ;\n",
       "    if (!e)\n",
       "        e = window.event;\n",
       "    if (e.target)\n",
       "        targ = e.target;\n",
       "    else if (e.srcElement)\n",
       "        targ = e.srcElement;\n",
       "    if (targ.nodeType == 3) // defeat Safari bug\n",
       "        targ = targ.parentNode;\n",
       "\n",
       "    // jQuery normalizes the pageX and pageY\n",
       "    // pageX,Y are the mouse positions relative to the document\n",
       "    // offset() returns the position of the element relative to the document\n",
       "    var x = e.pageX - $(targ).offset().left;\n",
       "    var y = e.pageY - $(targ).offset().top;\n",
       "\n",
       "    return {\"x\": x, \"y\": y};\n",
       "};\n",
       "\n",
       "/*\n",
       " * return a copy of an object with only non-object keys\n",
       " * we need this to avoid circular references\n",
       " * http://stackoverflow.com/a/24161582/3208463\n",
       " */\n",
       "function simpleKeys (original) {\n",
       "  return Object.keys(original).reduce(function (obj, key) {\n",
       "    if (typeof original[key] !== 'object')\n",
       "        obj[key] = original[key]\n",
       "    return obj;\n",
       "  }, {});\n",
       "}\n",
       "\n",
       "mpl.figure.prototype.mouse_event = function(event, name) {\n",
       "    var canvas_pos = mpl.findpos(event)\n",
       "\n",
       "    if (name === 'button_press')\n",
       "    {\n",
       "        this.canvas.focus();\n",
       "        this.canvas_div.focus();\n",
       "    }\n",
       "\n",
       "    var x = canvas_pos.x * mpl.ratio;\n",
       "    var y = canvas_pos.y * mpl.ratio;\n",
       "\n",
       "    this.send_message(name, {x: x, y: y, button: event.button,\n",
       "                             step: event.step,\n",
       "                             guiEvent: simpleKeys(event)});\n",
       "\n",
       "    /* This prevents the web browser from automatically changing to\n",
       "     * the text insertion cursor when the button is pressed.  We want\n",
       "     * to control all of the cursor setting manually through the\n",
       "     * 'cursor' event from matplotlib */\n",
       "    event.preventDefault();\n",
       "    return false;\n",
       "}\n",
       "\n",
       "mpl.figure.prototype._key_event_extra = function(event, name) {\n",
       "    // Handle any extra behaviour associated with a key event\n",
       "}\n",
       "\n",
       "mpl.figure.prototype.key_event = function(event, name) {\n",
       "\n",
       "    // Prevent repeat events\n",
       "    if (name == 'key_press')\n",
       "    {\n",
       "        if (event.which === this._key)\n",
       "            return;\n",
       "        else\n",
       "            this._key = event.which;\n",
       "    }\n",
       "    if (name == 'key_release')\n",
       "        this._key = null;\n",
       "\n",
       "    var value = '';\n",
       "    if (event.ctrlKey && event.which != 17)\n",
       "        value += \"ctrl+\";\n",
       "    if (event.altKey && event.which != 18)\n",
       "        value += \"alt+\";\n",
       "    if (event.shiftKey && event.which != 16)\n",
       "        value += \"shift+\";\n",
       "\n",
       "    value += 'k';\n",
       "    value += event.which.toString();\n",
       "\n",
       "    this._key_event_extra(event, name);\n",
       "\n",
       "    this.send_message(name, {key: value,\n",
       "                             guiEvent: simpleKeys(event)});\n",
       "    return false;\n",
       "}\n",
       "\n",
       "mpl.figure.prototype.toolbar_button_onclick = function(name) {\n",
       "    if (name == 'download') {\n",
       "        this.handle_save(this, null);\n",
       "    } else {\n",
       "        this.send_message(\"toolbar_button\", {name: name});\n",
       "    }\n",
       "};\n",
       "\n",
       "mpl.figure.prototype.toolbar_button_onmouseover = function(tooltip) {\n",
       "    this.message.textContent = tooltip;\n",
       "};\n",
       "mpl.toolbar_items = [[\"Home\", \"Reset original view\", \"fa fa-home icon-home\", \"home\"], [\"Back\", \"Back to previous view\", \"fa fa-arrow-left icon-arrow-left\", \"back\"], [\"Forward\", \"Forward to next view\", \"fa fa-arrow-right icon-arrow-right\", \"forward\"], [\"\", \"\", \"\", \"\"], [\"Pan\", \"Pan axes with left mouse, zoom with right\", \"fa fa-arrows icon-move\", \"pan\"], [\"Zoom\", \"Zoom to rectangle\", \"fa fa-square-o icon-check-empty\", \"zoom\"], [\"\", \"\", \"\", \"\"], [\"Download\", \"Download plot\", \"fa fa-floppy-o icon-save\", \"download\"]];\n",
       "\n",
       "mpl.extensions = [\"eps\", \"jpeg\", \"pdf\", \"png\", \"ps\", \"raw\", \"svg\", \"tif\"];\n",
       "\n",
       "mpl.default_extension = \"png\";var comm_websocket_adapter = function(comm) {\n",
       "    // Create a \"websocket\"-like object which calls the given IPython comm\n",
       "    // object with the appropriate methods. Currently this is a non binary\n",
       "    // socket, so there is still some room for performance tuning.\n",
       "    var ws = {};\n",
       "\n",
       "    ws.close = function() {\n",
       "        comm.close()\n",
       "    };\n",
       "    ws.send = function(m) {\n",
       "        //console.log('sending', m);\n",
       "        comm.send(m);\n",
       "    };\n",
       "    // Register the callback with on_msg.\n",
       "    comm.on_msg(function(msg) {\n",
       "        //console.log('receiving', msg['content']['data'], msg);\n",
       "        // Pass the mpl event to the overridden (by mpl) onmessage function.\n",
       "        ws.onmessage(msg['content']['data'])\n",
       "    });\n",
       "    return ws;\n",
       "}\n",
       "\n",
       "mpl.mpl_figure_comm = function(comm, msg) {\n",
       "    // This is the function which gets called when the mpl process\n",
       "    // starts-up an IPython Comm through the \"matplotlib\" channel.\n",
       "\n",
       "    var id = msg.content.data.id;\n",
       "    // Get hold of the div created by the display call when the Comm\n",
       "    // socket was opened in Python.\n",
       "    var element = $(\"#\" + id);\n",
       "    var ws_proxy = comm_websocket_adapter(comm)\n",
       "\n",
       "    function ondownload(figure, format) {\n",
       "        window.open(figure.imageObj.src);\n",
       "    }\n",
       "\n",
       "    var fig = new mpl.figure(id, ws_proxy,\n",
       "                           ondownload,\n",
       "                           element.get(0));\n",
       "\n",
       "    // Call onopen now - mpl needs it, as it is assuming we've passed it a real\n",
       "    // web socket which is closed, not our websocket->open comm proxy.\n",
       "    ws_proxy.onopen();\n",
       "\n",
       "    fig.parent_element = element.get(0);\n",
       "    fig.cell_info = mpl.find_output_cell(\"<div id='\" + id + \"'></div>\");\n",
       "    if (!fig.cell_info) {\n",
       "        console.error(\"Failed to find cell for figure\", id, fig);\n",
       "        return;\n",
       "    }\n",
       "\n",
       "    var output_index = fig.cell_info[2]\n",
       "    var cell = fig.cell_info[0];\n",
       "\n",
       "};\n",
       "\n",
       "mpl.figure.prototype.handle_close = function(fig, msg) {\n",
       "    var width = fig.canvas.width/mpl.ratio\n",
       "    fig.root.unbind('remove')\n",
       "\n",
       "    // Update the output cell to use the data from the current canvas.\n",
       "    fig.push_to_output();\n",
       "    var dataURL = fig.canvas.toDataURL();\n",
       "    // Re-enable the keyboard manager in IPython - without this line, in FF,\n",
       "    // the notebook keyboard shortcuts fail.\n",
       "    IPython.keyboard_manager.enable()\n",
       "    $(fig.parent_element).html('<img src=\"' + dataURL + '\" width=\"' + width + '\">');\n",
       "    fig.close_ws(fig, msg);\n",
       "}\n",
       "\n",
       "mpl.figure.prototype.close_ws = function(fig, msg){\n",
       "    fig.send_message('closing', msg);\n",
       "    // fig.ws.close()\n",
       "}\n",
       "\n",
       "mpl.figure.prototype.push_to_output = function(remove_interactive) {\n",
       "    // Turn the data on the canvas into data in the output cell.\n",
       "    var width = this.canvas.width/mpl.ratio\n",
       "    var dataURL = this.canvas.toDataURL();\n",
       "    this.cell_info[1]['text/html'] = '<img src=\"' + dataURL + '\" width=\"' + width + '\">';\n",
       "}\n",
       "\n",
       "mpl.figure.prototype.updated_canvas_event = function() {\n",
       "    // Tell IPython that the notebook contents must change.\n",
       "    IPython.notebook.set_dirty(true);\n",
       "    this.send_message(\"ack\", {});\n",
       "    var fig = this;\n",
       "    // Wait a second, then push the new image to the DOM so\n",
       "    // that it is saved nicely (might be nice to debounce this).\n",
       "    setTimeout(function () { fig.push_to_output() }, 1000);\n",
       "}\n",
       "\n",
       "mpl.figure.prototype._init_toolbar = function() {\n",
       "    var fig = this;\n",
       "\n",
       "    var nav_element = $('<div/>')\n",
       "    nav_element.attr('style', 'width: 100%');\n",
       "    this.root.append(nav_element);\n",
       "\n",
       "    // Define a callback function for later on.\n",
       "    function toolbar_event(event) {\n",
       "        return fig.toolbar_button_onclick(event['data']);\n",
       "    }\n",
       "    function toolbar_mouse_event(event) {\n",
       "        return fig.toolbar_button_onmouseover(event['data']);\n",
       "    }\n",
       "\n",
       "    for(var toolbar_ind in mpl.toolbar_items){\n",
       "        var name = mpl.toolbar_items[toolbar_ind][0];\n",
       "        var tooltip = mpl.toolbar_items[toolbar_ind][1];\n",
       "        var image = mpl.toolbar_items[toolbar_ind][2];\n",
       "        var method_name = mpl.toolbar_items[toolbar_ind][3];\n",
       "\n",
       "        if (!name) { continue; };\n",
       "\n",
       "        var button = $('<button class=\"btn btn-default\" href=\"#\" title=\"' + name + '\"><i class=\"fa ' + image + ' fa-lg\"></i></button>');\n",
       "        button.click(method_name, toolbar_event);\n",
       "        button.mouseover(tooltip, toolbar_mouse_event);\n",
       "        nav_element.append(button);\n",
       "    }\n",
       "\n",
       "    // Add the status bar.\n",
       "    var status_bar = $('<span class=\"mpl-message\" style=\"text-align:right; float: right;\"/>');\n",
       "    nav_element.append(status_bar);\n",
       "    this.message = status_bar[0];\n",
       "\n",
       "    // Add the close button to the window.\n",
       "    var buttongrp = $('<div class=\"btn-group inline pull-right\"></div>');\n",
       "    var button = $('<button class=\"btn btn-mini btn-primary\" href=\"#\" title=\"Stop Interaction\"><i class=\"fa fa-power-off icon-remove icon-large\"></i></button>');\n",
       "    button.click(function (evt) { fig.handle_close(fig, {}); } );\n",
       "    button.mouseover('Stop Interaction', toolbar_mouse_event);\n",
       "    buttongrp.append(button);\n",
       "    var titlebar = this.root.find($('.ui-dialog-titlebar'));\n",
       "    titlebar.prepend(buttongrp);\n",
       "}\n",
       "\n",
       "mpl.figure.prototype._root_extra_style = function(el){\n",
       "    var fig = this\n",
       "    el.on(\"remove\", function(){\n",
       "\tfig.close_ws(fig, {});\n",
       "    });\n",
       "}\n",
       "\n",
       "mpl.figure.prototype._canvas_extra_style = function(el){\n",
       "    // this is important to make the div 'focusable\n",
       "    el.attr('tabindex', 0)\n",
       "    // reach out to IPython and tell the keyboard manager to turn it's self\n",
       "    // off when our div gets focus\n",
       "\n",
       "    // location in version 3\n",
       "    if (IPython.notebook.keyboard_manager) {\n",
       "        IPython.notebook.keyboard_manager.register_events(el);\n",
       "    }\n",
       "    else {\n",
       "        // location in version 2\n",
       "        IPython.keyboard_manager.register_events(el);\n",
       "    }\n",
       "\n",
       "}\n",
       "\n",
       "mpl.figure.prototype._key_event_extra = function(event, name) {\n",
       "    var manager = IPython.notebook.keyboard_manager;\n",
       "    if (!manager)\n",
       "        manager = IPython.keyboard_manager;\n",
       "\n",
       "    // Check for shift+enter\n",
       "    if (event.shiftKey && event.which == 13) {\n",
       "        this.canvas_div.blur();\n",
       "        event.shiftKey = false;\n",
       "        // Send a \"J\" for go to next cell\n",
       "        event.which = 74;\n",
       "        event.keyCode = 74;\n",
       "        manager.command_mode();\n",
       "        manager.handle_keydown(event);\n",
       "    }\n",
       "}\n",
       "\n",
       "mpl.figure.prototype.handle_save = function(fig, msg) {\n",
       "    fig.ondownload(fig, null);\n",
       "}\n",
       "\n",
       "\n",
       "mpl.find_output_cell = function(html_output) {\n",
       "    // Return the cell and output element which can be found *uniquely* in the notebook.\n",
       "    // Note - this is a bit hacky, but it is done because the \"notebook_saving.Notebook\"\n",
       "    // IPython event is triggered only after the cells have been serialised, which for\n",
       "    // our purposes (turning an active figure into a static one), is too late.\n",
       "    var cells = IPython.notebook.get_cells();\n",
       "    var ncells = cells.length;\n",
       "    for (var i=0; i<ncells; i++) {\n",
       "        var cell = cells[i];\n",
       "        if (cell.cell_type === 'code'){\n",
       "            for (var j=0; j<cell.output_area.outputs.length; j++) {\n",
       "                var data = cell.output_area.outputs[j];\n",
       "                if (data.data) {\n",
       "                    // IPython >= 3 moved mimebundle to data attribute of output\n",
       "                    data = data.data;\n",
       "                }\n",
       "                if (data['text/html'] == html_output) {\n",
       "                    return [cell, data, j];\n",
       "                }\n",
       "            }\n",
       "        }\n",
       "    }\n",
       "}\n",
       "\n",
       "// Register the function which deals with the matplotlib target/channel.\n",
       "// The kernel may be null if the page has been refreshed.\n",
       "if (IPython.notebook.kernel != null) {\n",
       "    IPython.notebook.kernel.comm_manager.register_target('matplotlib', mpl.mpl_figure_comm);\n",
       "}\n"
      ],
      "text/plain": [
       "<IPython.core.display.Javascript object>"
      ]
     },
     "metadata": {},
     "output_type": "display_data"
    },
    {
     "data": {
      "text/html": [
       "<img src=\"data:image/png;base64,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\" width=\"1200\">"
      ],
      "text/plain": [
       "<IPython.core.display.HTML object>"
      ]
     },
     "metadata": {},
     "output_type": "display_data"
    },
    {
     "data": {
      "text/plain": [
       "Text(0.5, 1.0, 'Relative Offset')"
      ]
     },
     "execution_count": 85,
     "metadata": {},
     "output_type": "execute_result"
    }
   ],
   "source": [
    "plt.figure()\n",
    "plt.subplot(121)\n",
    "plt.plot(np.asarray(offsets_xc)[:, 1], label='xc')\n",
    "plt.plot(np.asarray(offsets_orb)[:, 1], label='orb')\n",
    "plt.legend()\n",
    "plt.xlabel('Frame')\n",
    "plt.ylabel('Offset')\n",
    "plt.title('Absolute Offset')\n",
    "\n",
    "plt.subplot(122)\n",
    "plt.plot(np.diff(np.asarray(offsets_xc)[:, 1]), label='xc')\n",
    "plt.plot(np.diff(np.asarray(offsets_orb)[:, 1]), label='orb')\n",
    "plt.legend()\n",
    "plt.xlabel('Frame')\n",
    "plt.ylabel('Relative Offset')\n",
    "plt.title('Relative Offset')"
   ]
  },
  {
   "cell_type": "markdown",
   "metadata": {},
   "source": [
    "## Optimization-Based Registration"
   ]
  },
  {
   "cell_type": "code",
   "execution_count": 6,
   "metadata": {
    "ExecuteTime": {
     "end_time": "2018-11-07T16:16:52.427130Z",
     "start_time": "2018-11-07T16:10:54.424563Z"
    }
   },
   "outputs": [
    {
     "name": "stdout",
     "output_type": "stream",
     "text": [
      "Minimizing function:\n"
     ]
    },
    {
     "data": {
      "text/latex": [
       "$A(\\vec{x}) = \\frac{1}{2} ||(diag(\\vec{d})\\times e^{-i2\\pi \\vec{k} REAL \\times \\vec{x}} - \\vec{y} )||_2^2$"
      ],
      "text/plain": [
       "<IPython.core.display.Latex object>"
      ]
     },
     "metadata": {},
     "output_type": "display_data"
    },
    {
     "name": "stdout",
     "output_type": "stream",
     "text": [
      "\u001b[94m|  Iter  |      Cost      | Elapsed time (s) |  Norm of Step  | Memory Usage (CPU/GPU) |\u001b[0m\n",
      "\u001b[94m+ ------ + -------------- + ---------------- + -------------- + ---------------------- +\u001b[0m\n",
      "|    0   |    7.96e+08    |       0.00       |    0.00e+00    | 3567.2 MB /    0.0 MB  |\n",
      "Met convergence requirement (delta < 1.00E-14) at iteration 54\n",
      "Minimizing function:\n"
     ]
    },
    {
     "data": {
      "text/latex": [
       "$A(\\vec{x}) = \\frac{1}{2} ||(diag(\\vec{d})\\times e^{-i2\\pi \\vec{k} REAL \\times \\vec{x}} - \\vec{y} )||_2^2$"
      ],
      "text/plain": [
       "<IPython.core.display.Latex object>"
      ]
     },
     "metadata": {},
     "output_type": "display_data"
    },
    {
     "name": "stdout",
     "output_type": "stream",
     "text": [
      "\u001b[94m|  Iter  |      Cost      | Elapsed time (s) |  Norm of Step  | Memory Usage (CPU/GPU) |\u001b[0m\n",
      "\u001b[94m+ ------ + -------------- + ---------------- + -------------- + ---------------------- +\u001b[0m\n",
      "|    0   |    6.69e+08    |       0.00       |    0.00e+00    | 3630.9 MB /    0.0 MB  |\n",
      "Met convergence requirement (delta < 1.00E-14) at iteration 69\n",
      "Minimizing function:\n"
     ]
    },
    {
     "data": {
      "text/latex": [
       "$A(\\vec{x}) = \\frac{1}{2} ||(diag(\\vec{d})\\times e^{-i2\\pi \\vec{k} REAL \\times \\vec{x}} - \\vec{y} )||_2^2$"
      ],
      "text/plain": [
       "<IPython.core.display.Latex object>"
      ]
     },
     "metadata": {},
     "output_type": "display_data"
    },
    {
     "name": "stdout",
     "output_type": "stream",
     "text": [
      "\u001b[94m|  Iter  |      Cost      | Elapsed time (s) |  Norm of Step  | Memory Usage (CPU/GPU) |\u001b[0m\n",
      "\u001b[94m+ ------ + -------------- + ---------------- + -------------- + ---------------------- +\u001b[0m\n",
      "|    0   |    7.58e+08    |       0.00       |    0.00e+00    | 3660.5 MB /    0.0 MB  |\n",
      "Met convergence requirement (delta < 1.00E-14) at iteration 98\n",
      "Minimizing function:\n"
     ]
    },
    {
     "data": {
      "text/latex": [
       "$A(\\vec{x}) = \\frac{1}{2} ||(diag(\\vec{d})\\times e^{-i2\\pi \\vec{k} REAL \\times \\vec{x}} - \\vec{y} )||_2^2$"
      ],
      "text/plain": [
       "<IPython.core.display.Latex object>"
      ]
     },
     "metadata": {},
     "output_type": "display_data"
    },
    {
     "name": "stdout",
     "output_type": "stream",
     "text": [
      "\u001b[94m|  Iter  |      Cost      | Elapsed time (s) |  Norm of Step  | Memory Usage (CPU/GPU) |\u001b[0m\n",
      "\u001b[94m+ ------ + -------------- + ---------------- + -------------- + ---------------------- +\u001b[0m\n",
      "|    0   |    4.94e+08    |       0.00       |    0.00e+00    | 3652.3 MB /    0.0 MB  |\n",
      "|  100   |    4.94e+08    |      10.43       |    1.48e-07    | 3727.2 MB /    0.0 MB  |\n",
      "Met convergence requirement (delta < 1.00E-14) at iteration 165\n",
      "Minimizing function:\n"
     ]
    },
    {
     "data": {
      "text/latex": [
       "$A(\\vec{x}) = \\frac{1}{2} ||(diag(\\vec{d})\\times e^{-i2\\pi \\vec{k} REAL \\times \\vec{x}} - \\vec{y} )||_2^2$"
      ],
      "text/plain": [
       "<IPython.core.display.Latex object>"
      ]
     },
     "metadata": {},
     "output_type": "display_data"
    },
    {
     "name": "stdout",
     "output_type": "stream",
     "text": [
      "\u001b[94m|  Iter  |      Cost      | Elapsed time (s) |  Norm of Step  | Memory Usage (CPU/GPU) |\u001b[0m\n",
      "\u001b[94m+ ------ + -------------- + ---------------- + -------------- + ---------------------- +\u001b[0m\n",
      "|    0   |    6.35e+07    |       0.00       |    0.00e+00    | 3650.8 MB /    0.0 MB  |\n",
      "Met convergence requirement (delta < 1.00E-14) at iteration 29\n",
      "Minimizing function:\n"
     ]
    },
    {
     "data": {
      "text/latex": [
       "$A(\\vec{x}) = \\frac{1}{2} ||(diag(\\vec{d})\\times e^{-i2\\pi \\vec{k} REAL \\times \\vec{x}} - \\vec{y} )||_2^2$"
      ],
      "text/plain": [
       "<IPython.core.display.Latex object>"
      ]
     },
     "metadata": {},
     "output_type": "display_data"
    },
    {
     "name": "stdout",
     "output_type": "stream",
     "text": [
      "\u001b[94m|  Iter  |      Cost      | Elapsed time (s) |  Norm of Step  | Memory Usage (CPU/GPU) |\u001b[0m\n",
      "\u001b[94m+ ------ + -------------- + ---------------- + -------------- + ---------------------- +\u001b[0m\n",
      "|    0   |    8.78e+07    |       0.00       |    0.00e+00    | 3729.9 MB /    0.0 MB  |\n",
      "Met convergence requirement (delta < 1.00E-14) at iteration 91\n",
      "Minimizing function:\n"
     ]
    },
    {
     "data": {
      "text/latex": [
       "$A(\\vec{x}) = \\frac{1}{2} ||(diag(\\vec{d})\\times e^{-i2\\pi \\vec{k} REAL \\times \\vec{x}} - \\vec{y} )||_2^2$"
      ],
      "text/plain": [
       "<IPython.core.display.Latex object>"
      ]
     },
     "metadata": {},
     "output_type": "display_data"
    },
    {
     "name": "stdout",
     "output_type": "stream",
     "text": [
      "\u001b[94m|  Iter  |      Cost      | Elapsed time (s) |  Norm of Step  | Memory Usage (CPU/GPU) |\u001b[0m\n",
      "\u001b[94m+ ------ + -------------- + ---------------- + -------------- + ---------------------- +\u001b[0m\n",
      "|    0   |    4.35e+07    |       0.00       |    0.00e+00    | 3683.7 MB /    0.0 MB  |\n",
      "Met convergence requirement (delta < 1.00E-14) at iteration 68\n",
      "Minimizing function:\n"
     ]
    },
    {
     "data": {
      "text/latex": [
       "$A(\\vec{x}) = \\frac{1}{2} ||(diag(\\vec{d})\\times e^{-i2\\pi \\vec{k} REAL \\times \\vec{x}} - \\vec{y} )||_2^2$"
      ],
      "text/plain": [
       "<IPython.core.display.Latex object>"
      ]
     },
     "metadata": {},
     "output_type": "display_data"
    },
    {
     "name": "stdout",
     "output_type": "stream",
     "text": [
      "\u001b[94m|  Iter  |      Cost      | Elapsed time (s) |  Norm of Step  | Memory Usage (CPU/GPU) |\u001b[0m\n",
      "\u001b[94m+ ------ + -------------- + ---------------- + -------------- + ---------------------- +\u001b[0m\n",
      "|    0   |    4.88e+07    |       0.00       |    0.00e+00    | 3721.8 MB /    0.0 MB  |\n",
      "Met convergence requirement (delta < 1.00E-14) at iteration 60\n",
      "Minimizing function:\n"
     ]
    },
    {
     "data": {
      "text/latex": [
       "$A(\\vec{x}) = \\frac{1}{2} ||(diag(\\vec{d})\\times e^{-i2\\pi \\vec{k} REAL \\times \\vec{x}} - \\vec{y} )||_2^2$"
      ],
      "text/plain": [
       "<IPython.core.display.Latex object>"
      ]
     },
     "metadata": {},
     "output_type": "display_data"
    },
    {
     "name": "stdout",
     "output_type": "stream",
     "text": [
      "\u001b[94m|  Iter  |      Cost      | Elapsed time (s) |  Norm of Step  | Memory Usage (CPU/GPU) |\u001b[0m\n",
      "\u001b[94m+ ------ + -------------- + ---------------- + -------------- + ---------------------- +\u001b[0m\n",
      "|    0   |    1.84e+07    |       0.00       |    0.00e+00    | 3742.9 MB /    0.0 MB  |\n",
      "|  100   |    1.83e+07    |      10.12       |    5.01e-08    | 3822.0 MB /    0.0 MB  |\n",
      "Met convergence requirement (delta < 1.00E-14) at iteration 125\n",
      "Minimizing function:\n"
     ]
    },
    {
     "data": {
      "text/latex": [
       "$A(\\vec{x}) = \\frac{1}{2} ||(diag(\\vec{d})\\times e^{-i2\\pi \\vec{k} REAL \\times \\vec{x}} - \\vec{y} )||_2^2$"
      ],
      "text/plain": [
       "<IPython.core.display.Latex object>"
      ]
     },
     "metadata": {},
     "output_type": "display_data"
    },
    {
     "name": "stdout",
     "output_type": "stream",
     "text": [
      "\u001b[94m|  Iter  |      Cost      | Elapsed time (s) |  Norm of Step  | Memory Usage (CPU/GPU) |\u001b[0m\n",
      "\u001b[94m+ ------ + -------------- + ---------------- + -------------- + ---------------------- +\u001b[0m\n",
      "|    0   |    7.04e+07    |       0.00       |    0.00e+00    | 3776.6 MB /    0.0 MB  |\n",
      "Met convergence requirement (delta < 1.00E-14) at iteration 59\n",
      "Minimizing function:\n"
     ]
    },
    {
     "data": {
      "text/latex": [
       "$A(\\vec{x}) = \\frac{1}{2} ||(diag(\\vec{d})\\times e^{-i2\\pi \\vec{k} REAL \\times \\vec{x}} - \\vec{y} )||_2^2$"
      ],
      "text/plain": [
       "<IPython.core.display.Latex object>"
      ]
     },
     "metadata": {},
     "output_type": "display_data"
    },
    {
     "name": "stdout",
     "output_type": "stream",
     "text": [
      "\u001b[94m|  Iter  |      Cost      | Elapsed time (s) |  Norm of Step  | Memory Usage (CPU/GPU) |\u001b[0m\n",
      "\u001b[94m+ ------ + -------------- + ---------------- + -------------- + ---------------------- +\u001b[0m\n",
      "|    0   |    1.83e+08    |       0.00       |    0.00e+00    | 3789.3 MB /    0.0 MB  |\n",
      "Met convergence requirement (delta < 1.00E-14) at iteration 90\n",
      "Minimizing function:\n"
     ]
    },
    {
     "data": {
      "text/latex": [
       "$A(\\vec{x}) = \\frac{1}{2} ||(diag(\\vec{d})\\times e^{-i2\\pi \\vec{k} REAL \\times \\vec{x}} - \\vec{y} )||_2^2$"
      ],
      "text/plain": [
       "<IPython.core.display.Latex object>"
      ]
     },
     "metadata": {},
     "output_type": "display_data"
    },
    {
     "name": "stdout",
     "output_type": "stream",
     "text": [
      "\u001b[94m|  Iter  |      Cost      | Elapsed time (s) |  Norm of Step  | Memory Usage (CPU/GPU) |\u001b[0m\n",
      "\u001b[94m+ ------ + -------------- + ---------------- + -------------- + ---------------------- +\u001b[0m\n",
      "|    0   |    7.30e+08    |       0.00       |    0.00e+00    | 3869.5 MB /    0.0 MB  |\n",
      "Met convergence requirement (delta < 1.00E-14) at iteration 70\n",
      "Minimizing function:\n"
     ]
    },
    {
     "data": {
      "text/latex": [
       "$A(\\vec{x}) = \\frac{1}{2} ||(diag(\\vec{d})\\times e^{-i2\\pi \\vec{k} REAL \\times \\vec{x}} - \\vec{y} )||_2^2$"
      ],
      "text/plain": [
       "<IPython.core.display.Latex object>"
      ]
     },
     "metadata": {},
     "output_type": "display_data"
    },
    {
     "name": "stdout",
     "output_type": "stream",
     "text": [
      "\u001b[94m|  Iter  |      Cost      | Elapsed time (s) |  Norm of Step  | Memory Usage (CPU/GPU) |\u001b[0m\n",
      "\u001b[94m+ ------ + -------------- + ---------------- + -------------- + ---------------------- +\u001b[0m\n",
      "|    0   |    1.98e+08    |       0.00       |    0.00e+00    | 3813.4 MB /    0.0 MB  |\n",
      "|  100   |    1.97e+08    |      11.23       |    2.42e-08    | 3881.1 MB /    0.0 MB  |\n",
      "Met convergence requirement (delta < 1.00E-14) at iteration 116\n",
      "Minimizing function:\n"
     ]
    },
    {
     "data": {
      "text/latex": [
       "$A(\\vec{x}) = \\frac{1}{2} ||(diag(\\vec{d})\\times e^{-i2\\pi \\vec{k} REAL \\times \\vec{x}} - \\vec{y} )||_2^2$"
      ],
      "text/plain": [
       "<IPython.core.display.Latex object>"
      ]
     },
     "metadata": {},
     "output_type": "display_data"
    },
    {
     "name": "stdout",
     "output_type": "stream",
     "text": [
      "\u001b[94m|  Iter  |      Cost      | Elapsed time (s) |  Norm of Step  | Memory Usage (CPU/GPU) |\u001b[0m\n",
      "\u001b[94m+ ------ + -------------- + ---------------- + -------------- + ---------------------- +\u001b[0m\n",
      "|    0   |    1.82e+08    |       0.00       |    0.00e+00    | 3903.3 MB /    0.0 MB  |\n",
      "|  100   |    1.81e+08    |      11.13       |    2.62e-07    | 3889.6 MB /    0.0 MB  |\n",
      "Met convergence requirement (delta < 1.00E-14) at iteration 140\n",
      "Minimizing function:\n"
     ]
    },
    {
     "data": {
      "text/latex": [
       "$A(\\vec{x}) = \\frac{1}{2} ||(diag(\\vec{d})\\times e^{-i2\\pi \\vec{k} REAL \\times \\vec{x}} - \\vec{y} )||_2^2$"
      ],
      "text/plain": [
       "<IPython.core.display.Latex object>"
      ]
     },
     "metadata": {},
     "output_type": "display_data"
    },
    {
     "name": "stdout",
     "output_type": "stream",
     "text": [
      "\u001b[94m|  Iter  |      Cost      | Elapsed time (s) |  Norm of Step  | Memory Usage (CPU/GPU) |\u001b[0m\n",
      "\u001b[94m+ ------ + -------------- + ---------------- + -------------- + ---------------------- +\u001b[0m\n",
      "|    0   |    1.04e+08    |       0.00       |    0.00e+00    | 3883.3 MB /    0.0 MB  |\n",
      "Met convergence requirement (delta < 1.00E-14) at iteration 80\n",
      "Minimizing function:\n"
     ]
    },
    {
     "data": {
      "text/latex": [
       "$A(\\vec{x}) = \\frac{1}{2} ||(diag(\\vec{d})\\times e^{-i2\\pi \\vec{k} REAL \\times \\vec{x}} - \\vec{y} )||_2^2$"
      ],
      "text/plain": [
       "<IPython.core.display.Latex object>"
      ]
     },
     "metadata": {},
     "output_type": "display_data"
    },
    {
     "name": "stdout",
     "output_type": "stream",
     "text": [
      "\u001b[94m|  Iter  |      Cost      | Elapsed time (s) |  Norm of Step  | Memory Usage (CPU/GPU) |\u001b[0m\n",
      "\u001b[94m+ ------ + -------------- + ---------------- + -------------- + ---------------------- +\u001b[0m\n",
      "|    0   |    8.38e+07    |       0.00       |    0.00e+00    | 3945.6 MB /    0.0 MB  |\n",
      "Met convergence requirement (delta < 1.00E-14) at iteration 60\n",
      "Minimizing function:\n"
     ]
    },
    {
     "data": {
      "text/latex": [
       "$A(\\vec{x}) = \\frac{1}{2} ||(diag(\\vec{d})\\times e^{-i2\\pi \\vec{k} REAL \\times \\vec{x}} - \\vec{y} )||_2^2$"
      ],
      "text/plain": [
       "<IPython.core.display.Latex object>"
      ]
     },
     "metadata": {},
     "output_type": "display_data"
    },
    {
     "name": "stdout",
     "output_type": "stream",
     "text": [
      "\u001b[94m|  Iter  |      Cost      | Elapsed time (s) |  Norm of Step  | Memory Usage (CPU/GPU) |\u001b[0m\n",
      "\u001b[94m+ ------ + -------------- + ---------------- + -------------- + ---------------------- +\u001b[0m\n",
      "|    0   |    1.74e+08    |       0.00       |    0.00e+00    | 3970.6 MB /    0.0 MB  |\n",
      "Met convergence requirement (delta < 1.00E-14) at iteration 47\n",
      "Minimizing function:\n"
     ]
    },
    {
     "data": {
      "text/latex": [
       "$A(\\vec{x}) = \\frac{1}{2} ||(diag(\\vec{d})\\times e^{-i2\\pi \\vec{k} REAL \\times \\vec{x}} - \\vec{y} )||_2^2$"
      ],
      "text/plain": [
       "<IPython.core.display.Latex object>"
      ]
     },
     "metadata": {},
     "output_type": "display_data"
    },
    {
     "name": "stdout",
     "output_type": "stream",
     "text": [
      "\u001b[94m|  Iter  |      Cost      | Elapsed time (s) |  Norm of Step  | Memory Usage (CPU/GPU) |\u001b[0m\n",
      "\u001b[94m+ ------ + -------------- + ---------------- + -------------- + ---------------------- +\u001b[0m\n",
      "|    0   |    1.12e+08    |       0.00       |    0.00e+00    | 3949.8 MB /    0.0 MB  |\n",
      "Met convergence requirement (delta < 1.00E-14) at iteration 54\n",
      "Minimizing function:\n"
     ]
    },
    {
     "data": {
      "text/latex": [
       "$A(\\vec{x}) = \\frac{1}{2} ||(diag(\\vec{d})\\times e^{-i2\\pi \\vec{k} REAL \\times \\vec{x}} - \\vec{y} )||_2^2$"
      ],
      "text/plain": [
       "<IPython.core.display.Latex object>"
      ]
     },
     "metadata": {},
     "output_type": "display_data"
    },
    {
     "name": "stdout",
     "output_type": "stream",
     "text": [
      "\u001b[94m|  Iter  |      Cost      | Elapsed time (s) |  Norm of Step  | Memory Usage (CPU/GPU) |\u001b[0m\n",
      "\u001b[94m+ ------ + -------------- + ---------------- + -------------- + ---------------------- +\u001b[0m\n",
      "|    0   |    2.17e+07    |       0.00       |    0.00e+00    | 3962.5 MB /    0.0 MB  |\n",
      "|  100   |    1.89e+07    |      11.53       |    7.98e-08    | 3948.8 MB /    0.0 MB  |\n",
      "|  200   |    1.89e+07    |      23.46       |    5.67e-09    | 4014.2 MB /    0.0 MB  |\n",
      "Met convergence requirement (delta < 1.00E-14) at iteration 214\n",
      "Minimizing function:\n"
     ]
    },
    {
     "data": {
      "text/latex": [
       "$A(\\vec{x}) = \\frac{1}{2} ||(diag(\\vec{d})\\times e^{-i2\\pi \\vec{k} REAL \\times \\vec{x}} - \\vec{y} )||_2^2$"
      ],
      "text/plain": [
       "<IPython.core.display.Latex object>"
      ]
     },
     "metadata": {},
     "output_type": "display_data"
    },
    {
     "name": "stdout",
     "output_type": "stream",
     "text": [
      "\u001b[94m|  Iter  |      Cost      | Elapsed time (s) |  Norm of Step  | Memory Usage (CPU/GPU) |\u001b[0m\n",
      "\u001b[94m+ ------ + -------------- + ---------------- + -------------- + ---------------------- +\u001b[0m\n",
      "|    0   |    3.22e+07    |       0.00       |    0.00e+00    | 4048.0 MB /    0.0 MB  |\n",
      "Met convergence requirement (delta < 1.00E-14) at iteration 97\n",
      "Minimizing function:\n"
     ]
    },
    {
     "data": {
      "text/latex": [
       "$A(\\vec{x}) = \\frac{1}{2} ||(diag(\\vec{d})\\times e^{-i2\\pi \\vec{k} REAL \\times \\vec{x}} - \\vec{y} )||_2^2$"
      ],
      "text/plain": [
       "<IPython.core.display.Latex object>"
      ]
     },
     "metadata": {},
     "output_type": "display_data"
    },
    {
     "name": "stdout",
     "output_type": "stream",
     "text": [
      "\u001b[94m|  Iter  |      Cost      | Elapsed time (s) |  Norm of Step  | Memory Usage (CPU/GPU) |\u001b[0m\n",
      "\u001b[94m+ ------ + -------------- + ---------------- + -------------- + ---------------------- +\u001b[0m\n",
      "|    0   |    2.05e+07    |       0.00       |    0.00e+00    | 4021.4 MB /    0.0 MB  |\n",
      "Met convergence requirement (delta < 1.00E-14) at iteration 93\n",
      "Minimizing function:\n"
     ]
    },
    {
     "data": {
      "text/latex": [
       "$A(\\vec{x}) = \\frac{1}{2} ||(diag(\\vec{d})\\times e^{-i2\\pi \\vec{k} REAL \\times \\vec{x}} - \\vec{y} )||_2^2$"
      ],
      "text/plain": [
       "<IPython.core.display.Latex object>"
      ]
     },
     "metadata": {},
     "output_type": "display_data"
    },
    {
     "name": "stdout",
     "output_type": "stream",
     "text": [
      "\u001b[94m|  Iter  |      Cost      | Elapsed time (s) |  Norm of Step  | Memory Usage (CPU/GPU) |\u001b[0m\n",
      "\u001b[94m+ ------ + -------------- + ---------------- + -------------- + ---------------------- +\u001b[0m\n",
      "|    0   |    2.07e+07    |       0.00       |    0.00e+00    | 4029.8 MB /    0.0 MB  |\n",
      "|  100   |    2.07e+07    |       9.90       |    6.74e-08    | 4096.6 MB /    0.0 MB  |\n",
      "|  200   |    2.07e+07    |      19.84       |    2.04e-08    | 4073.4 MB /    0.0 MB  |\n",
      "|  300   |    2.07e+07    |      29.81       |    5.50e-09    | 4052.3 MB /    0.0 MB  |\n",
      "|  400   |    2.07e+07    |      39.76       |    1.29e-09    | 4128.2 MB /    0.0 MB  |\n",
      "|  500   |    2.07e+07    |      49.72       |    4.91e-10    | 4102.9 MB /    0.0 MB  |\n",
      "|  600   |    2.07e+07    |      59.67       |    4.37e-11    | 4081.8 MB /    0.0 MB  |\n",
      "|  700   |    2.07e+07    |      69.61       |    1.49e-10    | 4157.8 MB /    0.0 MB  |\n",
      "|  800   |    2.07e+07    |      79.53       |    3.82e-11    | 4136.7 MB /    0.0 MB  |\n",
      "Met convergence requirement (delta < 1.00E-14) at iteration 856\n",
      "Minimizing function:\n"
     ]
    },
    {
     "data": {
      "text/latex": [
       "$A(\\vec{x}) = \\frac{1}{2} ||(diag(\\vec{d})\\times e^{-i2\\pi \\vec{k} REAL \\times \\vec{x}} - \\vec{y} )||_2^2$"
      ],
      "text/plain": [
       "<IPython.core.display.Latex object>"
      ]
     },
     "metadata": {},
     "output_type": "display_data"
    },
    {
     "name": "stdout",
     "output_type": "stream",
     "text": [
      "\u001b[94m|  Iter  |      Cost      | Elapsed time (s) |  Norm of Step  | Memory Usage (CPU/GPU) |\u001b[0m\n",
      "\u001b[94m+ ------ + -------------- + ---------------- + -------------- + ---------------------- +\u001b[0m\n",
      "|    0   |    7.00e+08    |       0.00       |    0.00e+00    | 4136.7 MB /    0.0 MB  |\n",
      "Met convergence requirement (delta < 1.00E-14) at iteration 96\n",
      "Minimizing function:\n"
     ]
    },
    {
     "data": {
      "text/latex": [
       "$A(\\vec{x}) = \\frac{1}{2} ||(diag(\\vec{d})\\times e^{-i2\\pi \\vec{k} REAL \\times \\vec{x}} - \\vec{y} )||_2^2$"
      ],
      "text/plain": [
       "<IPython.core.display.Latex object>"
      ]
     },
     "metadata": {},
     "output_type": "display_data"
    },
    {
     "name": "stdout",
     "output_type": "stream",
     "text": [
      "\u001b[94m|  Iter  |      Cost      | Elapsed time (s) |  Norm of Step  | Memory Usage (CPU/GPU) |\u001b[0m\n",
      "\u001b[94m+ ------ + -------------- + ---------------- + -------------- + ---------------------- +\u001b[0m\n",
      "|    0   |    9.05e+07    |       0.00       |    0.00e+00    | 4139.9 MB /    0.0 MB  |\n",
      "Met convergence requirement (delta < 1.00E-14) at iteration 37\n",
      "Minimizing function:\n"
     ]
    },
    {
     "data": {
      "text/latex": [
       "$A(\\vec{x}) = \\frac{1}{2} ||(diag(\\vec{d})\\times e^{-i2\\pi \\vec{k} REAL \\times \\vec{x}} - \\vec{y} )||_2^2$"
      ],
      "text/plain": [
       "<IPython.core.display.Latex object>"
      ]
     },
     "metadata": {},
     "output_type": "display_data"
    },
    {
     "name": "stdout",
     "output_type": "stream",
     "text": [
      "\u001b[94m|  Iter  |      Cost      | Elapsed time (s) |  Norm of Step  | Memory Usage (CPU/GPU) |\u001b[0m\n",
      "\u001b[94m+ ------ + -------------- + ---------------- + -------------- + ---------------------- +\u001b[0m\n",
      "|    0   |    4.38e+08    |       0.00       |    0.00e+00    | 4203.2 MB /    0.0 MB  |\n",
      "|  100   |    4.37e+08    |      10.82       |    6.18e-08    | 4193.8 MB /    0.0 MB  |\n",
      "Met convergence requirement (delta < 1.00E-14) at iteration 130\n",
      "Minimizing function:\n"
     ]
    },
    {
     "data": {
      "text/latex": [
       "$A(\\vec{x}) = \\frac{1}{2} ||(diag(\\vec{d})\\times e^{-i2\\pi \\vec{k} REAL \\times \\vec{x}} - \\vec{y} )||_2^2$"
      ],
      "text/plain": [
       "<IPython.core.display.Latex object>"
      ]
     },
     "metadata": {},
     "output_type": "display_data"
    },
    {
     "name": "stdout",
     "output_type": "stream",
     "text": [
      "\u001b[94m|  Iter  |      Cost      | Elapsed time (s) |  Norm of Step  | Memory Usage (CPU/GPU) |\u001b[0m\n",
      "\u001b[94m+ ------ + -------------- + ---------------- + -------------- + ---------------------- +\u001b[0m\n",
      "|    0   |    4.43e+08    |       0.00       |    0.00e+00    | 4253.9 MB /    0.0 MB  |\n",
      "|  100   |    4.42e+08    |      11.13       |    3.21e-07    | 4244.4 MB /    0.0 MB  |\n",
      "Met convergence requirement (delta < 1.00E-14) at iteration 130\n",
      "Minimizing function:\n"
     ]
    },
    {
     "data": {
      "text/latex": [
       "$A(\\vec{x}) = \\frac{1}{2} ||(diag(\\vec{d})\\times e^{-i2\\pi \\vec{k} REAL \\times \\vec{x}} - \\vec{y} )||_2^2$"
      ],
      "text/plain": [
       "<IPython.core.display.Latex object>"
      ]
     },
     "metadata": {},
     "output_type": "display_data"
    },
    {
     "name": "stdout",
     "output_type": "stream",
     "text": [
      "\u001b[94m|  Iter  |      Cost      | Elapsed time (s) |  Norm of Step  | Memory Usage (CPU/GPU) |\u001b[0m\n",
      "\u001b[94m+ ------ + -------------- + ---------------- + -------------- + ---------------------- +\u001b[0m\n",
      "|    0   |    1.88e+08    |       0.00       |    0.00e+00    | 4204.1 MB /    0.0 MB  |\n",
      "Met convergence requirement (delta < 1.00E-14) at iteration 48\n",
      "Minimizing function:\n"
     ]
    },
    {
     "data": {
      "text/latex": [
       "$A(\\vec{x}) = \\frac{1}{2} ||(diag(\\vec{d})\\times e^{-i2\\pi \\vec{k} REAL \\times \\vec{x}} - \\vec{y} )||_2^2$"
      ],
      "text/plain": [
       "<IPython.core.display.Latex object>"
      ]
     },
     "metadata": {},
     "output_type": "display_data"
    },
    {
     "name": "stdout",
     "output_type": "stream",
     "text": [
      "\u001b[94m|  Iter  |      Cost      | Elapsed time (s) |  Norm of Step  | Memory Usage (CPU/GPU) |\u001b[0m\n",
      "\u001b[94m+ ------ + -------------- + ---------------- + -------------- + ---------------------- +\u001b[0m\n",
      "|    0   |    8.02e+08    |       0.00       |    0.00e+00    | 4291.9 MB /    0.0 MB  |\n",
      "Met convergence requirement (delta < 1.00E-14) at iteration 73\n",
      "Minimizing function:\n"
     ]
    },
    {
     "data": {
      "text/latex": [
       "$A(\\vec{x}) = \\frac{1}{2} ||(diag(\\vec{d})\\times e^{-i2\\pi \\vec{k} REAL \\times \\vec{x}} - \\vec{y} )||_2^2$"
      ],
      "text/plain": [
       "<IPython.core.display.Latex object>"
      ]
     },
     "metadata": {},
     "output_type": "display_data"
    },
    {
     "name": "stdout",
     "output_type": "stream",
     "text": [
      "\u001b[94m|  Iter  |      Cost      | Elapsed time (s) |  Norm of Step  | Memory Usage (CPU/GPU) |\u001b[0m\n",
      "\u001b[94m+ ------ + -------------- + ---------------- + -------------- + ---------------------- +\u001b[0m\n",
      "|    0   |    8.35e+08    |       0.00       |    0.00e+00    | 4232.9 MB /    0.0 MB  |\n",
      "|  100   |    8.34e+08    |      10.26       |    1.31e-08    | 4320.4 MB /    0.0 MB  |\n",
      "Met convergence requirement (delta < 1.00E-14) at iteration 104\n",
      "[array([0, 0]), array([0, 0]), array([ 0, -1]), array([ 0, -1]), array([ 0, -1]), array([ 0, -1]), array([ 0, -1]), array([ 0, -1]), array([ 0, -1]), array([ 0, -1]), array([ 0, -1]), array([ 0, -1]), array([ 0, -1]), array([ 0, -1]), array([ 0, -1]), array([ 0, -1]), array([ 0, -1]), array([ 0, -1]), array([ 0, -1]), array([ 0, -1]), array([ 0, -1]), array([ 0, -1]), array([ 0, -1]), array([ 0, -1]), array([ 0, -1]), array([ 0, -1]), array([ 0, -2]), array([ 0, -2]), array([ 0, -3]), array([ 0, -3])]\n"
     ]
    }
   ],
   "source": [
    "offsets = recon.register_measurements(method='optimize', preprocess_methods=['normalize'], axis=1, debug=False, write_results=True)\n",
    "print(offsets)"
   ]
  }
 ],
 "metadata": {
  "anaconda-cloud": {},
  "kernelspec": {
   "display_name": "Python 3",
   "language": "python",
   "name": "python3"
  },
  "language_info": {
   "codemirror_mode": {
    "name": "ipython",
    "version": 3
   },
   "file_extension": ".py",
   "mimetype": "text/x-python",
   "name": "python",
   "nbconvert_exporter": "python",
   "pygments_lexer": "ipython3",
   "version": "3.7.0"
  },
  "latex_envs": {
   "LaTeX_envs_menu_present": true,
   "autocomplete": true,
   "bibliofile": "biblio.bib",
   "cite_by": "apalike",
   "current_citInitial": 1,
   "eqLabelWithNumbers": true,
   "eqNumInitial": 0,
   "hotkeys": {
    "equation": "Ctrl-E",
    "itemize": "Ctrl-I"
   },
   "labels_anchors": false,
   "latex_user_defs": false,
   "report_style_numbering": false,
   "user_envs_cfg": false
  },
  "toc": {
   "colors": {
    "hover_highlight": "#DAA520",
    "running_highlight": "#FF0000",
    "selected_highlight": "#FFD700"
   },
   "moveMenuLeft": true,
   "nav_menu": {
    "height": "148px",
    "width": "254px"
   },
   "navigate_menu": true,
   "number_sections": true,
   "sideBar": true,
   "threshold": 4,
   "toc_cell": false,
   "toc_section_display": "block",
   "toc_window_display": false,
   "widenNotebook": false
  },
  "varInspector": {
   "cols": {
    "lenName": 16,
    "lenType": 16,
    "lenVar": 40
   },
   "kernels_config": {
    "python": {
     "delete_cmd_postfix": "",
     "delete_cmd_prefix": "del ",
     "library": "var_list.py",
     "varRefreshCmd": "print(var_dic_list())"
    },
    "r": {
     "delete_cmd_postfix": ") ",
     "delete_cmd_prefix": "rm(",
     "library": "var_list.r",
     "varRefreshCmd": "cat(var_dic_list()) "
    }
   },
   "position": {
    "height": "807px",
    "left": "2098px",
    "right": "20px",
    "top": "144px",
    "width": "341px"
   },
   "types_to_exclude": [
    "module",
    "function",
    "builtin_function_or_method",
    "instance",
    "_Feature"
   ],
   "window_display": true
  }
 },
 "nbformat": 4,
 "nbformat_minor": 2
}
